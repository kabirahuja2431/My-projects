{
 "cells": [
  {
   "cell_type": "code",
   "execution_count": 63,
   "metadata": {
    "collapsed": false
   },
   "outputs": [
    {
     "name": "stderr",
     "output_type": "stream",
     "text": [
      "/home/kabir/anaconda3/lib/python3.6/site-packages/matplotlib/__init__.py:1401: UserWarning:  This call to matplotlib.use() has no effect\n",
      "because the backend has already been chosen;\n",
      "matplotlib.use() must be called *before* pylab, matplotlib.pyplot,\n",
      "or matplotlib.backends is imported for the first time.\n",
      "\n",
      "  warnings.warn(_use_error_msg)\n"
     ]
    }
   ],
   "source": [
    "import tensorflow as tf\n",
    "import numpy as np\n",
    "from sklearn import datasets\n",
    "import os\n",
    "import matplotlib\n",
    "matplotlib.use('Agg')"
   ]
  },
  {
   "cell_type": "markdown",
   "metadata": {},
   "source": [
    "# Loading and Visualizing the Dataset"
   ]
  },
  {
   "cell_type": "code",
   "execution_count": 2,
   "metadata": {
    "collapsed": false
   },
   "outputs": [
    {
     "data": {
      "image/png": "[encoded data removed]",
      "text/plain": [
       "<matplotlib.figure.Figure at 0x7f2dc5e2ae48>"
      ]
     },
     "metadata": {},
     "output_type": "display_data"
    }
   ],
   "source": [
    "X,y = datasets.make_moons()\n",
    "plt.scatter(X[:,0],X[:,1],marker = 'o',c = y,s = 25)\n",
    "plt.show()"
   ]
  },
  {
   "cell_type": "markdown",
   "metadata": {},
   "source": [
    "# Linear Classifier"
   ]
  },
  {
   "cell_type": "code",
   "execution_count": 39,
   "metadata": {
    "collapsed": false
   },
   "outputs": [],
   "source": [
    "def linear_model(learning_rate):\n",
    "    tf.reset_default_graph()\n",
    "\n",
    "    #placeholders to contain X and y while training\n",
    "    input_placeholder = tf.placeholder(tf.float32,[None,2])\n",
    "    output_placeholder = tf.placeholder(tf.int32,[None])\n",
    "    \n",
    "    #parameters for our linear classifier\n",
    "    with tf.variable_scope('W'):\n",
    "        W = tf.get_variable('W',shape = [2,2])\n",
    "        b = tf.get_variable('b',shape = [2])\n",
    "        \n",
    "    logits = tf.matmul(input_placeholder,W) + b\n",
    "    preds = tf.nn.softmax(logits)\n",
    "    loss = tf.reduce_mean(tf.nn.sparse_softmax_cross_entropy_with_logits(logits = logits, labels = output_placeholder))\n",
    "    optimizer = tf.train.GradientDescentOptimizer(learning_rate).minimize(loss)\n",
    "    \n",
    "    return dict(\n",
    "        input_placeholder = input_placeholder,\n",
    "        output_placeholder = output_placeholder,\n",
    "        W = W,\n",
    "        b = b,\n",
    "        loss = loss,\n",
    "        preds = preds,\n",
    "        saver = tf.train.Saver(),\n",
    "        optimizer = optimizer,\n",
    "    )\n",
    "    "
   ]
  },
  {
   "cell_type": "code",
   "execution_count": 69,
   "metadata": {
    "collapsed": false
   },
   "outputs": [],
   "source": [
    "def train(g,X,y):\n",
    "    with tf.Session() as sess:\n",
    "        sess.run(tf.global_variables_initializer())\n",
    "        ckpt = tf.train.get_checkpoint_state(os.path.dirname('checkpoints1/'))\n",
    "        if ckpt and ckpt.model_checkpoint_path:\n",
    "            g['saver'].restore(sess, ckpt.model_checkpoint_path)\n",
    "        losses = []\n",
    "        feed_dict = {g['input_placeholder']:X,g['output_placeholder']:y}\n",
    "        for i in range(1000):   \n",
    "            _,total_loss = sess.run([g['optimizer'],g['loss']],feed_dict)\n",
    "            losses.append(total_loss)\n",
    "            if i%100==0:\n",
    "                g['saver'].save(sess,'checkpoints1/itr'+str(i))\n",
    "                print('itr '+str(i)+\":\", total_loss)\n",
    "        return losses"
   ]
  },
  {
   "cell_type": "code",
   "execution_count": 41,
   "metadata": {
    "collapsed": true
   },
   "outputs": [],
   "source": [
    "g = linear_model(0.05)"
   ]
  },
  {
   "cell_type": "code",
   "execution_count": 42,
   "metadata": {
    "collapsed": false
   },
   "outputs": [
    {
     "name": "stdout",
     "output_type": "stream",
     "text": [
      "itr 0: 1.67338\n",
      "itr 100: 0.432523\n",
      "itr 200: 0.329387\n",
      "itr 300: 0.304876\n",
      "itr 400: 0.29324\n",
      "itr 500: 0.285934\n",
      "itr 600: 0.280756\n",
      "itr 700: 0.27687\n",
      "itr 800: 0.273858\n",
      "itr 900: 0.271478\n"
     ]
    }
   ],
   "source": [
    "lc_losses = train(g,X,y)"
   ]
  },
  {
   "cell_type": "code",
   "execution_count": 140,
   "metadata": {
    "collapsed": true
   },
   "outputs": [],
   "source": [
    "def model_predict(g,X,checkpoint):\n",
    "    with tf.Session() as sess:\n",
    "        sess.run(tf.global_variables_initializer())\n",
    "        ckpt = tf.train.get_checkpoint_state(os.path.dirname(checkpoint))\n",
    "        g['saver'].restore(sess, ckpt.model_checkpoint_path)\n",
    "        predictions = sess.run(g['preds'],{g['input_placeholder']:X})\n",
    "        predictions = np.argmax(predictions,1)\n",
    "    return predictions"
   ]
  },
  {
   "cell_type": "code",
   "execution_count": 143,
   "metadata": {
    "collapsed": false
   },
   "outputs": [],
   "source": [
    "def plot_decision_boundary(g,X,checkpoint,h=0.01):\n",
    "    # X - some data in 2dimensional np.array\n",
    "\n",
    "    x_min, x_max = X[:, 0].min() - .5, X[:, 0].max() + .5\n",
    "    y_min, y_max = X[:, 1].min() - .5, X[:, 1].max() + .5\n",
    "    xx, yy = np.meshgrid(np.arange(x_min, x_max, h),\n",
    "                     np.arange(y_min, y_max, h))\n",
    "\n",
    "    # here \"model\" is your model's prediction (classification) function\n",
    "    Z = model_predict(g,np.c_[xx.ravel(), yy.ravel()],checkpoint) \n",
    "\n",
    "    # Put the result into a color plot\n",
    "    Z = Z.reshape(xx.shape)\n",
    "    plt.contourf(xx, yy, Z,  cmap=plt.cm.Spectral)\n",
    "\n",
    "    # Plot also the training points\n",
    "    plt.scatter(X[:, 0], X[:, 1], marker = 'o',c = y,s = 15, cmap=plt.cm.Paired)\n",
    "    plt.savefig('myfig')\n",
    "    plt.show()\n"
   ]
  },
  {
   "cell_type": "code",
   "execution_count": 66,
   "metadata": {
    "collapsed": false
   },
   "outputs": [
    {
     "name": "stdout",
     "output_type": "stream",
     "text": [
      "INFO:tensorflow:Restoring parameters from checkpoints1/itr900\n"
     ]
    },
    {
     "data": {
      "image/png": "[encoded data removed]",
      "text/plain": [
       "<matplotlib.figure.Figure at 0x7f2dbc991dd8>"
      ]
     },
     "metadata": {},
     "output_type": "display_data"
    }
   ],
   "source": [
    "plot_decision_boundary(X)"
   ]
  },
  {
   "cell_type": "markdown",
   "metadata": {},
   "source": [
    "# Neural Networks"
   ]
  },
  {
   "cell_type": "code",
   "execution_count": 75,
   "metadata": {
    "collapsed": false
   },
   "outputs": [],
   "source": [
    "def neural_model(learning_rate = 0.01):\n",
    "    tf.reset_default_graph()\n",
    "    \n",
    "    input_placeholder = tf.placeholder(tf.float32,[None,2])\n",
    "    output_placeholder = tf.placeholder(tf.int32,[None])\n",
    "    \n",
    "    with tf.variable_scope('W1'):\n",
    "        W1 = tf.get_variable('W1',shape=[2,5],initializer=tf.truncated_normal_initializer())\n",
    "        b1 = tf.get_variable('b1',shape = [5],initializer = tf.constant_initializer(0.0))\n",
    "    a1 = tf.matmul(input_placeholder,W1) + b1\n",
    "    h1 = tf.nn.relu(a1)\n",
    "    with tf.variable_scope('W2'):\n",
    "        W2 = tf.get_variable('W2',shape=[5,2],initializer=tf.truncated_normal_initializer())\n",
    "        b2 = tf.get_variable('b2',shape = [2],initializer = tf.constant_initializer(0.0))\n",
    "    a2 = tf.matmul(h1,W2) + b2\n",
    "    h2 = tf.nn.relu(a2)\n",
    "    with tf.variable_scope('W3'):\n",
    "        W3 = tf.get_variable('W3',shape=[2,2],initializer=tf.truncated_normal_initializer())\n",
    "        b3 = tf.get_variable('b3',shape = [2],initializer = tf.constant_initializer(0.0))\n",
    "    logits = tf.matmul(h2,W3) + b3\n",
    "    preds = tf.nn.softmax(logits)\n",
    "    loss = tf.reduce_mean(tf.nn.sparse_softmax_cross_entropy_with_logits(logits = logits, labels = output_placeholder))\n",
    "    optimizer = tf.train.GradientDescentOptimizer(learning_rate).minimize(loss)\n",
    "    return dict(\n",
    "    input_placeholder = input_placeholder,\n",
    "    output_placeholder = output_placeholder,\n",
    "    loss = loss,\n",
    "    preds = preds,\n",
    "    saver = tf.train.Saver(),\n",
    "    optimizer = optimizer,\n",
    "    h2 = h2\n",
    "    )"
   ]
  },
  {
   "cell_type": "code",
   "execution_count": 103,
   "metadata": {
    "collapsed": true
   },
   "outputs": [],
   "source": [
    "def train_neural(g,X,y):\n",
    "    with tf.Session() as sess:\n",
    "        sess.run(tf.global_variables_initializer())\n",
    "        ckpt = tf.train.get_checkpoint_state(os.path.dirname('checkpoints2/'))\n",
    "        if ckpt and ckpt.model_checkpoint_path:\n",
    "            g['saver'].restore(sess, ckpt.model_checkpoint_path)\n",
    "        losses = []\n",
    "        feed_dict = {g['input_placeholder']:X,g['output_placeholder']:y}\n",
    "        for i in range(40000):   \n",
    "            _,total_loss = sess.run([g['optimizer'],g['loss']],feed_dict)\n",
    "            losses.append(total_loss)\n",
    "            if i%1000==0:\n",
    "                g['saver'].save(sess,'checkpoints2/itr'+str(i))\n",
    "                print('itr '+str(i)+\":\", total_loss)\n",
    "        hid2 = sess.run(g['h2'],{g['input_placeholder']:X})        \n",
    "        return hid2,losses"
   ]
  },
  {
   "cell_type": "code",
   "execution_count": 104,
   "metadata": {
    "collapsed": false
   },
   "outputs": [],
   "source": [
    "g = neural_model()"
   ]
  },
  {
   "cell_type": "code",
   "execution_count": 105,
   "metadata": {
    "collapsed": false,
    "scrolled": true
   },
   "outputs": [
    {
     "name": "stdout",
     "output_type": "stream",
     "text": [
      "INFO:tensorflow:Restoring parameters from checkpoints2/itr19000\n",
      "itr 0: 0.000546728\n",
      "itr 1000: 0.000542359\n",
      "itr 2000: 0.000537969\n",
      "itr 3000: 0.000533706\n",
      "itr 4000: 0.000529462\n",
      "itr 5000: 0.000525356\n",
      "itr 6000: 0.000521209\n",
      "itr 7000: 0.000517148\n",
      "itr 8000: 0.000513197\n",
      "itr 9000: 0.000509377\n",
      "itr 10000: 0.000505565\n",
      "itr 11000: 0.000501827\n",
      "itr 12000: 0.000498109\n",
      "itr 13000: 0.000494413\n",
      "itr 14000: 0.000490781\n",
      "itr 15000: 0.00048715\n",
      "itr 16000: 0.00048359\n",
      "itr 17000: 0.000479969\n",
      "itr 18000: 0.000476529\n",
      "itr 19000: 0.000473163\n",
      "itr 20000: 0.000469879\n",
      "itr 21000: 0.000466596\n",
      "itr 22000: 0.000463323\n",
      "itr 23000: 0.000460189\n",
      "itr 24000: 0.000457\n",
      "itr 25000: 0.000453941\n",
      "itr 26000: 0.000450845\n",
      "itr 27000: 0.000447754\n",
      "itr 28000: 0.00044475\n",
      "itr 29000: 0.000441805\n",
      "itr 30000: 0.00043897\n",
      "itr 31000: 0.000436196\n",
      "itr 32000: 0.00043337\n",
      "itr 33000: 0.00043061\n",
      "itr 34000: 0.000427851\n",
      "itr 35000: 0.000425157\n",
      "itr 36000: 0.000422408\n",
      "itr 37000: 0.000419724\n",
      "itr 38000: 0.000417039\n",
      "itr 39000: 0.000414364\n"
     ]
    }
   ],
   "source": [
    "hid2,losses_neural = train_neural(g,X,y)"
   ]
  },
  {
   "cell_type": "code",
   "execution_count": 106,
   "metadata": {
    "collapsed": false
   },
   "outputs": [
    {
     "data": {
      "image/png": "[encoded data removed]",
      "text/plain": [
       "<matplotlib.figure.Figure at 0x7f2dcbbfa9b0>"
      ]
     },
     "metadata": {},
     "output_type": "display_data"
    }
   ],
   "source": [
    "plt.scatter(hid2[:,0],hid2[:,1],marker = 'o',c = y,s = 25)\n",
    "plt.show()"
   ]
  },
  {
   "cell_type": "markdown",
   "metadata": {},
   "source": [
    "# Visualizing Decision Boundaries learned by Neural Nets"
   ]
  },
  {
   "cell_type": "code",
   "execution_count": 153,
   "metadata": {
    "collapsed": true
   },
   "outputs": [],
   "source": [
    "def neural_model_db(learning_rate = 0.01,n=5):\n",
    "    tf.reset_default_graph()\n",
    "    \n",
    "    input_placeholder = tf.placeholder(tf.float32,[None,2])\n",
    "    output_placeholder = tf.placeholder(tf.int32,[None])\n",
    "    \n",
    "    with tf.variable_scope('W1'):\n",
    "        W1 = tf.get_variable('W1',shape=[2,n],initializer=tf.truncated_normal_initializer())\n",
    "        b1 = tf.get_variable('b1',shape = [n],initializer = tf.constant_initializer(0.0))\n",
    "    a1 = tf.matmul(input_placeholder,W1) + b1\n",
    "    h1 = tf.nn.relu(a1)\n",
    "    with tf.variable_scope('W2'):\n",
    "        W2 = tf.get_variable('W2',shape=[n,2],initializer=tf.truncated_normal_initializer())\n",
    "        b2 = tf.get_variable('b2',shape = [2],initializer = tf.constant_initializer(0.0))\n",
    "    logits = tf.matmul(h1,W2) + b2\n",
    "    preds = tf.nn.softmax(logits)\n",
    "    loss = tf.reduce_mean(tf.nn.sparse_softmax_cross_entropy_with_logits(logits = logits, labels = output_placeholder))\n",
    "    optimizer = tf.train.GradientDescentOptimizer(learning_rate).minimize(loss)\n",
    "    return dict(\n",
    "    input_placeholder = input_placeholder,\n",
    "    output_placeholder = output_placeholder,\n",
    "    loss = loss,\n",
    "    preds = preds,\n",
    "    saver = tf.train.Saver(),\n",
    "    optimizer = optimizer\n",
    "    )"
   ]
  },
  {
   "cell_type": "code",
   "execution_count": 154,
   "metadata": {
    "collapsed": true
   },
   "outputs": [],
   "source": [
    "def train_neural_db(g,X,y):\n",
    "    with tf.Session() as sess:\n",
    "        sess.run(tf.global_variables_initializer())\n",
    "        ckpt = tf.train.get_checkpoint_state(os.path.dirname('checkpoints3/'))\n",
    "        if ckpt and ckpt.model_checkpoint_path:\n",
    "            g['saver'].restore(sess, ckpt.model_checkpoint_path)\n",
    "        losses = []\n",
    "        feed_dict = {g['input_placeholder']:X,g['output_placeholder']:y}\n",
    "        for i in range(90000):   \n",
    "            _,total_loss = sess.run([g['optimizer'],g['loss']],feed_dict)\n",
    "            losses.append(total_loss)\n",
    "            if i%1000==0:\n",
    "                g['saver'].save(sess,'checkpoints3/itr'+str(i))\n",
    "                print('itr '+str(i)+\":\", total_loss)\n",
    "        return losses"
   ]
  },
  {
   "cell_type": "code",
   "execution_count": 155,
   "metadata": {
    "collapsed": false
   },
   "outputs": [],
   "source": [
    "g1 = neural_model_db(0.01,15)"
   ]
  },
  {
   "cell_type": "code",
   "execution_count": 157,
   "metadata": {
    "collapsed": false
   },
   "outputs": [
    {
     "name": "stdout",
     "output_type": "stream",
     "text": [
      "itr 0: 1.35445\n",
      "itr 1000: 0.298054\n",
      "itr 2000: 0.260807\n",
      "itr 3000: 0.244762\n",
      "itr 4000: 0.235637\n",
      "itr 5000: 0.229495\n",
      "itr 6000: 0.222844\n",
      "itr 7000: 0.216618\n",
      "itr 8000: 0.208871\n",
      "itr 9000: 0.198361\n",
      "itr 10000: 0.18412\n",
      "itr 11000: 0.166097\n",
      "itr 12000: 0.144758\n",
      "itr 13000: 0.122841\n",
      "itr 14000: 0.102571\n",
      "itr 15000: 0.0853191\n",
      "itr 16000: 0.0716175\n",
      "itr 17000: 0.0605904\n",
      "itr 18000: 0.0520068\n",
      "itr 19000: 0.0451061\n",
      "itr 20000: 0.0395444\n",
      "itr 21000: 0.0350283\n",
      "itr 22000: 0.0313031\n",
      "itr 23000: 0.0281789\n",
      "itr 24000: 0.0255072\n",
      "itr 25000: 0.0232477\n",
      "itr 26000: 0.0213119\n",
      "itr 27000: 0.0196389\n",
      "itr 28000: 0.0181826\n",
      "itr 29000: 0.0169125\n",
      "itr 30000: 0.0157963\n",
      "itr 31000: 0.0148063\n",
      "itr 32000: 0.0139229\n",
      "itr 33000: 0.0131304\n",
      "itr 34000: 0.0124155\n",
      "itr 35000: 0.011768\n",
      "itr 36000: 0.0111793\n",
      "itr 37000: 0.0106434\n",
      "itr 38000: 0.0101533\n",
      "itr 39000: 0.00970275\n",
      "itr 40000: 0.00928757\n",
      "itr 41000: 0.00890375\n",
      "itr 42000: 0.00854785\n",
      "itr 43000: 0.00821728\n",
      "itr 44000: 0.00790328\n",
      "itr 45000: 0.00760398\n",
      "itr 46000: 0.00732514\n",
      "itr 47000: 0.00706521\n",
      "itr 48000: 0.00682253\n",
      "itr 49000: 0.00659543\n",
      "itr 50000: 0.00638183\n",
      "itr 51000: 0.00618079\n",
      "itr 52000: 0.00599119\n",
      "itr 53000: 0.00581202\n",
      "itr 54000: 0.00564253\n",
      "itr 55000: 0.005482\n",
      "itr 56000: 0.00532962\n",
      "itr 57000: 0.00518495\n",
      "itr 58000: 0.00504727\n",
      "itr 59000: 0.00491624\n",
      "itr 60000: 0.00479132\n",
      "itr 61000: 0.00467212\n",
      "itr 62000: 0.00455833\n",
      "itr 63000: 0.00444963\n",
      "itr 64000: 0.0043455\n",
      "itr 65000: 0.00424582\n",
      "itr 66000: 0.00415031\n",
      "itr 67000: 0.00405881\n",
      "itr 68000: 0.00397095\n",
      "itr 69000: 0.00388656\n",
      "itr 70000: 0.00380553\n",
      "itr 71000: 0.00372758\n",
      "itr 72000: 0.00365267\n",
      "itr 73000: 0.00358038\n",
      "itr 74000: 0.00351077\n",
      "itr 75000: 0.00344367\n",
      "itr 76000: 0.00337873\n",
      "itr 77000: 0.00331621\n",
      "itr 78000: 0.00325577\n",
      "itr 79000: 0.00319727\n",
      "itr 80000: 0.0031408\n",
      "itr 81000: 0.00308619\n",
      "itr 82000: 0.00303319\n",
      "itr 83000: 0.00298198\n",
      "itr 84000: 0.00293236\n",
      "itr 85000: 0.00288416\n",
      "itr 86000: 0.00283737\n",
      "itr 87000: 0.00279222\n",
      "itr 88000: 0.00274811\n",
      "itr 89000: 0.00270538\n"
     ]
    }
   ],
   "source": [
    "losses = train_neural_db(g1,X,y)"
   ]
  },
  {
   "cell_type": "code",
   "execution_count": 158,
   "metadata": {
    "collapsed": false
   },
   "outputs": [
    {
     "name": "stdout",
     "output_type": "stream",
     "text": [
      "INFO:tensorflow:Restoring parameters from checkpoints3/itr89000\n"
     ]
    },
    {
     "data": {
      "image/png": "[encoded data removed]",
      "text/plain": [
       "<matplotlib.figure.Figure at 0x7f2dbc934cc0>"
      ]
     },
     "metadata": {},
     "output_type": "display_data"
    }
   ],
   "source": [
    "plot_decision_boundary(g1,X,'checkpoints3/',h=0.01)"
   ]
  },
  {
   "cell_type": "code",
   "execution_count": 159,
   "metadata": {
    "collapsed": true
   },
   "outputs": [],
   "source": [
    "g2 = neural_model_db(0.01,10)"
   ]
  },
  {
   "cell_type": "code",
   "execution_count": 161,
   "metadata": {
    "collapsed": false
   },
   "outputs": [
    {
     "name": "stdout",
     "output_type": "stream",
     "text": [
      "itr 0: 0.670127\n",
      "itr 1000: 0.257899\n",
      "itr 2000: 0.21865\n",
      "itr 3000: 0.1924\n",
      "itr 4000: 0.167823\n",
      "itr 5000: 0.144273\n",
      "itr 6000: 0.122318\n",
      "itr 7000: 0.102685\n",
      "itr 8000: 0.0860541\n",
      "itr 9000: 0.0722417\n",
      "itr 10000: 0.0611999\n",
      "itr 11000: 0.0520385\n",
      "itr 12000: 0.044907\n",
      "itr 13000: 0.0390918\n",
      "itr 14000: 0.0343651\n",
      "itr 15000: 0.0305531\n",
      "itr 16000: 0.0273551\n",
      "itr 17000: 0.0246634\n",
      "itr 18000: 0.0223811\n",
      "itr 19000: 0.020419\n",
      "itr 20000: 0.0187621\n",
      "itr 21000: 0.0173097\n",
      "itr 22000: 0.0160463\n",
      "itr 23000: 0.0149373\n"
     ]
    },
    {
     "ename": "KeyboardInterrupt",
     "evalue": "",
     "output_type": "error",
     "traceback": [
      "\u001b[0;31m---------------------------------------------------------------------------\u001b[0m",
      "\u001b[0;31mKeyboardInterrupt\u001b[0m                         Traceback (most recent call last)",
      "\u001b[0;32m<ipython-input-161-940598249dcb>\u001b[0m in \u001b[0;36m<module>\u001b[0;34m()\u001b[0m\n\u001b[0;32m----> 1\u001b[0;31m \u001b[0mlosses\u001b[0m \u001b[0;34m=\u001b[0m \u001b[0mtrain_neural_db\u001b[0m\u001b[0;34m(\u001b[0m\u001b[0mg2\u001b[0m\u001b[0;34m,\u001b[0m\u001b[0mX\u001b[0m\u001b[0;34m,\u001b[0m\u001b[0my\u001b[0m\u001b[0;34m)\u001b[0m\u001b[0;34m\u001b[0m\u001b[0m\n\u001b[0m",
      "\u001b[0;32m<ipython-input-154-636e0191bb11>\u001b[0m in \u001b[0;36mtrain_neural_db\u001b[0;34m(g, X, y)\u001b[0m\n\u001b[1;32m      8\u001b[0m         \u001b[0mfeed_dict\u001b[0m \u001b[0;34m=\u001b[0m \u001b[0;34m{\u001b[0m\u001b[0mg\u001b[0m\u001b[0;34m[\u001b[0m\u001b[0;34m'input_placeholder'\u001b[0m\u001b[0;34m]\u001b[0m\u001b[0;34m:\u001b[0m\u001b[0mX\u001b[0m\u001b[0;34m,\u001b[0m\u001b[0mg\u001b[0m\u001b[0;34m[\u001b[0m\u001b[0;34m'output_placeholder'\u001b[0m\u001b[0;34m]\u001b[0m\u001b[0;34m:\u001b[0m\u001b[0my\u001b[0m\u001b[0;34m}\u001b[0m\u001b[0;34m\u001b[0m\u001b[0m\n\u001b[1;32m      9\u001b[0m         \u001b[0;32mfor\u001b[0m \u001b[0mi\u001b[0m \u001b[0;32min\u001b[0m \u001b[0mrange\u001b[0m\u001b[0;34m(\u001b[0m\u001b[0;36m90000\u001b[0m\u001b[0;34m)\u001b[0m\u001b[0;34m:\u001b[0m\u001b[0;34m\u001b[0m\u001b[0m\n\u001b[0;32m---> 10\u001b[0;31m             \u001b[0m_\u001b[0m\u001b[0;34m,\u001b[0m\u001b[0mtotal_loss\u001b[0m \u001b[0;34m=\u001b[0m \u001b[0msess\u001b[0m\u001b[0;34m.\u001b[0m\u001b[0mrun\u001b[0m\u001b[0;34m(\u001b[0m\u001b[0;34m[\u001b[0m\u001b[0mg\u001b[0m\u001b[0;34m[\u001b[0m\u001b[0;34m'optimizer'\u001b[0m\u001b[0;34m]\u001b[0m\u001b[0;34m,\u001b[0m\u001b[0mg\u001b[0m\u001b[0;34m[\u001b[0m\u001b[0;34m'loss'\u001b[0m\u001b[0;34m]\u001b[0m\u001b[0;34m]\u001b[0m\u001b[0;34m,\u001b[0m\u001b[0mfeed_dict\u001b[0m\u001b[0;34m)\u001b[0m\u001b[0;34m\u001b[0m\u001b[0m\n\u001b[0m\u001b[1;32m     11\u001b[0m             \u001b[0mlosses\u001b[0m\u001b[0;34m.\u001b[0m\u001b[0mappend\u001b[0m\u001b[0;34m(\u001b[0m\u001b[0mtotal_loss\u001b[0m\u001b[0;34m)\u001b[0m\u001b[0;34m\u001b[0m\u001b[0m\n\u001b[1;32m     12\u001b[0m             \u001b[0;32mif\u001b[0m \u001b[0mi\u001b[0m\u001b[0;34m%\u001b[0m\u001b[0;36m1000\u001b[0m\u001b[0;34m==\u001b[0m\u001b[0;36m0\u001b[0m\u001b[0;34m:\u001b[0m\u001b[0;34m\u001b[0m\u001b[0m\n",
      "\u001b[0;32m/home/kabir/anaconda3/lib/python3.6/site-packages/tensorflow/python/client/session.py\u001b[0m in \u001b[0;36mrun\u001b[0;34m(self, fetches, feed_dict, options, run_metadata)\u001b[0m\n\u001b[1;32m    787\u001b[0m     \u001b[0;32mtry\u001b[0m\u001b[0;34m:\u001b[0m\u001b[0;34m\u001b[0m\u001b[0m\n\u001b[1;32m    788\u001b[0m       result = self._run(None, fetches, feed_dict, options_ptr,\n\u001b[0;32m--> 789\u001b[0;31m                          run_metadata_ptr)\n\u001b[0m\u001b[1;32m    790\u001b[0m       \u001b[0;32mif\u001b[0m \u001b[0mrun_metadata\u001b[0m\u001b[0;34m:\u001b[0m\u001b[0;34m\u001b[0m\u001b[0m\n\u001b[1;32m    791\u001b[0m         \u001b[0mproto_data\u001b[0m \u001b[0;34m=\u001b[0m \u001b[0mtf_session\u001b[0m\u001b[0;34m.\u001b[0m\u001b[0mTF_GetBuffer\u001b[0m\u001b[0;34m(\u001b[0m\u001b[0mrun_metadata_ptr\u001b[0m\u001b[0;34m)\u001b[0m\u001b[0;34m\u001b[0m\u001b[0m\n",
      "\u001b[0;32m/home/kabir/anaconda3/lib/python3.6/site-packages/tensorflow/python/client/session.py\u001b[0m in \u001b[0;36m_run\u001b[0;34m(self, handle, fetches, feed_dict, options, run_metadata)\u001b[0m\n\u001b[1;32m    995\u001b[0m     \u001b[0;32mif\u001b[0m \u001b[0mfinal_fetches\u001b[0m \u001b[0;32mor\u001b[0m \u001b[0mfinal_targets\u001b[0m\u001b[0;34m:\u001b[0m\u001b[0;34m\u001b[0m\u001b[0m\n\u001b[1;32m    996\u001b[0m       results = self._do_run(handle, final_targets, final_fetches,\n\u001b[0;32m--> 997\u001b[0;31m                              feed_dict_string, options, run_metadata)\n\u001b[0m\u001b[1;32m    998\u001b[0m     \u001b[0;32melse\u001b[0m\u001b[0;34m:\u001b[0m\u001b[0;34m\u001b[0m\u001b[0m\n\u001b[1;32m    999\u001b[0m       \u001b[0mresults\u001b[0m \u001b[0;34m=\u001b[0m \u001b[0;34m[\u001b[0m\u001b[0;34m]\u001b[0m\u001b[0;34m\u001b[0m\u001b[0m\n",
      "\u001b[0;32m/home/kabir/anaconda3/lib/python3.6/site-packages/tensorflow/python/client/session.py\u001b[0m in \u001b[0;36m_do_run\u001b[0;34m(self, handle, target_list, fetch_list, feed_dict, options, run_metadata)\u001b[0m\n\u001b[1;32m   1130\u001b[0m     \u001b[0;32mif\u001b[0m \u001b[0mhandle\u001b[0m \u001b[0;32mis\u001b[0m \u001b[0;32mNone\u001b[0m\u001b[0;34m:\u001b[0m\u001b[0;34m\u001b[0m\u001b[0m\n\u001b[1;32m   1131\u001b[0m       return self._do_call(_run_fn, self._session, feed_dict, fetch_list,\n\u001b[0;32m-> 1132\u001b[0;31m                            target_list, options, run_metadata)\n\u001b[0m\u001b[1;32m   1133\u001b[0m     \u001b[0;32melse\u001b[0m\u001b[0;34m:\u001b[0m\u001b[0;34m\u001b[0m\u001b[0m\n\u001b[1;32m   1134\u001b[0m       return self._do_call(_prun_fn, self._session, handle, feed_dict,\n",
      "\u001b[0;32m/home/kabir/anaconda3/lib/python3.6/site-packages/tensorflow/python/client/session.py\u001b[0m in \u001b[0;36m_do_call\u001b[0;34m(self, fn, *args)\u001b[0m\n\u001b[1;32m   1137\u001b[0m   \u001b[0;32mdef\u001b[0m \u001b[0m_do_call\u001b[0m\u001b[0;34m(\u001b[0m\u001b[0mself\u001b[0m\u001b[0;34m,\u001b[0m \u001b[0mfn\u001b[0m\u001b[0;34m,\u001b[0m \u001b[0;34m*\u001b[0m\u001b[0margs\u001b[0m\u001b[0;34m)\u001b[0m\u001b[0;34m:\u001b[0m\u001b[0;34m\u001b[0m\u001b[0m\n\u001b[1;32m   1138\u001b[0m     \u001b[0;32mtry\u001b[0m\u001b[0;34m:\u001b[0m\u001b[0;34m\u001b[0m\u001b[0m\n\u001b[0;32m-> 1139\u001b[0;31m       \u001b[0;32mreturn\u001b[0m \u001b[0mfn\u001b[0m\u001b[0;34m(\u001b[0m\u001b[0;34m*\u001b[0m\u001b[0margs\u001b[0m\u001b[0;34m)\u001b[0m\u001b[0;34m\u001b[0m\u001b[0m\n\u001b[0m\u001b[1;32m   1140\u001b[0m     \u001b[0;32mexcept\u001b[0m \u001b[0merrors\u001b[0m\u001b[0;34m.\u001b[0m\u001b[0mOpError\u001b[0m \u001b[0;32mas\u001b[0m \u001b[0me\u001b[0m\u001b[0;34m:\u001b[0m\u001b[0;34m\u001b[0m\u001b[0m\n\u001b[1;32m   1141\u001b[0m       \u001b[0mmessage\u001b[0m \u001b[0;34m=\u001b[0m \u001b[0mcompat\u001b[0m\u001b[0;34m.\u001b[0m\u001b[0mas_text\u001b[0m\u001b[0;34m(\u001b[0m\u001b[0me\u001b[0m\u001b[0;34m.\u001b[0m\u001b[0mmessage\u001b[0m\u001b[0;34m)\u001b[0m\u001b[0;34m\u001b[0m\u001b[0m\n",
      "\u001b[0;32m/home/kabir/anaconda3/lib/python3.6/site-packages/tensorflow/python/client/session.py\u001b[0m in \u001b[0;36m_run_fn\u001b[0;34m(session, feed_dict, fetch_list, target_list, options, run_metadata)\u001b[0m\n\u001b[1;32m   1119\u001b[0m         return tf_session.TF_Run(session, options,\n\u001b[1;32m   1120\u001b[0m                                  \u001b[0mfeed_dict\u001b[0m\u001b[0;34m,\u001b[0m \u001b[0mfetch_list\u001b[0m\u001b[0;34m,\u001b[0m \u001b[0mtarget_list\u001b[0m\u001b[0;34m,\u001b[0m\u001b[0;34m\u001b[0m\u001b[0m\n\u001b[0;32m-> 1121\u001b[0;31m                                  status, run_metadata)\n\u001b[0m\u001b[1;32m   1122\u001b[0m \u001b[0;34m\u001b[0m\u001b[0m\n\u001b[1;32m   1123\u001b[0m     \u001b[0;32mdef\u001b[0m \u001b[0m_prun_fn\u001b[0m\u001b[0;34m(\u001b[0m\u001b[0msession\u001b[0m\u001b[0;34m,\u001b[0m \u001b[0mhandle\u001b[0m\u001b[0;34m,\u001b[0m \u001b[0mfeed_dict\u001b[0m\u001b[0;34m,\u001b[0m \u001b[0mfetch_list\u001b[0m\u001b[0;34m)\u001b[0m\u001b[0;34m:\u001b[0m\u001b[0;34m\u001b[0m\u001b[0m\n",
      "\u001b[0;31mKeyboardInterrupt\u001b[0m: "
     ]
    }
   ],
   "source": [
    "losses = train_neural_db(g2,X,y)"
   ]
  },
  {
   "cell_type": "code",
   "execution_count": 162,
   "metadata": {
    "collapsed": false
   },
   "outputs": [
    {
     "name": "stdout",
     "output_type": "stream",
     "text": [
      "INFO:tensorflow:Restoring parameters from checkpoints3/itr23000\n"
     ]
    },
    {
     "data": {
      "image/png": "[encoded data removed]",
      "text/plain": [
       "<matplotlib.figure.Figure at 0x7f2dbc04be80>"
      ]
     },
     "metadata": {},
     "output_type": "display_data"
    }
   ],
   "source": [
    "plot_decision_boundary(g2,X,'checkpoints3/',h=0.01)"
   ]
  },
  {
   "cell_type": "code",
   "execution_count": 165,
   "metadata": {
    "collapsed": true
   },
   "outputs": [],
   "source": [
    "g3 = neural_model_db(0.01,5)"
   ]
  },
  {
   "cell_type": "code",
   "execution_count": 166,
   "metadata": {
    "collapsed": false
   },
   "outputs": [
    {
     "name": "stdout",
     "output_type": "stream",
     "text": [
      "itr 0: 1.66488\n",
      "itr 1000: 0.431141\n",
      "itr 2000: 0.346862\n",
      "itr 3000: 0.279537\n",
      "itr 4000: 0.232797\n",
      "itr 5000: 0.212183\n",
      "itr 6000: 0.195343\n",
      "itr 7000: 0.177251\n",
      "itr 8000: 0.156984\n",
      "itr 9000: 0.136983\n",
      "itr 10000: 0.117759\n",
      "itr 11000: 0.0998477\n",
      "itr 12000: 0.0847601\n",
      "itr 13000: 0.0720754\n",
      "itr 14000: 0.0613009\n",
      "itr 15000: 0.0527817\n",
      "itr 16000: 0.0457622\n",
      "itr 17000: 0.0403401\n",
      "itr 18000: 0.035429\n",
      "itr 19000: 0.0315745\n",
      "itr 20000: 0.0285071\n",
      "itr 21000: 0.0256351\n",
      "itr 22000: 0.0231921\n",
      "itr 23000: 0.0212255\n",
      "itr 24000: 0.0195955\n",
      "itr 25000: 0.0181955\n",
      "itr 26000: 0.0169769\n",
      "itr 27000: 0.0159067\n",
      "itr 28000: 0.0148788\n",
      "itr 29000: 0.0138751\n",
      "itr 30000: 0.0130116\n",
      "itr 31000: 0.0122667\n",
      "itr 32000: 0.0116057\n",
      "itr 33000: 0.0110135\n",
      "itr 34000: 0.0104785\n",
      "itr 35000: 0.0099922\n",
      "itr 36000: 0.0095479\n",
      "itr 37000: 0.00914043\n",
      "itr 38000: 0.00876521\n",
      "itr 39000: 0.00841856\n",
      "itr 40000: 0.00809753\n",
      "itr 41000: 0.00779924\n",
      "itr 42000: 0.00752142\n",
      "itr 43000: 0.00726198\n",
      "itr 44000: 0.00701921\n",
      "itr 45000: 0.00679152\n",
      "itr 46000: 0.00652004\n",
      "itr 47000: 0.00629479\n",
      "itr 48000: 0.00608669\n",
      "itr 49000: 0.00589302\n",
      "itr 50000: 0.0057118\n",
      "itr 51000: 0.00554164\n",
      "itr 52000: 0.00538151\n",
      "itr 53000: 0.00523014\n",
      "itr 54000: 0.00508708\n",
      "itr 55000: 0.00495149\n",
      "itr 56000: 0.00482282\n",
      "itr 57000: 0.00470058\n",
      "itr 58000: 0.00458431\n",
      "itr 59000: 0.00447348\n",
      "itr 60000: 0.00436779\n",
      "itr 61000: 0.004267\n",
      "itr 62000: 0.00417062\n",
      "itr 63000: 0.0040785\n",
      "itr 64000: 0.00399024\n",
      "itr 65000: 0.00390555\n",
      "itr 66000: 0.00382441\n",
      "itr 67000: 0.00374646\n",
      "itr 68000: 0.00367157\n",
      "itr 69000: 0.00359958\n",
      "itr 70000: 0.00353029\n",
      "itr 71000: 0.00346359\n",
      "itr 72000: 0.00339939\n",
      "itr 73000: 0.00333736\n",
      "itr 74000: 0.00327745\n",
      "itr 75000: 0.0032197\n",
      "itr 76000: 0.00316388\n",
      "itr 77000: 0.00310981\n",
      "itr 78000: 0.0030576\n",
      "itr 79000: 0.00300715\n",
      "itr 80000: 0.00295822\n",
      "itr 81000: 0.00291086\n",
      "itr 82000: 0.00286487\n",
      "itr 83000: 0.00282034\n",
      "itr 84000: 0.00277677\n",
      "itr 85000: 0.00273461\n"
     ]
    },
    {
     "ename": "KeyboardInterrupt",
     "evalue": "",
     "output_type": "error",
     "traceback": [
      "\u001b[0;31m---------------------------------------------------------------------------\u001b[0m",
      "\u001b[0;31mKeyboardInterrupt\u001b[0m                         Traceback (most recent call last)",
      "\u001b[0;32m<ipython-input-166-eb908d634141>\u001b[0m in \u001b[0;36m<module>\u001b[0;34m()\u001b[0m\n\u001b[0;32m----> 1\u001b[0;31m \u001b[0mlosses\u001b[0m \u001b[0;34m=\u001b[0m \u001b[0mtrain_neural_db\u001b[0m\u001b[0;34m(\u001b[0m\u001b[0mg3\u001b[0m\u001b[0;34m,\u001b[0m\u001b[0mX\u001b[0m\u001b[0;34m,\u001b[0m\u001b[0my\u001b[0m\u001b[0;34m)\u001b[0m\u001b[0;34m\u001b[0m\u001b[0m\n\u001b[0m",
      "\u001b[0;32m<ipython-input-154-636e0191bb11>\u001b[0m in \u001b[0;36mtrain_neural_db\u001b[0;34m(g, X, y)\u001b[0m\n\u001b[1;32m      8\u001b[0m         \u001b[0mfeed_dict\u001b[0m \u001b[0;34m=\u001b[0m \u001b[0;34m{\u001b[0m\u001b[0mg\u001b[0m\u001b[0;34m[\u001b[0m\u001b[0;34m'input_placeholder'\u001b[0m\u001b[0;34m]\u001b[0m\u001b[0;34m:\u001b[0m\u001b[0mX\u001b[0m\u001b[0;34m,\u001b[0m\u001b[0mg\u001b[0m\u001b[0;34m[\u001b[0m\u001b[0;34m'output_placeholder'\u001b[0m\u001b[0;34m]\u001b[0m\u001b[0;34m:\u001b[0m\u001b[0my\u001b[0m\u001b[0;34m}\u001b[0m\u001b[0;34m\u001b[0m\u001b[0m\n\u001b[1;32m      9\u001b[0m         \u001b[0;32mfor\u001b[0m \u001b[0mi\u001b[0m \u001b[0;32min\u001b[0m \u001b[0mrange\u001b[0m\u001b[0;34m(\u001b[0m\u001b[0;36m90000\u001b[0m\u001b[0;34m)\u001b[0m\u001b[0;34m:\u001b[0m\u001b[0;34m\u001b[0m\u001b[0m\n\u001b[0;32m---> 10\u001b[0;31m             \u001b[0m_\u001b[0m\u001b[0;34m,\u001b[0m\u001b[0mtotal_loss\u001b[0m \u001b[0;34m=\u001b[0m \u001b[0msess\u001b[0m\u001b[0;34m.\u001b[0m\u001b[0mrun\u001b[0m\u001b[0;34m(\u001b[0m\u001b[0;34m[\u001b[0m\u001b[0mg\u001b[0m\u001b[0;34m[\u001b[0m\u001b[0;34m'optimizer'\u001b[0m\u001b[0;34m]\u001b[0m\u001b[0;34m,\u001b[0m\u001b[0mg\u001b[0m\u001b[0;34m[\u001b[0m\u001b[0;34m'loss'\u001b[0m\u001b[0;34m]\u001b[0m\u001b[0;34m]\u001b[0m\u001b[0;34m,\u001b[0m\u001b[0mfeed_dict\u001b[0m\u001b[0;34m)\u001b[0m\u001b[0;34m\u001b[0m\u001b[0m\n\u001b[0m\u001b[1;32m     11\u001b[0m             \u001b[0mlosses\u001b[0m\u001b[0;34m.\u001b[0m\u001b[0mappend\u001b[0m\u001b[0;34m(\u001b[0m\u001b[0mtotal_loss\u001b[0m\u001b[0;34m)\u001b[0m\u001b[0;34m\u001b[0m\u001b[0m\n\u001b[1;32m     12\u001b[0m             \u001b[0;32mif\u001b[0m \u001b[0mi\u001b[0m\u001b[0;34m%\u001b[0m\u001b[0;36m1000\u001b[0m\u001b[0;34m==\u001b[0m\u001b[0;36m0\u001b[0m\u001b[0;34m:\u001b[0m\u001b[0;34m\u001b[0m\u001b[0m\n",
      "\u001b[0;32m/home/kabir/anaconda3/lib/python3.6/site-packages/tensorflow/python/client/session.py\u001b[0m in \u001b[0;36mrun\u001b[0;34m(self, fetches, feed_dict, options, run_metadata)\u001b[0m\n\u001b[1;32m    787\u001b[0m     \u001b[0;32mtry\u001b[0m\u001b[0;34m:\u001b[0m\u001b[0;34m\u001b[0m\u001b[0m\n\u001b[1;32m    788\u001b[0m       result = self._run(None, fetches, feed_dict, options_ptr,\n\u001b[0;32m--> 789\u001b[0;31m                          run_metadata_ptr)\n\u001b[0m\u001b[1;32m    790\u001b[0m       \u001b[0;32mif\u001b[0m \u001b[0mrun_metadata\u001b[0m\u001b[0;34m:\u001b[0m\u001b[0;34m\u001b[0m\u001b[0m\n\u001b[1;32m    791\u001b[0m         \u001b[0mproto_data\u001b[0m \u001b[0;34m=\u001b[0m \u001b[0mtf_session\u001b[0m\u001b[0;34m.\u001b[0m\u001b[0mTF_GetBuffer\u001b[0m\u001b[0;34m(\u001b[0m\u001b[0mrun_metadata_ptr\u001b[0m\u001b[0;34m)\u001b[0m\u001b[0;34m\u001b[0m\u001b[0m\n",
      "\u001b[0;32m/home/kabir/anaconda3/lib/python3.6/site-packages/tensorflow/python/client/session.py\u001b[0m in \u001b[0;36m_run\u001b[0;34m(self, handle, fetches, feed_dict, options, run_metadata)\u001b[0m\n\u001b[1;32m    935\u001b[0m     \u001b[0mfeed_handles\u001b[0m \u001b[0;34m=\u001b[0m \u001b[0;34m{\u001b[0m\u001b[0;34m}\u001b[0m\u001b[0;34m\u001b[0m\u001b[0m\n\u001b[1;32m    936\u001b[0m     \u001b[0;32mif\u001b[0m \u001b[0mfeed_dict\u001b[0m\u001b[0;34m:\u001b[0m\u001b[0;34m\u001b[0m\u001b[0m\n\u001b[0;32m--> 937\u001b[0;31m       \u001b[0mfeed_dict\u001b[0m \u001b[0;34m=\u001b[0m \u001b[0mnest\u001b[0m\u001b[0;34m.\u001b[0m\u001b[0mflatten_dict_items\u001b[0m\u001b[0;34m(\u001b[0m\u001b[0mfeed_dict\u001b[0m\u001b[0;34m)\u001b[0m\u001b[0;34m\u001b[0m\u001b[0m\n\u001b[0m\u001b[1;32m    938\u001b[0m       \u001b[0;32mfor\u001b[0m \u001b[0mfeed\u001b[0m\u001b[0;34m,\u001b[0m \u001b[0mfeed_val\u001b[0m \u001b[0;32min\u001b[0m \u001b[0mfeed_dict\u001b[0m\u001b[0;34m.\u001b[0m\u001b[0mitems\u001b[0m\u001b[0;34m(\u001b[0m\u001b[0;34m)\u001b[0m\u001b[0;34m:\u001b[0m\u001b[0;34m\u001b[0m\u001b[0m\n\u001b[1;32m    939\u001b[0m         \u001b[0;32mfor\u001b[0m \u001b[0msubfeed\u001b[0m\u001b[0;34m,\u001b[0m \u001b[0msubfeed_val\u001b[0m \u001b[0;32min\u001b[0m \u001b[0m_feed_fn\u001b[0m\u001b[0;34m(\u001b[0m\u001b[0mfeed\u001b[0m\u001b[0;34m,\u001b[0m \u001b[0mfeed_val\u001b[0m\u001b[0;34m)\u001b[0m\u001b[0;34m:\u001b[0m\u001b[0;34m\u001b[0m\u001b[0m\n",
      "\u001b[0;32m/home/kabir/anaconda3/lib/python3.6/site-packages/tensorflow/python/util/nest.py\u001b[0m in \u001b[0;36mflatten_dict_items\u001b[0;34m(dictionary)\u001b[0m\n\u001b[1;32m    178\u001b[0m       \u001b[0;32mnot\u001b[0m \u001b[0munique\u001b[0m\u001b[0;34m.\u001b[0m\u001b[0;34m\u001b[0m\u001b[0m\n\u001b[1;32m    179\u001b[0m   \"\"\"\n\u001b[0;32m--> 180\u001b[0;31m   \u001b[0;32mif\u001b[0m \u001b[0;32mnot\u001b[0m \u001b[0misinstance\u001b[0m\u001b[0;34m(\u001b[0m\u001b[0mdictionary\u001b[0m\u001b[0;34m,\u001b[0m \u001b[0mdict\u001b[0m\u001b[0;34m)\u001b[0m\u001b[0;34m:\u001b[0m\u001b[0;34m\u001b[0m\u001b[0m\n\u001b[0m\u001b[1;32m    181\u001b[0m     \u001b[0;32mraise\u001b[0m \u001b[0mTypeError\u001b[0m\u001b[0;34m(\u001b[0m\u001b[0;34m\"input must be a dictionary\"\u001b[0m\u001b[0;34m)\u001b[0m\u001b[0;34m\u001b[0m\u001b[0m\n\u001b[1;32m    182\u001b[0m   \u001b[0mflat_dictionary\u001b[0m \u001b[0;34m=\u001b[0m \u001b[0;34m{\u001b[0m\u001b[0;34m}\u001b[0m\u001b[0;34m\u001b[0m\u001b[0m\n",
      "\u001b[0;31mKeyboardInterrupt\u001b[0m: "
     ]
    }
   ],
   "source": [
    "losses = train_neural_db(g3,X,y)"
   ]
  },
  {
   "cell_type": "code",
   "execution_count": 167,
   "metadata": {
    "collapsed": false
   },
   "outputs": [
    {
     "name": "stdout",
     "output_type": "stream",
     "text": [
      "INFO:tensorflow:Restoring parameters from checkpoints3/itr85000\n"
     ]
    },
    {
     "data": {
      "image/png": "[encoded data removed]",
      "text/plain": [
       "<matplotlib.figure.Figure at 0x7f2dbc10b320>"
      ]
     },
     "metadata": {},
     "output_type": "display_data"
    }
   ],
   "source": [
    "plot_decision_boundary(g3,X,'checkpoints3/',h=0.01)"
   ]
  },
  {
   "cell_type": "code",
   "execution_count": 171,
   "metadata": {
    "collapsed": true
   },
   "outputs": [],
   "source": [
    "g4 = neural_model_db(0.01,4)"
   ]
  },
  {
   "cell_type": "code",
   "execution_count": 172,
   "metadata": {
    "collapsed": false
   },
   "outputs": [
    {
     "name": "stdout",
     "output_type": "stream",
     "text": [
      "itr 0: 0.734345\n",
      "itr 1000: 0.277504\n",
      "itr 2000: 0.247183\n",
      "itr 3000: 0.230616\n",
      "itr 4000: 0.217265\n",
      "itr 5000: 0.203477\n",
      "itr 6000: 0.188576\n",
      "itr 7000: 0.172083\n",
      "itr 8000: 0.153826\n",
      "itr 9000: 0.135253\n",
      "itr 10000: 0.116672\n",
      "itr 11000: 0.099314\n",
      "itr 12000: 0.0841096\n",
      "itr 13000: 0.0714789\n",
      "itr 14000: 0.0607632\n",
      "itr 15000: 0.052212\n",
      "itr 16000: 0.0452802\n",
      "itr 17000: 0.0397853\n",
      "itr 18000: 0.0352626\n",
      "itr 19000: 0.0314127\n",
      "itr 20000: 0.0282395\n",
      "itr 21000: 0.0256103\n",
      "itr 22000: 0.0234134\n",
      "itr 23000: 0.0214047\n",
      "itr 24000: 0.0196804\n",
      "itr 25000: 0.0181956\n",
      "itr 26000: 0.016904\n",
      "itr 27000: 0.0157838\n",
      "itr 28000: 0.0147977\n",
      "itr 29000: 0.0139198\n",
      "itr 30000: 0.0131335\n",
      "itr 31000: 0.0124256\n",
      "itr 32000: 0.0117853\n",
      "itr 33000: 0.0112036\n",
      "itr 34000: 0.0106731\n",
      "itr 35000: 0.010167\n",
      "itr 36000: 0.00968815\n",
      "itr 37000: 0.00924964\n",
      "itr 38000: 0.00884696\n",
      "itr 39000: 0.00847584\n",
      "itr 40000: 0.00813743\n",
      "itr 41000: 0.0078238\n",
      "itr 42000: 0.00753223\n",
      "itr 43000: 0.00726032\n",
      "itr 44000: 0.00700624\n",
      "itr 45000: 0.00676847\n",
      "itr 46000: 0.00654554\n",
      "itr 47000: 0.00633608\n",
      "itr 48000: 0.0061391\n",
      "itr 49000: 0.00595354\n",
      "itr 50000: 0.00577842\n",
      "itr 51000: 0.00561289\n",
      "itr 52000: 0.00545572\n",
      "itr 53000: 0.00530595\n",
      "itr 54000: 0.0051642\n",
      "itr 55000: 0.00502955\n",
      "itr 56000: 0.00490172\n",
      "itr 57000: 0.00478001\n",
      "itr 58000: 0.00466415\n",
      "itr 59000: 0.00455342\n",
      "itr 60000: 0.00444783\n",
      "itr 61000: 0.00434607\n",
      "itr 62000: 0.00424899\n",
      "itr 63000: 0.00415568\n",
      "itr 64000: 0.00406639\n",
      "itr 65000: 0.00398076\n",
      "itr 66000: 0.00389835\n",
      "itr 67000: 0.00381935\n",
      "itr 68000: 0.00374327\n",
      "itr 69000: 0.00367013\n",
      "itr 70000: 0.00359964\n",
      "itr 71000: 0.00353171\n",
      "itr 72000: 0.00346602\n",
      "itr 73000: 0.00340291\n",
      "itr 74000: 0.00334206\n",
      "itr 75000: 0.00328292\n",
      "itr 76000: 0.00322596\n",
      "itr 77000: 0.00317078\n",
      "itr 78000: 0.00311614\n",
      "itr 79000: 0.00306346\n",
      "itr 80000: 0.00301298\n",
      "itr 81000: 0.00296432\n",
      "itr 82000: 0.00291724\n",
      "itr 83000: 0.00287156\n",
      "itr 84000: 0.00282722\n",
      "itr 85000: 0.00278418\n",
      "itr 86000: 0.00274245\n",
      "itr 87000: 0.00270191\n",
      "itr 88000: 0.00266226\n",
      "itr 89000: 0.00262413\n"
     ]
    }
   ],
   "source": [
    "losses = train_neural_db(g4,X,y)"
   ]
  },
  {
   "cell_type": "code",
   "execution_count": 173,
   "metadata": {
    "collapsed": false
   },
   "outputs": [
    {
     "name": "stdout",
     "output_type": "stream",
     "text": [
      "INFO:tensorflow:Restoring parameters from checkpoints3/itr89000\n"
     ]
    },
    {
     "data": {
      "image/png": "[encoded data removed]",
      "text/plain": [
       "<matplotlib.figure.Figure at 0x7f2dbc9782b0>"
      ]
     },
     "metadata": {},
     "output_type": "display_data"
    }
   ],
   "source": [
    "plot_decision_boundary(g4,X,'checkpoints3/',h=0.01)"
   ]
  },
  {
   "cell_type": "code",
   "execution_count": 174,
   "metadata": {
    "collapsed": false
   },
   "outputs": [
    {
     "data": {
      "image/png": "[encoded data removed]",
      "text/plain": [
       "<matplotlib.figure.Figure at 0x7f2dba863908>"
      ]
     },
     "metadata": {},
     "output_type": "display_data"
    }
   ],
   "source": [
    "#Lets try some other dataset\n",
    "X,y = datasets.make_circles()\n",
    "plt.scatter(X[:,0],X[:,1],marker = 'o',c = y,s = 25)\n",
    "plt.show()"
   ]
  },
  {
   "cell_type": "code",
   "execution_count": 175,
   "metadata": {
    "collapsed": true
   },
   "outputs": [],
   "source": [
    "g5 = neural_model_db(0.01,5)"
   ]
  },
  {
   "cell_type": "code",
   "execution_count": 176,
   "metadata": {
    "collapsed": false
   },
   "outputs": [
    {
     "name": "stdout",
     "output_type": "stream",
     "text": [
      "itr 0: 1.16756\n",
      "itr 1000: 0.62252\n",
      "itr 2000: 0.590999\n",
      "itr 3000: 0.558355\n",
      "itr 4000: 0.525433\n",
      "itr 5000: 0.492327\n",
      "itr 6000: 0.458509\n",
      "itr 7000: 0.423481\n",
      "itr 8000: 0.38461\n",
      "itr 9000: 0.344311\n",
      "itr 10000: 0.30704\n",
      "itr 11000: 0.272427\n",
      "itr 12000: 0.240518\n",
      "itr 13000: 0.21053\n",
      "itr 14000: 0.185481\n",
      "itr 15000: 0.164088\n",
      "itr 16000: 0.145851\n",
      "itr 17000: 0.130308\n",
      "itr 18000: 0.117037\n",
      "itr 19000: 0.105672\n",
      "itr 20000: 0.0959006\n",
      "itr 21000: 0.0874619\n",
      "itr 22000: 0.08014\n",
      "itr 23000: 0.0737623\n",
      "itr 24000: 0.0681725\n",
      "itr 25000: 0.0632475\n",
      "itr 26000: 0.0588871\n",
      "itr 27000: 0.0550085\n",
      "itr 28000: 0.0515428\n",
      "itr 29000: 0.0484337\n",
      "itr 30000: 0.0456327\n",
      "itr 31000: 0.0431\n",
      "itr 32000: 0.0408015\n",
      "itr 33000: 0.0387084\n",
      "itr 34000: 0.0367962\n",
      "itr 35000: 0.0350442\n",
      "itr 36000: 0.0334342\n",
      "itr 37000: 0.0319504\n",
      "itr 38000: 0.0305797\n",
      "itr 39000: 0.0293102\n",
      "itr 40000: 0.0281319\n",
      "itr 41000: 0.0270355\n",
      "itr 42000: 0.0260137\n",
      "itr 43000: 0.0250592\n",
      "itr 44000: 0.0241658\n",
      "itr 45000: 0.0233283\n",
      "itr 46000: 0.0225418\n",
      "itr 47000: 0.0218019\n",
      "itr 48000: 0.0211049\n",
      "itr 49000: 0.0204473\n",
      "itr 50000: 0.019826\n",
      "itr 51000: 0.0192381\n",
      "itr 52000: 0.0186812\n",
      "itr 53000: 0.018153\n",
      "itr 54000: 0.0176514\n",
      "itr 55000: 0.0171745\n",
      "itr 56000: 0.0167204\n",
      "itr 57000: 0.016288\n",
      "itr 58000: 0.0158758\n",
      "itr 59000: 0.0154818\n",
      "itr 60000: 0.0151057\n",
      "itr 61000: 0.0147459\n",
      "itr 62000: 0.0144015\n",
      "itr 63000: 0.0140715\n",
      "itr 64000: 0.0137554\n",
      "itr 65000: 0.0134516\n",
      "itr 66000: 0.0131604\n",
      "itr 67000: 0.0128805\n",
      "itr 68000: 0.012611\n",
      "itr 69000: 0.0123523\n",
      "itr 70000: 0.0121029\n",
      "itr 71000: 0.0118627\n",
      "itr 72000: 0.0116308\n",
      "itr 73000: 0.0114079\n",
      "itr 74000: 0.0111919\n",
      "itr 75000: 0.010984\n",
      "itr 76000: 0.0107826\n",
      "itr 77000: 0.0105876\n",
      "itr 78000: 0.0103999\n",
      "itr 79000: 0.0102177\n",
      "itr 80000: 0.010041\n",
      "itr 81000: 0.00987077\n",
      "itr 82000: 0.00970507\n",
      "itr 83000: 0.00954449\n",
      "itr 84000: 0.00938953\n",
      "itr 85000: 0.0092385\n",
      "itr 86000: 0.00909209\n",
      "itr 87000: 0.00894967\n",
      "itr 88000: 0.00881141\n",
      "itr 89000: 0.00867762\n"
     ]
    }
   ],
   "source": [
    "losses = train_neural_db(g5,X,y)"
   ]
  },
  {
   "cell_type": "code",
   "execution_count": 178,
   "metadata": {
    "collapsed": false
   },
   "outputs": [
    {
     "name": "stdout",
     "output_type": "stream",
     "text": [
      "INFO:tensorflow:Restoring parameters from checkpoints3/itr89000\n"
     ]
    },
    {
     "data": {
      "image/png": "[encoded data removed]",
      "text/plain": [
       "<matplotlib.figure.Figure at 0x7f2dbc302a20>"
      ]
     },
     "metadata": {},
     "output_type": "display_data"
    }
   ],
   "source": [
    "plot_decision_boundary(g5,X,'checkpoints3/',h=0.01)"
   ]
  },
  {
   "cell_type": "code",
   "execution_count": 179,
   "metadata": {
    "collapsed": true
   },
   "outputs": [],
   "source": [
    "g5 = neural_model_db(0.01,15)"
   ]
  },
  {
   "cell_type": "code",
   "execution_count": 181,
   "metadata": {
    "collapsed": false
   },
   "outputs": [
    {
     "name": "stdout",
     "output_type": "stream",
     "text": [
      "itr 0: 0.798665\n",
      "itr 1000: 0.576938\n",
      "itr 2000: 0.502887\n",
      "itr 3000: 0.433449\n",
      "itr 4000: 0.368174\n",
      "itr 5000: 0.309413\n",
      "itr 6000: 0.259038\n",
      "itr 7000: 0.216358\n",
      "itr 8000: 0.18148\n",
      "itr 9000: 0.153308\n",
      "itr 10000: 0.130747\n",
      "itr 11000: 0.112161\n",
      "itr 12000: 0.0972411\n",
      "itr 13000: 0.0840885\n",
      "itr 14000: 0.0737567\n",
      "itr 15000: 0.0653917\n",
      "itr 16000: 0.0585252\n",
      "itr 17000: 0.052751\n",
      "itr 18000: 0.047864\n",
      "itr 19000: 0.0436808\n",
      "itr 20000: 0.0400693\n",
      "itr 21000: 0.0369289\n",
      "itr 22000: 0.0341798\n",
      "itr 23000: 0.0317559\n",
      "itr 24000: 0.0296085\n",
      "itr 25000: 0.0276967\n",
      "itr 26000: 0.0259862\n",
      "itr 27000: 0.0244393\n",
      "itr 28000: 0.0230367\n",
      "itr 29000: 0.021769\n",
      "itr 30000: 0.020618\n",
      "itr 31000: 0.0195695\n",
      "itr 32000: 0.0186111\n",
      "itr 33000: 0.0177319\n",
      "itr 34000: 0.0169225\n",
      "itr 35000: 0.0161756\n",
      "itr 36000: 0.0154846\n",
      "itr 37000: 0.014844\n",
      "itr 38000: 0.0142485\n",
      "itr 39000: 0.013694\n",
      "itr 40000: 0.0131764\n",
      "itr 41000: 0.0126924\n",
      "itr 42000: 0.012239\n",
      "itr 43000: 0.0118134\n",
      "itr 44000: 0.0114131\n",
      "itr 45000: 0.011032\n",
      "itr 46000: 0.0106737\n",
      "itr 47000: 0.0103359\n",
      "itr 48000: 0.0100172\n",
      "itr 49000: 0.00971584\n",
      "itr 50000: 0.00943022\n",
      "itr 51000: 0.00915948\n",
      "itr 52000: 0.00890263\n",
      "itr 53000: 0.00865819\n",
      "itr 54000: 0.00842572\n",
      "itr 55000: 0.00820436\n",
      "itr 56000: 0.0079931\n",
      "itr 57000: 0.00779156\n",
      "itr 58000: 0.00759913\n",
      "itr 59000: 0.00741503\n",
      "itr 60000: 0.00723873\n",
      "itr 61000: 0.00706993\n",
      "itr 62000: 0.00690803\n",
      "itr 63000: 0.00675281\n",
      "itr 64000: 0.00660373\n",
      "itr 65000: 0.00646058\n",
      "itr 66000: 0.00632239\n",
      "itr 67000: 0.00618885\n",
      "itr 68000: 0.00606065\n",
      "itr 69000: 0.00593715\n",
      "itr 70000: 0.00581804\n",
      "itr 71000: 0.00570336\n",
      "itr 72000: 0.00559256\n",
      "itr 73000: 0.00548592\n",
      "itr 74000: 0.00538285\n",
      "itr 75000: 0.00528301\n",
      "itr 76000: 0.00518696\n",
      "itr 77000: 0.00509367\n",
      "itr 78000: 0.0050036\n",
      "itr 79000: 0.00491627\n",
      "itr 80000: 0.00483168\n",
      "itr 81000: 0.00474982\n",
      "itr 82000: 0.00467051\n",
      "itr 83000: 0.00459327\n",
      "itr 84000: 0.00451828\n",
      "itr 85000: 0.00444569\n",
      "itr 86000: 0.00437515\n",
      "itr 87000: 0.00430648\n",
      "itr 88000: 0.00423977\n",
      "itr 89000: 0.0041751\n"
     ]
    }
   ],
   "source": [
    "losses = train_neural_db(g5,X,y)"
   ]
  },
  {
   "cell_type": "code",
   "execution_count": 182,
   "metadata": {
    "collapsed": false
   },
   "outputs": [
    {
     "name": "stdout",
     "output_type": "stream",
     "text": [
      "INFO:tensorflow:Restoring parameters from checkpoints3/itr89000\n"
     ]
    },
    {
     "data": {
      "image/png": "[encoded data removed]",
      "text/plain": [
       "<matplotlib.figure.Figure at 0x7f2dbc33d3c8>"
      ]
     },
     "metadata": {},
     "output_type": "display_data"
    }
   ],
   "source": [
    "plot_decision_boundary(g5,X,'checkpoints3/',h=0.01)"
   ]
  },
  {
   "cell_type": "code",
   "execution_count": 183,
   "metadata": {
    "collapsed": true
   },
   "outputs": [],
   "source": [
    "g5 = neural_model_db(0.01,30)"
   ]
  },
  {
   "cell_type": "code",
   "execution_count": 184,
   "metadata": {
    "collapsed": false
   },
   "outputs": [
    {
     "name": "stdout",
     "output_type": "stream",
     "text": [
      "itr 0: 1.67147\n",
      "itr 1000: 0.561821\n",
      "itr 2000: 0.436867\n",
      "itr 3000: 0.335019\n",
      "itr 4000: 0.270136\n",
      "itr 5000: 0.219358\n",
      "itr 6000: 0.178294\n",
      "itr 7000: 0.147368\n",
      "itr 8000: 0.12351\n",
      "itr 9000: 0.104759\n",
      "itr 10000: 0.0897268\n",
      "itr 11000: 0.0769462\n",
      "itr 12000: 0.0673967\n",
      "itr 13000: 0.0599049\n",
      "itr 14000: 0.0536861\n",
      "itr 15000: 0.0484624\n",
      "itr 16000: 0.0440179\n",
      "itr 17000: 0.0402091\n",
      "itr 18000: 0.0369151\n",
      "itr 19000: 0.0340446\n",
      "itr 20000: 0.0315352\n",
      "itr 21000: 0.0293187\n",
      "itr 22000: 0.0273488\n",
      "itr 23000: 0.0255873\n",
      "itr 24000: 0.0240137\n",
      "itr 25000: 0.0226007\n",
      "itr 26000: 0.0213285\n",
      "itr 27000: 0.0201751\n",
      "itr 28000: 0.0191284\n",
      "itr 29000: 0.0181726\n",
      "itr 30000: 0.0172988\n",
      "itr 31000: 0.0164967\n",
      "itr 32000: 0.015758\n",
      "itr 33000: 0.0150761\n",
      "itr 34000: 0.0144445\n",
      "itr 35000: 0.013858\n",
      "itr 36000: 0.0133122\n",
      "itr 37000: 0.0128031\n",
      "itr 38000: 0.0123241\n",
      "itr 39000: 0.0118725\n",
      "itr 40000: 0.0114499\n",
      "itr 41000: 0.0110537\n",
      "itr 42000: 0.0106814\n",
      "itr 43000: 0.0103312\n",
      "itr 44000: 0.0100009\n",
      "itr 45000: 0.00968916\n",
      "itr 46000: 0.00939438\n",
      "itr 47000: 0.00911529\n",
      "itr 48000: 0.00885069\n",
      "itr 49000: 0.00859969\n",
      "itr 50000: 0.00836113\n",
      "itr 51000: 0.00813433\n",
      "itr 52000: 0.00791827\n",
      "itr 53000: 0.00771247\n",
      "itr 54000: 0.00751594\n",
      "itr 55000: 0.00732821\n",
      "itr 56000: 0.00714896\n",
      "itr 57000: 0.00697735\n",
      "itr 58000: 0.00681278\n",
      "itr 59000: 0.00665542\n",
      "itr 60000: 0.00650439\n",
      "itr 61000: 0.00635924\n",
      "itr 62000: 0.00622008\n",
      "itr 63000: 0.00608595\n",
      "itr 64000: 0.00595609\n",
      "itr 65000: 0.00583115\n",
      "itr 66000: 0.00571104\n",
      "itr 67000: 0.00559519\n",
      "itr 68000: 0.00548363\n",
      "itr 69000: 0.00537614\n",
      "itr 70000: 0.00527223\n",
      "itr 71000: 0.00517218\n",
      "itr 72000: 0.00507531\n",
      "itr 73000: 0.00498172\n",
      "itr 74000: 0.00489128\n",
      "itr 75000: 0.0048038\n",
      "itr 76000: 0.00471909\n",
      "itr 77000: 0.00463701\n",
      "itr 78000: 0.00455754\n",
      "itr 79000: 0.0044805\n",
      "itr 80000: 0.0044057\n",
      "itr 81000: 0.0043334\n",
      "itr 82000: 0.00426324\n",
      "itr 83000: 0.00419489\n",
      "itr 84000: 0.00412857\n",
      "itr 85000: 0.00406416\n",
      "itr 86000: 0.00400166\n",
      "itr 87000: 0.00394061\n",
      "itr 88000: 0.00388132\n",
      "itr 89000: 0.0038238\n"
     ]
    }
   ],
   "source": [
    "losses = train_neural_db(g5,X,y)"
   ]
  },
  {
   "cell_type": "code",
   "execution_count": 185,
   "metadata": {
    "collapsed": false
   },
   "outputs": [
    {
     "name": "stdout",
     "output_type": "stream",
     "text": [
      "INFO:tensorflow:Restoring parameters from checkpoints3/itr89000\n"
     ]
    },
    {
     "data": {
      "image/png": "[encoded data removed]",
      "text/plain": [
       "<matplotlib.figure.Figure at 0x7f2dbb28d470>"
      ]
     },
     "metadata": {},
     "output_type": "display_data"
    }
   ],
   "source": [
    "plot_decision_boundary(g5,X,'checkpoints3/',h=0.01)"
   ]
  },
  {
   "cell_type": "code",
   "execution_count": null,
   "metadata": {
    "collapsed": true
   },
   "outputs": [],
   "source": []
  }
 ],
 "metadata": {
  "kernelspec": {
   "display_name": "Python 3",
   "language": "python",
   "name": "python3"
  },
  "language_info": {
   "codemirror_mode": {
    "name": "ipython",
    "version": 3
   },
   "file_extension": ".py",
   "mimetype": "text/x-python",
   "name": "python",
   "nbconvert_exporter": "python",
   "pygments_lexer": "ipython3",
   "version": "3.6.0"
  }
 },
 "nbformat": 4,
 "nbformat_minor": 2
}
