{
 "cells": [
  {
   "cell_type": "code",
   "execution_count": null,
   "metadata": {
    "collapsed": true
   },
   "outputs": [],
   "source": []
  },
  {
   "cell_type": "markdown",
   "metadata": {},
   "source": [
    "<h1> Loading important python modules </h1>\n"
   ]
  },
  {
   "cell_type": "code",
   "execution_count": 1,
   "metadata": {
    "collapsed": true
   },
   "outputs": [],
   "source": [
    "import numpy as np\n",
    "from sklearn.cross_validation import train_test_split\n",
    "from sklearn.linear_model import LogisticRegression\n",
    "import matplotlib.pyplot as plt\n",
    "from sklearn.tree import DecisionTreeClassifier\n",
    "from sklearn import svm\n",
    "import matplotlib.pyplot as plt\n",
    "from mpl_toolkits.mplot3d import axes3d\n",
    "from sklearn.metrics import precision_score\n",
    "from sklearn.metrics import recall_score"
   ]
  },
  {
   "cell_type": "markdown",
   "metadata": {},
   "source": [
    "<h1>Loading the data to numpy array</h1>"
   ]
  },
  {
   "cell_type": "code",
   "execution_count": 2,
   "metadata": {
    "collapsed": false
   },
   "outputs": [
    {
     "name": "stdout",
     "output_type": "stream",
     "text": [
      "[[ 30.  64.   1.]\n",
      " [ 30.  62.   3.]\n",
      " [ 30.  65.   0.]\n",
      " [ 31.  59.   2.]\n",
      " [ 31.  65.   4.]\n",
      " [ 33.  58.  10.]\n",
      " [ 33.  60.   0.]\n",
      " [ 34.  59.   0.]\n",
      " [ 34.  66.   9.]\n",
      " [ 34.  58.  30.]\n",
      " [ 34.  60.   1.]\n",
      " [ 34.  61.  10.]\n",
      " [ 34.  67.   7.]\n",
      " [ 34.  60.   0.]\n",
      " [ 35.  64.  13.]\n",
      " [ 35.  63.   0.]\n",
      " [ 36.  60.   1.]\n",
      " [ 36.  69.   0.]\n",
      " [ 37.  60.   0.]\n",
      " [ 37.  63.   0.]\n",
      " [ 37.  58.   0.]\n",
      " [ 37.  59.   6.]\n",
      " [ 37.  60.  15.]\n",
      " [ 37.  63.   0.]\n",
      " [ 38.  69.  21.]\n",
      " [ 38.  59.   2.]\n",
      " [ 38.  60.   0.]\n",
      " [ 38.  60.   0.]\n",
      " [ 38.  62.   3.]\n",
      " [ 38.  64.   1.]\n",
      " [ 38.  66.   0.]\n",
      " [ 38.  66.  11.]\n",
      " [ 38.  60.   1.]\n",
      " [ 38.  67.   5.]\n",
      " [ 39.  66.   0.]\n",
      " [ 39.  63.   0.]\n",
      " [ 39.  67.   0.]\n",
      " [ 39.  58.   0.]\n",
      " [ 39.  59.   2.]\n",
      " [ 39.  63.   4.]\n",
      " [ 40.  58.   2.]\n",
      " [ 40.  58.   0.]\n",
      " [ 40.  65.   0.]\n",
      " [ 41.  60.  23.]\n",
      " [ 41.  64.   0.]\n",
      " [ 41.  67.   0.]\n",
      " [ 41.  58.   0.]\n",
      " [ 41.  59.   8.]\n",
      " [ 41.  59.   0.]\n",
      " [ 41.  64.   0.]\n",
      " [ 41.  69.   8.]\n",
      " [ 41.  65.   0.]\n",
      " [ 41.  65.   0.]\n",
      " [ 42.  69.   1.]\n",
      " [ 42.  59.   0.]\n",
      " [ 42.  58.   0.]\n",
      " [ 42.  60.   1.]\n",
      " [ 42.  59.   2.]\n",
      " [ 42.  61.   4.]\n",
      " [ 42.  62.  20.]\n",
      " [ 42.  65.   0.]\n",
      " [ 42.  63.   1.]\n",
      " [ 43.  58.  52.]\n",
      " [ 43.  59.   2.]\n",
      " [ 43.  64.   0.]\n",
      " [ 43.  64.   0.]\n",
      " [ 43.  63.  14.]\n",
      " [ 43.  64.   2.]\n",
      " [ 43.  64.   3.]\n",
      " [ 43.  60.   0.]\n",
      " [ 43.  63.   2.]\n",
      " [ 43.  65.   0.]\n",
      " [ 43.  66.   4.]\n",
      " [ 44.  64.   6.]\n",
      " [ 44.  58.   9.]\n",
      " [ 44.  63.  19.]\n",
      " [ 44.  61.   0.]\n",
      " [ 44.  63.   1.]\n",
      " [ 44.  61.   0.]\n",
      " [ 44.  67.  16.]\n",
      " [ 45.  65.   6.]\n",
      " [ 45.  66.   0.]\n",
      " [ 45.  67.   1.]\n",
      " [ 45.  60.   0.]\n",
      " [ 45.  67.   0.]\n",
      " [ 45.  59.  14.]\n",
      " [ 45.  64.   0.]\n",
      " [ 45.  68.   0.]\n",
      " [ 45.  67.   1.]\n",
      " [ 46.  58.   2.]\n",
      " [ 46.  69.   3.]\n",
      " [ 46.  62.   5.]\n",
      " [ 46.  65.  20.]\n",
      " [ 46.  62.   0.]\n",
      " [ 46.  58.   3.]\n",
      " [ 46.  63.   0.]\n",
      " [ 47.  63.  23.]\n",
      " [ 47.  62.   0.]\n",
      " [ 47.  65.   0.]\n",
      " [ 47.  61.   0.]\n",
      " [ 47.  63.   6.]\n",
      " [ 47.  66.   0.]\n",
      " [ 47.  67.   0.]\n",
      " [ 47.  58.   3.]\n",
      " [ 47.  60.   4.]\n",
      " [ 47.  68.   4.]\n",
      " [ 47.  66.  12.]\n",
      " [ 48.  58.  11.]\n",
      " [ 48.  58.  11.]\n",
      " [ 48.  67.   7.]\n",
      " [ 48.  61.   8.]\n",
      " [ 48.  62.   2.]\n",
      " [ 48.  64.   0.]\n",
      " [ 48.  66.   0.]\n",
      " [ 49.  63.   0.]\n",
      " [ 49.  64.  10.]\n",
      " [ 49.  61.   1.]\n",
      " [ 49.  62.   0.]\n",
      " [ 49.  66.   0.]\n",
      " [ 49.  60.   1.]\n",
      " [ 49.  62.   1.]\n",
      " [ 49.  63.   3.]\n",
      " [ 49.  61.   0.]\n",
      " [ 49.  67.   1.]\n",
      " [ 50.  63.  13.]\n",
      " [ 50.  64.   0.]\n",
      " [ 50.  59.   0.]\n",
      " [ 50.  61.   6.]\n",
      " [ 50.  61.   0.]\n",
      " [ 50.  63.   1.]\n",
      " [ 50.  58.   1.]\n",
      " [ 50.  59.   2.]\n",
      " [ 50.  61.   0.]\n",
      " [ 50.  64.   0.]\n",
      " [ 50.  65.   4.]\n",
      " [ 50.  66.   1.]\n",
      " [ 51.  59.  13.]\n",
      " [ 51.  59.   3.]\n",
      " [ 51.  64.   7.]\n",
      " [ 51.  59.   1.]\n",
      " [ 51.  65.   0.]\n",
      " [ 51.  66.   1.]\n",
      " [ 52.  69.   3.]\n",
      " [ 52.  59.   2.]\n",
      " [ 52.  62.   3.]\n",
      " [ 52.  66.   4.]\n",
      " [ 52.  61.   0.]\n",
      " [ 52.  63.   4.]\n",
      " [ 52.  69.   0.]\n",
      " [ 52.  60.   4.]\n",
      " [ 52.  60.   5.]\n",
      " [ 52.  62.   0.]\n",
      " [ 52.  62.   1.]\n",
      " [ 52.  64.   0.]\n",
      " [ 52.  65.   0.]\n",
      " [ 52.  68.   0.]\n",
      " [ 53.  58.   4.]\n",
      " [ 53.  65.   1.]\n",
      " [ 53.  59.   3.]\n",
      " [ 53.  60.   9.]\n",
      " [ 53.  63.  24.]\n",
      " [ 53.  65.  12.]\n",
      " [ 53.  58.   1.]\n",
      " [ 53.  60.   1.]\n",
      " [ 53.  60.   2.]\n",
      " [ 53.  61.   1.]\n",
      " [ 53.  63.   0.]\n",
      " [ 54.  60.  11.]\n",
      " [ 54.  65.  23.]\n",
      " [ 54.  65.   5.]\n",
      " [ 54.  68.   7.]\n",
      " [ 54.  59.   7.]\n",
      " [ 54.  60.   3.]\n",
      " [ 54.  66.   0.]\n",
      " [ 54.  67.  46.]\n",
      " [ 54.  62.   0.]\n",
      " [ 54.  69.   7.]\n",
      " [ 54.  63.  19.]\n",
      " [ 54.  58.   1.]\n",
      " [ 54.  62.   0.]\n",
      " [ 55.  63.   6.]\n",
      " [ 55.  68.  15.]\n",
      " [ 55.  58.   1.]\n",
      " [ 55.  58.   0.]\n",
      " [ 55.  58.   1.]\n",
      " [ 55.  66.  18.]\n",
      " [ 55.  66.   0.]\n",
      " [ 55.  69.   3.]\n",
      " [ 55.  69.  22.]\n",
      " [ 55.  67.   1.]\n",
      " [ 56.  65.   9.]\n",
      " [ 56.  66.   3.]\n",
      " [ 56.  60.   0.]\n",
      " [ 56.  66.   2.]\n",
      " [ 56.  66.   1.]\n",
      " [ 56.  67.   0.]\n",
      " [ 56.  60.   0.]\n",
      " [ 57.  61.   5.]\n",
      " [ 57.  62.  14.]\n",
      " [ 57.  64.   1.]\n",
      " [ 57.  64.   9.]\n",
      " [ 57.  69.   0.]\n",
      " [ 57.  61.   0.]\n",
      " [ 57.  62.   0.]\n",
      " [ 57.  63.   0.]\n",
      " [ 57.  64.   0.]\n",
      " [ 57.  64.   0.]\n",
      " [ 57.  67.   0.]\n",
      " [ 58.  59.   0.]\n",
      " [ 58.  60.   3.]\n",
      " [ 58.  61.   1.]\n",
      " [ 58.  67.   0.]\n",
      " [ 58.  58.   0.]\n",
      " [ 58.  58.   3.]\n",
      " [ 58.  61.   2.]\n",
      " [ 59.  62.  35.]\n",
      " [ 59.  60.   0.]\n",
      " [ 59.  63.   0.]\n",
      " [ 59.  64.   1.]\n",
      " [ 59.  64.   4.]\n",
      " [ 59.  64.   0.]\n",
      " [ 59.  64.   7.]\n",
      " [ 59.  67.   3.]\n",
      " [ 60.  59.  17.]\n",
      " [ 60.  65.   0.]\n",
      " [ 60.  61.   1.]\n",
      " [ 60.  67.   2.]\n",
      " [ 60.  61.  25.]\n",
      " [ 60.  64.   0.]\n",
      " [ 61.  62.   5.]\n",
      " [ 61.  65.   0.]\n",
      " [ 61.  68.   1.]\n",
      " [ 61.  59.   0.]\n",
      " [ 61.  59.   0.]\n",
      " [ 61.  64.   0.]\n",
      " [ 61.  65.   8.]\n",
      " [ 61.  68.   0.]\n",
      " [ 61.  59.   0.]\n",
      " [ 62.  59.  13.]\n",
      " [ 62.  58.   0.]\n",
      " [ 62.  65.  19.]\n",
      " [ 62.  62.   6.]\n",
      " [ 62.  66.   0.]\n",
      " [ 62.  66.   0.]\n",
      " [ 62.  58.   0.]\n",
      " [ 63.  60.   1.]\n",
      " [ 63.  61.   0.]\n",
      " [ 63.  62.   0.]\n",
      " [ 63.  63.   0.]\n",
      " [ 63.  63.   0.]\n",
      " [ 63.  66.   0.]\n",
      " [ 63.  61.   9.]\n",
      " [ 63.  61.  28.]\n",
      " [ 64.  58.   0.]\n",
      " [ 64.  65.  22.]\n",
      " [ 64.  66.   0.]\n",
      " [ 64.  61.   0.]\n",
      " [ 64.  68.   0.]\n",
      " [ 65.  58.   0.]\n",
      " [ 65.  61.   2.]\n",
      " [ 65.  62.  22.]\n",
      " [ 65.  66.  15.]\n",
      " [ 65.  58.   0.]\n",
      " [ 65.  64.   0.]\n",
      " [ 65.  67.   0.]\n",
      " [ 65.  59.   2.]\n",
      " [ 65.  64.   0.]\n",
      " [ 65.  67.   1.]\n",
      " [ 66.  58.   0.]\n",
      " [ 66.  61.  13.]\n",
      " [ 66.  58.   0.]\n",
      " [ 66.  58.   1.]\n",
      " [ 66.  68.   0.]\n",
      " [ 67.  64.   8.]\n",
      " [ 67.  63.   1.]\n",
      " [ 67.  66.   0.]\n",
      " [ 67.  66.   0.]\n",
      " [ 67.  61.   0.]\n",
      " [ 67.  65.   0.]\n",
      " [ 68.  67.   0.]\n",
      " [ 68.  68.   0.]\n",
      " [ 69.  67.   8.]\n",
      " [ 69.  60.   0.]\n",
      " [ 69.  65.   0.]\n",
      " [ 69.  66.   0.]\n",
      " [ 70.  58.   0.]\n",
      " [ 70.  58.   4.]\n",
      " [ 70.  66.  14.]\n",
      " [ 70.  67.   0.]\n",
      " [ 70.  68.   0.]\n",
      " [ 70.  59.   8.]\n",
      " [ 70.  63.   0.]\n",
      " [ 71.  68.   2.]\n",
      " [ 72.  63.   0.]\n",
      " [ 72.  58.   0.]\n",
      " [ 72.  64.   0.]\n",
      " [ 72.  67.   3.]\n",
      " [ 73.  62.   0.]\n",
      " [ 73.  68.   0.]\n",
      " [ 74.  65.   3.]\n",
      " [ 74.  63.   0.]\n",
      " [ 75.  62.   1.]\n",
      " [ 76.  67.   0.]\n",
      " [ 77.  65.   3.]\n",
      " [ 78.  65.   1.]\n",
      " [ 83.  58.   2.]]\n",
      "[ 1.  1.  1.  1.  1.  1.  1.  2.  2.  1.  1.  1.  1.  1.  1.  1.  1.  1.\n",
      "  1.  1.  1.  1.  1.  1.  2.  1.  1.  1.  1.  1.  1.  1.  1.  1.  2.  1.\n",
      "  1.  1.  1.  1.  1.  1.  1.  2.  2.  2.  1.  1.  1.  1.  1.  1.  1.  2.\n",
      "  2.  1.  1.  1.  1.  1.  1.  1.  2.  2.  2.  2.  1.  1.  1.  1.  1.  1.\n",
      "  1.  2.  2.  2.  1.  1.  1.  1.  2.  2.  2.  1.  1.  1.  1.  1.  1.  2.\n",
      "  2.  2.  2.  1.  1.  1.  2.  2.  2.  1.  1.  1.  1.  1.  1.  1.  1.  2.\n",
      "  2.  2.  1.  1.  1.  1.  2.  2.  1.  1.  1.  1.  1.  1.  1.  1.  2.  2.\n",
      "  1.  1.  1.  1.  1.  1.  1.  1.  1.  1.  2.  2.  1.  1.  1.  1.  2.  2.\n",
      "  2.  2.  1.  1.  1.  1.  1.  1.  1.  1.  1.  1.  2.  2.  2.  2.  2.  2.\n",
      "  1.  1.  1.  1.  1.  2.  2.  2.  2.  1.  1.  1.  1.  1.  1.  1.  1.  1.\n",
      "  2.  2.  1.  1.  1.  1.  1.  1.  1.  1.  2.  2.  1.  1.  1.  1.  1.  2.\n",
      "  2.  2.  1.  1.  1.  1.  1.  1.  1.  1.  1.  1.  1.  1.  1.  1.  1.  2.\n",
      "  1.  1.  1.  1.  1.  1.  1.  2.  2.  1.  1.  1.  1.  2.  2.  2.  1.  1.\n",
      "  1.  1.  1.  1.  2.  2.  2.  1.  1.  1.  1.  2.  1.  1.  1.  1.  1.  1.\n",
      "  1.  1.  1.  1.  1.  1.  2.  2.  2.  2.  1.  1.  1.  1.  1.  1.  2.  2.\n",
      "  1.  1.  1.  2.  2.  1.  1.  1.  1.  1.  1.  2.  1.  1.  1.  2.  2.  1.\n",
      "  1.  1.  1.  1.  1.  2.  1.  1.  1.  1.  1.  2.  1.  1.  1.  1.  2.  2.]\n"
     ]
    }
   ],
   "source": [
    "data = np.loadtxt(\"haberman1.txt\")\n",
    "X = data[:,0:3]\n",
    "y = data[:,3]\n",
    "print X\n",
    "print y"
   ]
  },
  {
   "cell_type": "markdown",
   "metadata": {},
   "source": [
    "<p> 1 represents that the given patient survived 5 years after the surgery <br>\n",
    " 2 represents that the given patient didnt survived 5 years after the surgery </p>"
   ]
  },
  {
   "cell_type": "markdown",
   "metadata": {},
   "source": [
    "<h1> Splitting dataset into train and test data </h1>"
   ]
  },
  {
   "cell_type": "code",
   "execution_count": 3,
   "metadata": {
    "collapsed": true
   },
   "outputs": [],
   "source": [
    "X_train,X_test,y_train,y_test  = train_test_split(X,y,test_size=0.2,random_state=40)\n"
   ]
  },
  {
   "cell_type": "markdown",
   "metadata": {},
   "source": [
    "<h1> Visualising data </h1>"
   ]
  },
  {
   "cell_type": "code",
   "execution_count": 4,
   "metadata": {
    "collapsed": false
   },
   "outputs": [
    {
     "data": {
      "image/png": "[encoded data removed]",
      "text/plain": [
       "<matplotlib.figure.Figure at 0x9df6a20>"
      ]
     },
     "metadata": {},
     "output_type": "display_data"
    }
   ],
   "source": [
    "fig = plt.figure()\n",
    "ax1 = fig.add_subplot(111,projection='3d')\n",
    "\n",
    "for i in range(len(y_train)):\n",
    "    if y_train[i]==1 :\n",
    "        xs = X_train[i][0]\n",
    "        ys = X_train[i][1]\n",
    "        zs = X_train[i][2]\n",
    "        ax1.scatter(xs, ys, zs, color='blue')\n",
    "    elif y_train[i]==2:\n",
    "        xs = X_train[i][0]\n",
    "        ys = X_train[i][1]\n",
    "        zs = X_train[i][2]\n",
    "        ax1.scatter(xs, ys, zs, color='red')\n",
    "        \n",
    "\n",
    "ax1.set_xlabel('Age')\n",
    "ax1.set_ylabel('Year')\n",
    "ax1.set_zlabel('Auxillary nymph nodes')\n",
    "\n",
    "plt.show()"
   ]
  },
  {
   "cell_type": "markdown",
   "metadata": {},
   "source": [
    "<h1> Applying Logistic Regression on our data </h1>\n",
    "<h3> Fitting on training data </h3>"
   ]
  },
  {
   "cell_type": "code",
   "execution_count": 5,
   "metadata": {
    "collapsed": true
   },
   "outputs": [],
   "source": [
    "model_log = LogisticRegression()\n",
    "model_log = model_log.fit(X_train,y_train)"
   ]
  },
  {
   "cell_type": "markdown",
   "metadata": {},
   "source": [
    "<h3> Calculating Accuracy </h3>"
   ]
  },
  {
   "cell_type": "code",
   "execution_count": 6,
   "metadata": {
    "collapsed": false
   },
   "outputs": [
    {
     "name": "stdout",
     "output_type": "stream",
     "text": [
      "Train Accuracy for Logistic Regression Model 74.5901639344\n",
      "Test Accuracy for Logistic Regression Model 77.4193548387\n"
     ]
    }
   ],
   "source": [
    "print \"Train Accuracy for Logistic Regression Model\",model_log.score(X_train,y_train)*100\n",
    "print \"Test Accuracy for Logistic Regression Model\",model_log.score(X_test,y_test)*100"
   ]
  },
  {
   "cell_type": "markdown",
   "metadata": {},
   "source": [
    "<h3> Calculating precision and recall </h3>"
   ]
  },
  {
   "cell_type": "code",
   "execution_count": 7,
   "metadata": {
    "collapsed": false
   },
   "outputs": [
    {
     "name": "stdout",
     "output_type": "stream",
     "text": [
      "precision of log Model 0.76512455516\n",
      "recall of log Model 0.955555555556\n"
     ]
    }
   ],
   "source": [
    "print \"precision of log Model\", precision_score(y,model_log.predict(X))\n",
    "print \"recall of log Model\", recall_score(y,model_log.predict(X))"
   ]
  },
  {
   "cell_type": "markdown",
   "metadata": {},
   "source": [
    "<h1> Applying SVM on our data </h1>"
   ]
  },
  {
   "cell_type": "markdown",
   "metadata": {},
   "source": [
    "<h3> Fiting the training data </h3>"
   ]
  },
  {
   "cell_type": "code",
   "execution_count": 8,
   "metadata": {
    "collapsed": true
   },
   "outputs": [],
   "source": [
    "model_svm = svm.SVC()\n",
    "model_svm = model_svm.fit(X_train,y_train)"
   ]
  },
  {
   "cell_type": "markdown",
   "metadata": {},
   "source": [
    "<h3> Finding train and test accuracy </h3>"
   ]
  },
  {
   "cell_type": "code",
   "execution_count": 9,
   "metadata": {
    "collapsed": false
   },
   "outputs": [
    {
     "name": "stdout",
     "output_type": "stream",
     "text": [
      "Train Accuracy for SVM Model 90.1639344262\n",
      "Test Accuracy for SVM Model 77.4193548387\n"
     ]
    }
   ],
   "source": [
    "print \"Train Accuracy for SVM Model\",model_svm.score(X_train,y_train)*100\n",
    "print \"Test Accuracy for SVM Model\",model_svm.score(X_test,y_test)*100"
   ]
  },
  {
   "cell_type": "markdown",
   "metadata": {},
   "source": [
    "<h3> Finding Precision and Recall </h3>"
   ]
  },
  {
   "cell_type": "code",
   "execution_count": 10,
   "metadata": {
    "collapsed": false
   },
   "outputs": [
    {
     "name": "stdout",
     "output_type": "stream",
     "text": [
      "precision of svm Model 0.855513307985\n",
      "recall of svm Model 1.0\n"
     ]
    }
   ],
   "source": [
    "print \"precision of svm Model\", precision_score(y,model_svm.predict(X))\n",
    "print \"recall of svm Model\", recall_score(y,model_svm.predict(X))"
   ]
  },
  {
   "cell_type": "markdown",
   "metadata": {},
   "source": [
    "<h1> Applying Decision Tree Classification on our dataset </h1>"
   ]
  },
  {
   "cell_type": "markdown",
   "metadata": {},
   "source": [
    "<h3> Fitting the training data </h3>"
   ]
  },
  {
   "cell_type": "code",
   "execution_count": 11,
   "metadata": {
    "collapsed": true
   },
   "outputs": [],
   "source": [
    "model_tree = DecisionTreeClassifier()\n",
    "model_tree = model_tree.fit(X_train,y_train)"
   ]
  },
  {
   "cell_type": "markdown",
   "metadata": {},
   "source": [
    "<h3> Finding train and test accuracy </h3>"
   ]
  },
  {
   "cell_type": "code",
   "execution_count": 12,
   "metadata": {
    "collapsed": false
   },
   "outputs": [
    {
     "name": "stdout",
     "output_type": "stream",
     "text": [
      "Train Accuracy for Decision Tree Model 99.1803278689\n",
      "Test Accuracy for Decison Tree Model 66.1290322581\n"
     ]
    }
   ],
   "source": [
    "print \"Train Accuracy for Decision Tree Model\",model_tree.score(X_train,y_train)*100\n",
    "print \"Test Accuracy for Decison Tree Model\",model_tree.score(X_test,y_test)*100"
   ]
  },
  {
   "cell_type": "markdown",
   "metadata": {},
   "source": [
    "<p><b> We can see that the Decision Tree fits the training data extremely well but makes huge amount of errors on the test data. This is called Overfiting. Overfiting in decision trees can be prevented by decreasing the depth of the tree.</b> </p>"
   ]
  },
  {
   "cell_type": "markdown",
   "metadata": {},
   "source": [
    "<h3> Preventing Overfiting </h3>"
   ]
  },
  {
   "cell_type": "code",
   "execution_count": 13,
   "metadata": {
    "collapsed": false
   },
   "outputs": [
    {
     "name": "stdout",
     "output_type": "stream",
     "text": [
      "Train Accuracy for Decision Tree2 Model 79.0983606557\n",
      "Test Accuracy for Decison Tree2 Model 75.8064516129\n"
     ]
    }
   ],
   "source": [
    "model_tree2 = DecisionTreeClassifier(max_depth=3)\n",
    "model_tree2 = model_tree2.fit(X_train,y_train)\n",
    "print \"Train Accuracy for Decision Tree2 Model\",model_tree2.score(X_train,y_train)*100\n",
    "print \"Test Accuracy for Decison Tree2 Model\",model_tree2.score(X_test,y_test)*100"
   ]
  },
  {
   "cell_type": "markdown",
   "metadata": {},
   "source": [
    "<h3> Finding precision and recall </h3>"
   ]
  },
  {
   "cell_type": "code",
   "execution_count": 14,
   "metadata": {
    "collapsed": false
   },
   "outputs": [
    {
     "name": "stdout",
     "output_type": "stream",
     "text": [
      "precision of tree2 Model 0.823529411765\n",
      "recall of tree2 Model 0.875\n"
     ]
    }
   ],
   "source": [
    "print \"precision of tree2 Model\", precision_score(y_test,model_tree2.predict(X_test))\n",
    "print \"recall of tree2 Model\", recall_score(y_test,model_tree2.predict(X_test))"
   ]
  },
  {
   "cell_type": "markdown",
   "metadata": {},
   "source": [
    "<p> <b>This clearly shows that the svm performs best on our dataset</b> </p>\n"
   ]
  },
  {
   "cell_type": "markdown",
   "metadata": {},
   "source": [
    "<h1> Making Predictions on new patients </h1>"
   ]
  },
  {
   "cell_type": "code",
   "execution_count": 15,
   "metadata": {
    "collapsed": false
   },
   "outputs": [
    {
     "name": "stdout",
     "output_type": "stream",
     "text": [
      "No Risk\n"
     ]
    }
   ],
   "source": [
    "def make_prediction(age,year,nodes,model = model_svm):\n",
    "    feature = [[age,year,nodes]]\n",
    "    if model_svm.predict(feature) == 1:\n",
    "        print \"No Risk\"\n",
    "    if model_svm.predict(feature) == 2:\n",
    "        print \"Risk\"\n",
    "\n",
    "make_prediction(50,69,10)"
   ]
  },
  {
   "cell_type": "code",
   "execution_count": null,
   "metadata": {
    "collapsed": true
   },
   "outputs": [],
   "source": []
  }
 ],
 "metadata": {
  "anaconda-cloud": {},
  "kernelspec": {
   "display_name": "Python [default]",
   "language": "python",
   "name": "python2"
  },
  "language_info": {
   "codemirror_mode": {
    "name": "ipython",
    "version": 2
   },
   "file_extension": ".py",
   "mimetype": "text/x-python",
   "name": "python",
   "nbconvert_exporter": "python",
   "pygments_lexer": "ipython2",
   "version": "2.7.12"
  }
 },
 "nbformat": 4,
 "nbformat_minor": 1
}
