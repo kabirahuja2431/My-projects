{
 "cells": [
  {
   "cell_type": "code",
   "execution_count": 1,
   "metadata": {
    "collapsed": false
   },
   "outputs": [
    {
     "name": "stdout",
     "output_type": "stream",
     "text": [
      "      0    1    2    3    4    5    6    7    8    9  ...    18   19   20  \\\n",
      "0    0.0  1.0  0.0  0.0  0.0  0.0  0.0  0.0  1.0  0.0 ...   0.0  1.0  1.0   \n",
      "1    0.0  0.0  1.0  0.0  0.0  0.0  0.0  1.0  0.0  0.0 ...   0.0  0.0  0.0   \n",
      "2    0.0  0.0  1.0  0.0  0.0  0.0  0.0  0.0  1.0  0.0 ...   0.0  1.0  0.0   \n",
      "3    0.0  0.0  1.0  0.0  0.0  0.0  0.0  1.0  0.0  0.0 ...   0.0  0.0  0.0   \n",
      "4    0.0  0.0  1.0  0.0  0.0  0.0  0.0  0.0  0.0  1.0 ...   0.0  1.0  1.0   \n",
      "5    0.0  0.0  1.0  0.0  0.0  0.0  0.0  0.0  1.0  0.0 ...   0.0  1.0  0.0   \n",
      "6    0.0  0.0  1.0  0.0  0.0  0.0  0.0  0.0  1.0  0.0 ...   0.0  1.0  0.0   \n",
      "7    0.0  1.0  0.0  0.0  0.0  0.0  0.0  0.0  1.0  0.0 ...   0.0  1.0  0.0   \n",
      "8    0.0  0.0  1.0  0.0  0.0  0.0  0.0  0.0  0.0  1.0 ...   0.0  1.0  1.0   \n",
      "9    0.0  0.0  1.0  0.0  0.0  0.0  0.0  0.0  1.0  0.0 ...   0.0  1.0  0.0   \n",
      "10   0.0  0.0  1.0  0.0  0.0  0.0  0.0  1.0  0.0  0.0 ...   0.0  1.0  0.0   \n",
      "11   0.0  0.0  1.0  0.0  0.0  0.0  0.0  0.0  1.0  0.0 ...   0.0  0.0  0.0   \n",
      "12   0.0  0.0  1.0  0.0  0.0  0.0  0.0  0.0  1.0  0.0 ...   0.0  1.0  1.0   \n",
      "13   0.0  1.0  0.0  0.0  0.0  0.0  0.0  0.0  0.0  1.0 ...   0.0  1.0  1.0   \n",
      "14   0.0  0.0  1.0  0.0  0.0  0.0  0.0  0.0  1.0  0.0 ...   0.0  1.0  0.0   \n",
      "15   0.0  0.0  1.0  0.0  0.0  0.0  0.0  0.0  1.0  0.0 ...   0.0  1.0  0.0   \n",
      "16   0.0  1.0  0.0  0.0  0.0  0.0  0.0  1.0  0.0  0.0 ...   0.0  0.0  0.0   \n",
      "17   0.0  1.0  0.0  0.0  0.0  0.0  0.0  1.0  0.0  0.0 ...   0.0  0.0  0.0   \n",
      "18   0.0  0.0  1.0  0.0  0.0  0.0  0.0  0.0  1.0  0.0 ...   0.0  1.0  0.0   \n",
      "19   0.0  0.0  1.0  0.0  0.0  0.0  0.0  1.0  0.0  0.0 ...   0.0  0.0  0.0   \n",
      "20   0.0  0.0  1.0  0.0  0.0  0.0  0.0  1.0  0.0  0.0 ...   0.0  0.0  0.0   \n",
      "21   0.0  0.0  0.0  1.0  0.0  0.0  0.0  1.0  0.0  0.0 ...   0.0  0.0  0.0   \n",
      "22   0.0  0.0  1.0  0.0  0.0  0.0  0.0  1.0  0.0  0.0 ...   0.0  0.0  0.0   \n",
      "23   0.0  0.0  1.0  0.0  0.0  0.0  0.0  1.0  0.0  0.0 ...   0.0  0.0  0.0   \n",
      "24   0.0  0.0  0.0  0.0  0.0  0.0  1.0  1.0  0.0  0.0 ...   0.0  0.0  0.0   \n",
      "25   0.0  0.0  0.0  0.0  1.0  0.0  0.0  1.0  0.0  0.0 ...   0.0  1.0  0.0   \n",
      "26   0.0  0.0  1.0  0.0  0.0  0.0  0.0  0.0  1.0  0.0 ...   0.0  1.0  0.0   \n",
      "27   0.0  0.0  1.0  0.0  0.0  0.0  0.0  0.0  1.0  0.0 ...   0.0  1.0  1.0   \n",
      "28   0.0  0.0  1.0  0.0  0.0  0.0  0.0  0.0  1.0  0.0 ...   0.0  1.0  1.0   \n",
      "29   0.0  0.0  0.0  0.0  0.0  1.0  0.0  1.0  0.0  0.0 ...   0.0  0.0  0.0   \n",
      "..   ...  ...  ...  ...  ...  ...  ...  ...  ...  ... ...   ...  ...  ...   \n",
      "440  0.0  0.0  1.0  0.0  0.0  0.0  0.0  0.0  1.0  0.0 ...   0.0  1.0  1.0   \n",
      "441  0.0  1.0  0.0  0.0  0.0  0.0  0.0  1.0  0.0  0.0 ...   0.0  0.0  0.0   \n",
      "442  0.0  1.0  0.0  0.0  0.0  0.0  0.0  0.0  1.0  0.0 ...   1.0  1.0  0.0   \n",
      "443  0.0  0.0  1.0  0.0  0.0  0.0  0.0  0.0  0.0  1.0 ...   0.0  1.0  1.0   \n",
      "444  0.0  0.0  1.0  0.0  0.0  0.0  0.0  1.0  0.0  0.0 ...   0.0  0.0  0.0   \n",
      "445  0.0  0.0  1.0  0.0  0.0  0.0  0.0  1.0  0.0  0.0 ...   0.0  0.0  0.0   \n",
      "446  0.0  0.0  0.0  0.0  0.0  0.0  1.0  1.0  0.0  0.0 ...   0.0  0.0  0.0   \n",
      "447  0.0  1.0  0.0  0.0  0.0  0.0  0.0  0.0  1.0  0.0 ...   0.0  1.0  1.0   \n",
      "448  0.0  0.0  1.0  0.0  0.0  0.0  0.0  1.0  0.0  0.0 ...   0.0  0.0  0.0   \n",
      "449  0.0  0.0  1.0  0.0  0.0  0.0  0.0  0.0  1.0  0.0 ...   0.0  1.0  0.0   \n",
      "450  0.0  0.0  1.0  0.0  0.0  0.0  0.0  0.0  0.0  1.0 ...   0.0  1.0  1.0   \n",
      "451  0.0  0.0  0.0  1.0  0.0  0.0  0.0  0.0  1.0  0.0 ...   0.0  1.0  0.0   \n",
      "452  0.0  0.0  1.0  0.0  0.0  0.0  0.0  0.0  1.0  0.0 ...   0.0  1.0  0.0   \n",
      "453  0.0  0.0  1.0  0.0  0.0  0.0  0.0  0.0  1.0  0.0 ...   0.0  1.0  1.0   \n",
      "454  0.0  0.0  1.0  0.0  0.0  0.0  0.0  1.0  0.0  0.0 ...   0.0  0.0  0.0   \n",
      "455  0.0  0.0  0.0  1.0  0.0  0.0  0.0  0.0  1.0  0.0 ...   0.0  1.0  0.0   \n",
      "456  0.0  0.0  1.0  0.0  0.0  0.0  0.0  0.0  1.0  0.0 ...   0.0  1.0  0.0   \n",
      "457  0.0  0.0  1.0  0.0  0.0  0.0  0.0  1.0  0.0  0.0 ...   0.0  1.0  0.0   \n",
      "458  0.0  0.0  1.0  0.0  0.0  0.0  0.0  0.0  1.0  0.0 ...   0.0  1.0  0.0   \n",
      "459  0.0  0.0  1.0  0.0  0.0  0.0  0.0  1.0  0.0  0.0 ...   0.0  1.0  0.0   \n",
      "460  0.0  0.0  0.0  1.0  0.0  0.0  0.0  0.0  1.0  0.0 ...   0.0  1.0  0.0   \n",
      "461  0.0  0.0  1.0  0.0  0.0  0.0  0.0  0.0  1.0  0.0 ...   0.0  1.0  0.0   \n",
      "462  0.0  0.0  1.0  0.0  0.0  0.0  0.0  0.0  0.0  1.0 ...   0.0  0.0  0.0   \n",
      "463  0.0  0.0  0.0  1.0  0.0  0.0  0.0  0.0  1.0  0.0 ...   0.0  1.0  1.0   \n",
      "464  0.0  0.0  1.0  0.0  0.0  0.0  0.0  0.0  1.0  0.0 ...   0.0  1.0  1.0   \n",
      "465  0.0  1.0  0.0  0.0  0.0  0.0  0.0  0.0  1.0  0.0 ...   0.0  1.0  0.0   \n",
      "466  0.0  0.0  1.0  0.0  0.0  0.0  0.0  1.0  0.0  0.0 ...   0.0  0.0  0.0   \n",
      "467  0.0  0.0  1.0  0.0  0.0  0.0  0.0  0.0  1.0  0.0 ...   0.0  1.0  0.0   \n",
      "468  0.0  0.0  1.0  0.0  0.0  0.0  0.0  0.0  1.0  0.0 ...   0.0  1.0  1.0   \n",
      "469  0.0  0.0  1.0  0.0  0.0  0.0  0.0  1.0  0.0  0.0 ...   0.0  0.0  0.0   \n",
      "\n",
      "      21   22   23   24   25    26   27  \n",
      "0    0.0  0.0  0.0  1.0  0.0  60.0  0.0  \n",
      "1    0.0  0.0  0.0  1.0  0.0  51.0  0.0  \n",
      "2    0.0  0.0  0.0  1.0  0.0  59.0  0.0  \n",
      "3    0.0  0.0  0.0  0.0  0.0  54.0  0.0  \n",
      "4    0.0  0.0  0.0  1.0  0.0  73.0  1.0  \n",
      "5    0.0  0.0  0.0  0.0  0.0  51.0  0.0  \n",
      "6    1.0  0.0  0.0  1.0  0.0  59.0  1.0  \n",
      "7    0.0  0.0  1.0  1.0  0.0  66.0  1.0  \n",
      "8    0.0  0.0  0.0  1.0  0.0  68.0  0.0  \n",
      "9    0.0  0.0  0.0  1.0  0.0  54.0  0.0  \n",
      "10   0.0  0.0  0.0  0.0  0.0  60.0  0.0  \n",
      "11   0.0  0.0  0.0  1.0  0.0  58.0  0.0  \n",
      "12   0.0  0.0  0.0  1.0  0.0  68.0  0.0  \n",
      "13   0.0  0.0  0.0  1.0  0.0  80.0  1.0  \n",
      "14   0.0  0.0  0.0  1.0  0.0  77.0  0.0  \n",
      "15   0.0  0.0  0.0  1.0  0.0  62.0  0.0  \n",
      "16   0.0  0.0  0.0  1.0  0.0  56.0  0.0  \n",
      "17   0.0  0.0  0.0  1.0  0.0  61.0  0.0  \n",
      "18   0.0  0.0  0.0  1.0  0.0  70.0  0.0  \n",
      "19   0.0  0.0  0.0  1.0  0.0  71.0  0.0  \n",
      "20   0.0  0.0  0.0  1.0  0.0  51.0  0.0  \n",
      "21   0.0  0.0  0.0  1.0  0.0  62.0  0.0  \n",
      "22   0.0  0.0  0.0  1.0  0.0  62.0  0.0  \n",
      "23   0.0  0.0  0.0  1.0  0.0  62.0  0.0  \n",
      "24   0.0  0.0  0.0  0.0  0.0  58.0  1.0  \n",
      "25   0.0  0.0  0.0  1.0  0.0  57.0  0.0  \n",
      "26   0.0  0.0  0.0  1.0  0.0  60.0  0.0  \n",
      "27   0.0  0.0  0.0  1.0  0.0  68.0  1.0  \n",
      "28   0.0  0.0  0.0  1.0  0.0  56.0  0.0  \n",
      "29   0.0  0.0  0.0  1.0  0.0  61.0  0.0  \n",
      "..   ...  ...  ...  ...  ...   ...  ...  \n",
      "440  0.0  0.0  0.0  1.0  0.0  65.0  0.0  \n",
      "441  0.0  0.0  0.0  0.0  0.0  62.0  0.0  \n",
      "442  0.0  0.0  0.0  0.0  0.0  61.0  0.0  \n",
      "443  0.0  0.0  0.0  0.0  0.0  76.0  0.0  \n",
      "444  0.0  0.0  0.0  1.0  0.0  50.0  0.0  \n",
      "445  0.0  0.0  0.0  1.0  0.0  63.0  0.0  \n",
      "446  0.0  0.0  0.0  0.0  0.0  49.0  0.0  \n",
      "447  0.0  0.0  0.0  1.0  0.0  52.0  0.0  \n",
      "448  0.0  0.0  0.0  1.0  0.0  69.0  0.0  \n",
      "449  0.0  0.0  0.0  1.0  0.0  53.0  1.0  \n",
      "450  0.0  0.0  0.0  0.0  0.0  77.0  0.0  \n",
      "451  0.0  0.0  0.0  1.0  0.0  59.0  0.0  \n",
      "452  0.0  0.0  0.0  1.0  0.0  70.0  0.0  \n",
      "453  0.0  0.0  0.0  1.0  0.0  72.0  0.0  \n",
      "454  0.0  0.0  0.0  1.0  0.0  70.0  0.0  \n",
      "455  0.0  0.0  0.0  1.0  0.0  70.0  0.0  \n",
      "456  0.0  0.0  0.0  1.0  0.0  62.0  0.0  \n",
      "457  0.0  0.0  0.0  1.0  0.0  61.0  0.0  \n",
      "458  0.0  0.0  0.0  0.0  0.0  46.0  0.0  \n",
      "459  0.0  0.0  0.0  0.0  0.0  66.0  0.0  \n",
      "460  0.0  0.0  0.0  0.0  0.0  55.0  0.0  \n",
      "461  0.0  0.0  0.0  0.0  0.0  72.0  0.0  \n",
      "462  0.0  0.0  0.0  1.0  0.0  74.0  0.0  \n",
      "463  1.0  0.0  0.0  1.0  0.0  57.0  1.0  \n",
      "464  0.0  0.0  0.0  1.0  0.0  79.0  0.0  \n",
      "465  0.0  0.0  0.0  1.0  0.0  63.0  0.0  \n",
      "466  0.0  0.0  0.0  1.0  0.0  61.0  0.0  \n",
      "467  0.0  0.0  0.0  0.0  0.0  52.0  0.0  \n",
      "468  0.0  0.0  0.0  1.0  0.0  79.0  0.0  \n",
      "469  0.0  0.0  0.0  1.0  0.0  51.0  0.0  \n",
      "\n",
      "[470 rows x 28 columns]\n",
      "     DGN1  DGN2  DGN3  DGN4  DGN5  DGN6  DGN8  PRZ0  PRZ1  PRZ2  ...   DBS  \\\n",
      "0     0.0   1.0   0.0   0.0   0.0   0.0   0.0   0.0   1.0   0.0  ...   0.0   \n",
      "1     0.0   0.0   1.0   0.0   0.0   0.0   0.0   1.0   0.0   0.0  ...   0.0   \n",
      "2     0.0   0.0   1.0   0.0   0.0   0.0   0.0   0.0   1.0   0.0  ...   0.0   \n",
      "3     0.0   0.0   1.0   0.0   0.0   0.0   0.0   1.0   0.0   0.0  ...   0.0   \n",
      "4     0.0   0.0   1.0   0.0   0.0   0.0   0.0   0.0   0.0   1.0  ...   0.0   \n",
      "5     0.0   0.0   1.0   0.0   0.0   0.0   0.0   0.0   1.0   0.0  ...   0.0   \n",
      "6     0.0   0.0   1.0   0.0   0.0   0.0   0.0   0.0   1.0   0.0  ...   0.0   \n",
      "7     0.0   1.0   0.0   0.0   0.0   0.0   0.0   0.0   1.0   0.0  ...   0.0   \n",
      "8     0.0   0.0   1.0   0.0   0.0   0.0   0.0   0.0   0.0   1.0  ...   0.0   \n",
      "9     0.0   0.0   1.0   0.0   0.0   0.0   0.0   0.0   1.0   0.0  ...   0.0   \n",
      "10    0.0   0.0   1.0   0.0   0.0   0.0   0.0   1.0   0.0   0.0  ...   0.0   \n",
      "11    0.0   0.0   1.0   0.0   0.0   0.0   0.0   0.0   1.0   0.0  ...   0.0   \n",
      "12    0.0   0.0   1.0   0.0   0.0   0.0   0.0   0.0   1.0   0.0  ...   0.0   \n",
      "13    0.0   1.0   0.0   0.0   0.0   0.0   0.0   0.0   0.0   1.0  ...   0.0   \n",
      "14    0.0   0.0   1.0   0.0   0.0   0.0   0.0   0.0   1.0   0.0  ...   0.0   \n",
      "15    0.0   0.0   1.0   0.0   0.0   0.0   0.0   0.0   1.0   0.0  ...   0.0   \n",
      "16    0.0   1.0   0.0   0.0   0.0   0.0   0.0   1.0   0.0   0.0  ...   0.0   \n",
      "17    0.0   1.0   0.0   0.0   0.0   0.0   0.0   1.0   0.0   0.0  ...   0.0   \n",
      "18    0.0   0.0   1.0   0.0   0.0   0.0   0.0   0.0   1.0   0.0  ...   0.0   \n",
      "19    0.0   0.0   1.0   0.0   0.0   0.0   0.0   1.0   0.0   0.0  ...   0.0   \n",
      "20    0.0   0.0   1.0   0.0   0.0   0.0   0.0   1.0   0.0   0.0  ...   0.0   \n",
      "21    0.0   0.0   0.0   1.0   0.0   0.0   0.0   1.0   0.0   0.0  ...   0.0   \n",
      "22    0.0   0.0   1.0   0.0   0.0   0.0   0.0   1.0   0.0   0.0  ...   0.0   \n",
      "23    0.0   0.0   1.0   0.0   0.0   0.0   0.0   1.0   0.0   0.0  ...   0.0   \n",
      "24    0.0   0.0   0.0   0.0   0.0   0.0   1.0   1.0   0.0   0.0  ...   0.0   \n",
      "25    0.0   0.0   0.0   0.0   1.0   0.0   0.0   1.0   0.0   0.0  ...   0.0   \n",
      "26    0.0   0.0   1.0   0.0   0.0   0.0   0.0   0.0   1.0   0.0  ...   0.0   \n",
      "27    0.0   0.0   1.0   0.0   0.0   0.0   0.0   0.0   1.0   0.0  ...   0.0   \n",
      "28    0.0   0.0   1.0   0.0   0.0   0.0   0.0   0.0   1.0   0.0  ...   0.0   \n",
      "29    0.0   0.0   0.0   0.0   0.0   1.0   0.0   1.0   0.0   0.0  ...   0.0   \n",
      "..    ...   ...   ...   ...   ...   ...   ...   ...   ...   ...  ...   ...   \n",
      "440   0.0   0.0   1.0   0.0   0.0   0.0   0.0   0.0   1.0   0.0  ...   0.0   \n",
      "441   0.0   1.0   0.0   0.0   0.0   0.0   0.0   1.0   0.0   0.0  ...   0.0   \n",
      "442   0.0   1.0   0.0   0.0   0.0   0.0   0.0   0.0   1.0   0.0  ...   1.0   \n",
      "443   0.0   0.0   1.0   0.0   0.0   0.0   0.0   0.0   0.0   1.0  ...   0.0   \n",
      "444   0.0   0.0   1.0   0.0   0.0   0.0   0.0   1.0   0.0   0.0  ...   0.0   \n",
      "445   0.0   0.0   1.0   0.0   0.0   0.0   0.0   1.0   0.0   0.0  ...   0.0   \n",
      "446   0.0   0.0   0.0   0.0   0.0   0.0   1.0   1.0   0.0   0.0  ...   0.0   \n",
      "447   0.0   1.0   0.0   0.0   0.0   0.0   0.0   0.0   1.0   0.0  ...   0.0   \n",
      "448   0.0   0.0   1.0   0.0   0.0   0.0   0.0   1.0   0.0   0.0  ...   0.0   \n",
      "449   0.0   0.0   1.0   0.0   0.0   0.0   0.0   0.0   1.0   0.0  ...   0.0   \n",
      "450   0.0   0.0   1.0   0.0   0.0   0.0   0.0   0.0   0.0   1.0  ...   0.0   \n",
      "451   0.0   0.0   0.0   1.0   0.0   0.0   0.0   0.0   1.0   0.0  ...   0.0   \n",
      "452   0.0   0.0   1.0   0.0   0.0   0.0   0.0   0.0   1.0   0.0  ...   0.0   \n",
      "453   0.0   0.0   1.0   0.0   0.0   0.0   0.0   0.0   1.0   0.0  ...   0.0   \n",
      "454   0.0   0.0   1.0   0.0   0.0   0.0   0.0   1.0   0.0   0.0  ...   0.0   \n",
      "455   0.0   0.0   0.0   1.0   0.0   0.0   0.0   0.0   1.0   0.0  ...   0.0   \n",
      "456   0.0   0.0   1.0   0.0   0.0   0.0   0.0   0.0   1.0   0.0  ...   0.0   \n",
      "457   0.0   0.0   1.0   0.0   0.0   0.0   0.0   1.0   0.0   0.0  ...   0.0   \n",
      "458   0.0   0.0   1.0   0.0   0.0   0.0   0.0   0.0   1.0   0.0  ...   0.0   \n",
      "459   0.0   0.0   1.0   0.0   0.0   0.0   0.0   1.0   0.0   0.0  ...   0.0   \n",
      "460   0.0   0.0   0.0   1.0   0.0   0.0   0.0   0.0   1.0   0.0  ...   0.0   \n",
      "461   0.0   0.0   1.0   0.0   0.0   0.0   0.0   0.0   1.0   0.0  ...   0.0   \n",
      "462   0.0   0.0   1.0   0.0   0.0   0.0   0.0   0.0   0.0   1.0  ...   0.0   \n",
      "463   0.0   0.0   0.0   1.0   0.0   0.0   0.0   0.0   1.0   0.0  ...   0.0   \n",
      "464   0.0   0.0   1.0   0.0   0.0   0.0   0.0   0.0   1.0   0.0  ...   0.0   \n",
      "465   0.0   1.0   0.0   0.0   0.0   0.0   0.0   0.0   1.0   0.0  ...   0.0   \n",
      "466   0.0   0.0   1.0   0.0   0.0   0.0   0.0   1.0   0.0   0.0  ...   0.0   \n",
      "467   0.0   0.0   1.0   0.0   0.0   0.0   0.0   0.0   1.0   0.0  ...   0.0   \n",
      "468   0.0   0.0   1.0   0.0   0.0   0.0   0.0   0.0   1.0   0.0  ...   0.0   \n",
      "469   0.0   0.0   1.0   0.0   0.0   0.0   0.0   1.0   0.0   0.0  ...   0.0   \n",
      "\n",
      "     CBS  WBS   DM   MI  PAD  Smoking  Asthma   Age  Risk  \n",
      "0    1.0  1.0  0.0  0.0  0.0      1.0     0.0  60.0   0.0  \n",
      "1    0.0  0.0  0.0  0.0  0.0      1.0     0.0  51.0   0.0  \n",
      "2    1.0  0.0  0.0  0.0  0.0      1.0     0.0  59.0   0.0  \n",
      "3    0.0  0.0  0.0  0.0  0.0      0.0     0.0  54.0   0.0  \n",
      "4    1.0  1.0  0.0  0.0  0.0      1.0     0.0  73.0   1.0  \n",
      "5    1.0  0.0  0.0  0.0  0.0      0.0     0.0  51.0   0.0  \n",
      "6    1.0  0.0  1.0  0.0  0.0      1.0     0.0  59.0   1.0  \n",
      "7    1.0  0.0  0.0  0.0  1.0      1.0     0.0  66.0   1.0  \n",
      "8    1.0  1.0  0.0  0.0  0.0      1.0     0.0  68.0   0.0  \n",
      "9    1.0  0.0  0.0  0.0  0.0      1.0     0.0  54.0   0.0  \n",
      "10   1.0  0.0  0.0  0.0  0.0      0.0     0.0  60.0   0.0  \n",
      "11   0.0  0.0  0.0  0.0  0.0      1.0     0.0  58.0   0.0  \n",
      "12   1.0  1.0  0.0  0.0  0.0      1.0     0.0  68.0   0.0  \n",
      "13   1.0  1.0  0.0  0.0  0.0      1.0     0.0  80.0   1.0  \n",
      "14   1.0  0.0  0.0  0.0  0.0      1.0     0.0  77.0   0.0  \n",
      "15   1.0  0.0  0.0  0.0  0.0      1.0     0.0  62.0   0.0  \n",
      "16   0.0  0.0  0.0  0.0  0.0      1.0     0.0  56.0   0.0  \n",
      "17   0.0  0.0  0.0  0.0  0.0      1.0     0.0  61.0   0.0  \n",
      "18   1.0  0.0  0.0  0.0  0.0      1.0     0.0  70.0   0.0  \n",
      "19   0.0  0.0  0.0  0.0  0.0      1.0     0.0  71.0   0.0  \n",
      "20   0.0  0.0  0.0  0.0  0.0      1.0     0.0  51.0   0.0  \n",
      "21   0.0  0.0  0.0  0.0  0.0      1.0     0.0  62.0   0.0  \n",
      "22   0.0  0.0  0.0  0.0  0.0      1.0     0.0  62.0   0.0  \n",
      "23   0.0  0.0  0.0  0.0  0.0      1.0     0.0  62.0   0.0  \n",
      "24   0.0  0.0  0.0  0.0  0.0      0.0     0.0  58.0   1.0  \n",
      "25   1.0  0.0  0.0  0.0  0.0      1.0     0.0  57.0   0.0  \n",
      "26   1.0  0.0  0.0  0.0  0.0      1.0     0.0  60.0   0.0  \n",
      "27   1.0  1.0  0.0  0.0  0.0      1.0     0.0  68.0   1.0  \n",
      "28   1.0  1.0  0.0  0.0  0.0      1.0     0.0  56.0   0.0  \n",
      "29   0.0  0.0  0.0  0.0  0.0      1.0     0.0  61.0   0.0  \n",
      "..   ...  ...  ...  ...  ...      ...     ...   ...   ...  \n",
      "440  1.0  1.0  0.0  0.0  0.0      1.0     0.0  65.0   0.0  \n",
      "441  0.0  0.0  0.0  0.0  0.0      0.0     0.0  62.0   0.0  \n",
      "442  1.0  0.0  0.0  0.0  0.0      0.0     0.0  61.0   0.0  \n",
      "443  1.0  1.0  0.0  0.0  0.0      0.0     0.0  76.0   0.0  \n",
      "444  0.0  0.0  0.0  0.0  0.0      1.0     0.0  50.0   0.0  \n",
      "445  0.0  0.0  0.0  0.0  0.0      1.0     0.0  63.0   0.0  \n",
      "446  0.0  0.0  0.0  0.0  0.0      0.0     0.0  49.0   0.0  \n",
      "447  1.0  1.0  0.0  0.0  0.0      1.0     0.0  52.0   0.0  \n",
      "448  0.0  0.0  0.0  0.0  0.0      1.0     0.0  69.0   0.0  \n",
      "449  1.0  0.0  0.0  0.0  0.0      1.0     0.0  53.0   1.0  \n",
      "450  1.0  1.0  0.0  0.0  0.0      0.0     0.0  77.0   0.0  \n",
      "451  1.0  0.0  0.0  0.0  0.0      1.0     0.0  59.0   0.0  \n",
      "452  1.0  0.0  0.0  0.0  0.0      1.0     0.0  70.0   0.0  \n",
      "453  1.0  1.0  0.0  0.0  0.0      1.0     0.0  72.0   0.0  \n",
      "454  0.0  0.0  0.0  0.0  0.0      1.0     0.0  70.0   0.0  \n",
      "455  1.0  0.0  0.0  0.0  0.0      1.0     0.0  70.0   0.0  \n",
      "456  1.0  0.0  0.0  0.0  0.0      1.0     0.0  62.0   0.0  \n",
      "457  1.0  0.0  0.0  0.0  0.0      1.0     0.0  61.0   0.0  \n",
      "458  1.0  0.0  0.0  0.0  0.0      0.0     0.0  46.0   0.0  \n",
      "459  1.0  0.0  0.0  0.0  0.0      0.0     0.0  66.0   0.0  \n",
      "460  1.0  0.0  0.0  0.0  0.0      0.0     0.0  55.0   0.0  \n",
      "461  1.0  0.0  0.0  0.0  0.0      0.0     0.0  72.0   0.0  \n",
      "462  0.0  0.0  0.0  0.0  0.0      1.0     0.0  74.0   0.0  \n",
      "463  1.0  1.0  1.0  0.0  0.0      1.0     0.0  57.0   1.0  \n",
      "464  1.0  1.0  0.0  0.0  0.0      1.0     0.0  79.0   0.0  \n",
      "465  1.0  0.0  0.0  0.0  0.0      1.0     0.0  63.0   0.0  \n",
      "466  0.0  0.0  0.0  0.0  0.0      1.0     0.0  61.0   0.0  \n",
      "467  1.0  0.0  0.0  0.0  0.0      0.0     0.0  52.0   0.0  \n",
      "468  1.0  1.0  0.0  0.0  0.0      1.0     0.0  79.0   0.0  \n",
      "469  0.0  0.0  0.0  0.0  0.0      1.0     0.0  51.0   0.0  \n",
      "\n",
      "[470 rows x 28 columns]\n"
     ]
    },
    {
     "name": "stderr",
     "output_type": "stream",
     "text": [
      "C:\\Users\\Kabir\\Anaconda2\\lib\\site-packages\\sklearn\\cross_validation.py:44: DeprecationWarning: This module was deprecated in version 0.18 in favor of the model_selection module into which all the refactored classes and functions are moved. Also note that the interface of the new CV iterators are different from that of this module. This module will be removed in 0.20.\n",
      "  \"This module will be removed in 0.20.\", DeprecationWarning)\n"
     ]
    },
    {
     "ename": "NameError",
     "evalue": "name 'X' is not defined",
     "output_type": "error",
     "traceback": [
      "\u001b[0;31m---------------------------------------------------------------------------\u001b[0m",
      "\u001b[0;31mNameError\u001b[0m                                 Traceback (most recent call last)",
      "\u001b[0;32m<ipython-input-1-0cd14652f7ff>\u001b[0m in \u001b[0;36m<module>\u001b[0;34m()\u001b[0m\n\u001b[1;32m     59\u001b[0m \u001b[1;32mprint\u001b[0m \u001b[0mdf\u001b[0m\u001b[1;33m\u001b[0m\u001b[0m\n\u001b[1;32m     60\u001b[0m \u001b[1;32mfrom\u001b[0m \u001b[0msklearn\u001b[0m\u001b[1;33m.\u001b[0m\u001b[0mcross_validation\u001b[0m \u001b[1;32mimport\u001b[0m \u001b[0mtrain_test_split\u001b[0m\u001b[1;33m\u001b[0m\u001b[0m\n\u001b[0;32m---> 61\u001b[0;31m \u001b[0mX_train\u001b[0m\u001b[1;33m,\u001b[0m\u001b[0mX_test\u001b[0m\u001b[1;33m,\u001b[0m\u001b[0my_train\u001b[0m\u001b[1;33m,\u001b[0m\u001b[0my_test\u001b[0m \u001b[1;33m=\u001b[0m \u001b[0mtrain_test_split\u001b[0m\u001b[1;33m(\u001b[0m\u001b[0mX\u001b[0m\u001b[1;33m,\u001b[0m\u001b[0my\u001b[0m\u001b[1;33m,\u001b[0m\u001b[0mtest_size\u001b[0m\u001b[1;33m=\u001b[0m\u001b[1;36m0.2\u001b[0m\u001b[1;33m,\u001b[0m\u001b[0mrandom_state\u001b[0m\u001b[1;33m=\u001b[0m\u001b[1;36m42\u001b[0m\u001b[1;33m)\u001b[0m\u001b[1;33m\u001b[0m\u001b[0m\n\u001b[0m",
      "\u001b[0;31mNameError\u001b[0m: name 'X' is not defined"
     ]
    }
   ],
   "source": [
    "import arff\n",
    "import numpy as np\n",
    "dataset=arff.load(open(\"ThoraricSurgery.arff\",'rb'))\n",
    "data=np.array(dataset['data'])\n",
    "data=data.astype(str)\n",
    "\n",
    "data1=np.zeros((470,28))\n",
    "data1=data1.astype(str)\n",
    "for i in xrange(470):\n",
    "    k=14\n",
    "    for j in xrange(17):\n",
    "        if data[i][j]=='DGN1':\n",
    "            data1[i][0]=1\n",
    "        elif data[i][j]=='DGN2':\n",
    "            data1[i][1]=1\n",
    "        elif data[i][j]=='DGN3':\n",
    "            data1[i][2]=1\n",
    "        elif data[i][j]=='DGN4':\n",
    "            data1[i][3]=1\n",
    "        elif data[i][j]=='DGN5':\n",
    "            data1[i][4]=1\n",
    "        elif data[i][j]=='DGN6':\n",
    "            data1[i][5]=1\n",
    "        elif data[i][j]=='DGN8':\n",
    "            data1[i][6]=1\n",
    "        elif data[i][j]=='PRZ0':\n",
    "            data1[i][7]=1\n",
    "        elif data[i][j]=='PRZ1':\n",
    "            data1[i][8]=1\n",
    "        elif data[i][j]=='PRZ2':\n",
    "            data1[i][9]=1\n",
    "        elif data[i][j]=='OC11':\n",
    "            data1[i][10]=1\n",
    "        elif data[i][j]=='OC12':\n",
    "            data1[i][11]=1\n",
    "        elif data[i][j]=='OC13':\n",
    "            data1[i][12]=1\n",
    "        elif data[i][j]=='OC14':\n",
    "            data1[i][13]=1\n",
    "        else:\n",
    "            data1[i][k]=data[i][j]\n",
    "            k+=1\n",
    "\n",
    "for i in xrange(470):\n",
    "    for j in xrange(28):\n",
    "        if data1[i][j]=='F':\n",
    "            data1[i][j]=0\n",
    "        elif data1[i][j]=='T':\n",
    "            data1[i][j]=1\n",
    "            \n",
    "data1=data1.astype(float)\n",
    "import pandas as pd\n",
    "df = pd.DataFrame(data1)\n",
    "print df\n",
    "new_header = [\"DGN1\",\"DGN2\",\"DGN3\",\"DGN4\",\"DGN5\",\"DGN6\",\"DGN8\",\"PRZ0\",\"PRZ1\",\"PRZ2\",\"OC11\",\n",
    "              \"OC12\",\"OC13\",\"OC14\",\"FVC\",\"FEV1\",\"PBS\",\"HBS\",\"DBS\",\"CBS\",\"WBS\",\"DM\",\"MI\",\n",
    "              \"PAD\",\"Smoking\",\"Asthma\",\"Age\",\"Risk\"]\n",
    "df.columns = new_header\n",
    "print df\n",
    "from sklearn.cross_validation import train_test_split\n",
    "X_train,X_test,y_train,y_test = train_test_split(X,y,test_size=0.2,random_state=42)"
   ]
  },
  {
   "cell_type": "code",
   "execution_count": 2,
   "metadata": {
    "collapsed": false
   },
   "outputs": [
    {
     "ename": "NameError",
     "evalue": "name 'X' is not defined",
     "output_type": "error",
     "traceback": [
      "\u001b[0;31m---------------------------------------------------------------------------\u001b[0m",
      "\u001b[0;31mNameError\u001b[0m                                 Traceback (most recent call last)",
      "\u001b[0;32m<ipython-input-2-aabbf579e9ea>\u001b[0m in \u001b[0;36m<module>\u001b[0;34m()\u001b[0m\n\u001b[0;32m----> 1\u001b[0;31m \u001b[0mX_train\u001b[0m\u001b[1;33m,\u001b[0m\u001b[0mX_test\u001b[0m\u001b[1;33m,\u001b[0m\u001b[0my_train\u001b[0m\u001b[1;33m,\u001b[0m\u001b[0my_test\u001b[0m \u001b[1;33m=\u001b[0m \u001b[0mtrain_test_split\u001b[0m\u001b[1;33m(\u001b[0m\u001b[0mX\u001b[0m\u001b[1;33m,\u001b[0m\u001b[0my\u001b[0m\u001b[1;33m,\u001b[0m\u001b[0mtest_size\u001b[0m\u001b[1;33m=\u001b[0m\u001b[1;36m0.2\u001b[0m\u001b[1;33m,\u001b[0m\u001b[0mrandom_state\u001b[0m\u001b[1;33m=\u001b[0m\u001b[1;36m42\u001b[0m\u001b[1;33m)\u001b[0m\u001b[1;33m\u001b[0m\u001b[0m\n\u001b[0m",
      "\u001b[0;31mNameError\u001b[0m: name 'X' is not defined"
     ]
    }
   ],
   "source": [
    "X_train,X_test,y_train,y_test = train_test_split(X,y,test_size=0.2,random_state=42)"
   ]
  },
  {
   "cell_type": "code",
   "execution_count": 3,
   "metadata": {
    "collapsed": true
   },
   "outputs": [],
   "source": [
    "X = data1[:,0:27]\n",
    "y = data1[:,27]\n",
    "X_train,X_test,y_train,y_test = train_test_split(X,y,test_size=0.2,random_state=42)"
   ]
  },
  {
   "cell_type": "code",
   "execution_count": 4,
   "metadata": {
    "collapsed": false
   },
   "outputs": [
    {
     "name": "stdout",
     "output_type": "stream",
     "text": [
      "Train Accuracy for Decision tree model 1.0\n",
      "Test Accuracy for Decision tree model 0.702127659574\n"
     ]
    }
   ],
   "source": [
    "from sklearn.tree import DecisionTreeClassifier\n",
    "model_tree = DecisionTreeClassifier()\n",
    "model_tree = model_tree.fit(X_train,y_train)\n",
    "print \"Train Accuracy for Decision tree model\",model_tree.score(X_train,y_train)\n",
    "print \"Test Accuracy for Decision tree model\",model_tree.score(X_test,y_test)"
   ]
  },
  {
   "cell_type": "code",
   "execution_count": 5,
   "metadata": {
    "collapsed": false
   },
   "outputs": [
    {
     "name": "stdout",
     "output_type": "stream",
     "text": [
      "Train Accuracy for Decision tree model 1.0\n",
      "Test Accuracy for Decision tree model 0.702127659574\n"
     ]
    }
   ],
   "source": [
    "model_tree1 = DecisionTreeClassifier(max_depth=5)\n",
    "model_tree1 = model_tree.fit(X_train,y_train)\n",
    "print \"Train Accuracy for Decision tree model\",model_tree1.score(X_train,y_train)\n",
    "print \"Test Accuracy for Decision tree model\",model_tree1.score(X_test,y_test)"
   ]
  },
  {
   "cell_type": "code",
   "execution_count": 6,
   "metadata": {
    "collapsed": false
   },
   "outputs": [
    {
     "name": "stdout",
     "output_type": "stream",
     "text": [
      "Train Accuracy for Decision tree model 1.0\n",
      "Test Accuracy for Decision tree model 0.68085106383\n"
     ]
    }
   ],
   "source": [
    "model_tree1 = DecisionTreeClassifier(max_depth=2)\n",
    "model_tree1 = model_tree.fit(X_train,y_train)\n",
    "print \"Train Accuracy for Decision tree model\",model_tree1.score(X_train,y_train)\n",
    "print \"Test Accuracy for Decision tree model\",model_tree1.score(X_test,y_test)"
   ]
  },
  {
   "cell_type": "code",
   "execution_count": 7,
   "metadata": {
    "collapsed": false
   },
   "outputs": [
    {
     "name": "stdout",
     "output_type": "stream",
     "text": [
      "Train Accuracy for Decision tree model 0.890957446809\n",
      "Test Accuracy for Decision tree model 0.787234042553\n"
     ]
    }
   ],
   "source": [
    "model_tree1 = DecisionTreeClassifier(max_depth=5)\n",
    "model_tree1 = model_tree1.fit(X_train,y_train)\n",
    "print \"Train Accuracy for Decision tree model\",model_tree1.score(X_train,y_train)\n",
    "print \"Test Accuracy for Decision tree model\",model_tree1.score(X_test,y_test)"
   ]
  },
  {
   "cell_type": "code",
   "execution_count": 8,
   "metadata": {
    "collapsed": false
   },
   "outputs": [
    {
     "name": "stdout",
     "output_type": "stream",
     "text": [
      "Train Accuracy for svm model 0.890957446809\n",
      "Test Accuracy for svm model 0.787234042553\n"
     ]
    }
   ],
   "source": [
    "from sklearn.svm import SVC\n",
    "model_svm = DecisionTreeClassifier()\n",
    "model_svm = model_tree1.fit(X_train,y_train)\n",
    "print \"Train Accuracy for svm model\",model_svm.score(X_train,y_train)\n",
    "print \"Test Accuracy for svm model\",model_svm.score(X_test,y_test)"
   ]
  },
  {
   "cell_type": "code",
   "execution_count": 9,
   "metadata": {
    "collapsed": false
   },
   "outputs": [
    {
     "name": "stdout",
     "output_type": "stream",
     "text": [
      "0.851063829787\n",
      "0.776595744681\n"
     ]
    }
   ],
   "source": [
    "from sklearn.naive_bayes import BernoulliNB\n",
    "model_bnb = BernoulliNB()\n",
    "model_bnb = model_bnb.fit(X_train,y_train)\n",
    "print model_bnb.score(X_train,y_train)\n",
    "print model_bnb.score(X_test,y_test)"
   ]
  },
  {
   "cell_type": "code",
   "execution_count": 10,
   "metadata": {
    "collapsed": false
   },
   "outputs": [
    {
     "ename": "NameError",
     "evalue": "name 'RandomForestClassifier' is not defined",
     "output_type": "error",
     "traceback": [
      "\u001b[0;31m---------------------------------------------------------------------------\u001b[0m",
      "\u001b[0;31mNameError\u001b[0m                                 Traceback (most recent call last)",
      "\u001b[0;32m<ipython-input-10-878b34caf632>\u001b[0m in \u001b[0;36m<module>\u001b[0;34m()\u001b[0m\n\u001b[0;32m----> 1\u001b[0;31m \u001b[0mmodel_forest\u001b[0m \u001b[1;33m=\u001b[0m \u001b[0mRandomForestClassifier\u001b[0m\u001b[1;33m(\u001b[0m\u001b[0mmax_depth\u001b[0m\u001b[1;33m=\u001b[0m\u001b[1;36m5\u001b[0m\u001b[1;33m)\u001b[0m\u001b[1;33m\u001b[0m\u001b[0m\n\u001b[0m\u001b[1;32m      2\u001b[0m \u001b[0mmodel_forest\u001b[0m \u001b[1;33m=\u001b[0m \u001b[0mmodel_forest\u001b[0m\u001b[1;33m.\u001b[0m\u001b[0mfit\u001b[0m\u001b[1;33m(\u001b[0m\u001b[0mX_train\u001b[0m\u001b[1;33m,\u001b[0m\u001b[0my_train\u001b[0m\u001b[1;33m)\u001b[0m\u001b[1;33m\u001b[0m\u001b[0m\n\u001b[1;32m      3\u001b[0m \u001b[1;32mprint\u001b[0m \u001b[0mmodel_forest\u001b[0m\u001b[1;33m.\u001b[0m\u001b[0mscore\u001b[0m\u001b[1;33m(\u001b[0m\u001b[0mX_train\u001b[0m\u001b[1;33m,\u001b[0m\u001b[0my_train\u001b[0m\u001b[1;33m)\u001b[0m\u001b[1;33m\u001b[0m\u001b[0m\n\u001b[1;32m      4\u001b[0m \u001b[1;32mprint\u001b[0m \u001b[0mmodel_forest\u001b[0m\u001b[1;33m.\u001b[0m\u001b[0mscore\u001b[0m\u001b[1;33m(\u001b[0m\u001b[0mX_test\u001b[0m\u001b[1;33m,\u001b[0m\u001b[0my_test\u001b[0m\u001b[1;33m)\u001b[0m\u001b[1;33m\u001b[0m\u001b[0m\n",
      "\u001b[0;31mNameError\u001b[0m: name 'RandomForestClassifier' is not defined"
     ]
    }
   ],
   "source": [
    "model_forest = RandomForestClassifier(max_depth=5)\n",
    "model_forest = model_forest.fit(X_train,y_train)\n",
    "print model_forest.score(X_train,y_train)\n",
    "print model_forest.score(X_test,y_test)"
   ]
  },
  {
   "cell_type": "code",
   "execution_count": 11,
   "metadata": {
    "collapsed": false
   },
   "outputs": [
    {
     "name": "stdout",
     "output_type": "stream",
     "text": [
      "0.882978723404\n",
      "0.797872340426\n"
     ]
    }
   ],
   "source": [
    "from sklearn.ensemble import RandomForestClassifier\n",
    "model_forest = RandomForestClassifier(max_depth=5)\n",
    "model_forest = model_forest.fit(X_train,y_train)\n",
    "print model_forest.score(X_train,y_train)\n",
    "print model_forest.score(X_test,y_test)"
   ]
  },
  {
   "cell_type": "code",
   "execution_count": 12,
   "metadata": {
    "collapsed": true
   },
   "outputs": [],
   "source": [
    "from sklearn.metrics import precision_score\n",
    "from sklearn.metrics import recall_score\n",
    "from sklearn.metrics import f1_score"
   ]
  },
  {
   "cell_type": "code",
   "execution_count": 13,
   "metadata": {
    "collapsed": false
   },
   "outputs": [
    {
     "name": "stdout",
     "output_type": "stream",
     "text": [
      "0.133333333333\n",
      "0.105263157895\n",
      "0.117647058824\n"
     ]
    }
   ],
   "source": [
    "print precision_score(y_test,model_tree.predict(X_test))\n",
    "print recall_score(y_test,model_tree.predict(X_test))\n",
    "print f1_score(y_test,model_tree.predict(X_test))"
   ]
  },
  {
   "cell_type": "code",
   "execution_count": 14,
   "metadata": {
    "collapsed": false
   },
   "outputs": [
    {
     "name": "stdout",
     "output_type": "stream",
     "text": [
      "0.0\n",
      "0.0\n",
      "0.0\n"
     ]
    }
   ],
   "source": [
    "print precision_score(y_test,model_tree1.predict(X_test))\n",
    "print recall_score(y_test,model_tree1.predict(X_test))\n",
    "print f1_score(y_test,model_tree1.predict(X_test))"
   ]
  },
  {
   "cell_type": "code",
   "execution_count": 15,
   "metadata": {
    "collapsed": false
   },
   "outputs": [
    {
     "name": "stdout",
     "output_type": "stream",
     "text": [
      "Train Accuracy for Decision tree model 0.912234042553\n",
      "Test Accuracy for Decision tree model 0.787234042553\n"
     ]
    }
   ],
   "source": [
    "model_tree1 = DecisionTreeClassifier(max_depth=7)\n",
    "model_tree1 = model_tree1.fit(X_train,y_train)\n",
    "print \"Train Accuracy for Decision tree model\",model_tree1.score(X_train,y_train)\n",
    "print \"Test Accuracy for Decision tree model\",model_tree1.score(X_test,y_test)"
   ]
  },
  {
   "cell_type": "code",
   "execution_count": 16,
   "metadata": {
    "collapsed": false
   },
   "outputs": [
    {
     "name": "stdout",
     "output_type": "stream",
     "text": [
      "0.428571428571\n",
      "0.157894736842\n",
      "0.230769230769\n"
     ]
    }
   ],
   "source": [
    "print precision_score(y_test,model_tree1.predict(X_test))\n",
    "print recall_score(y_test,model_tree1.predict(X_test))\n",
    "print f1_score(y_test,model_tree1.predict(X_test))"
   ]
  },
  {
   "cell_type": "code",
   "execution_count": 17,
   "metadata": {
    "collapsed": false
   },
   "outputs": [
    {
     "name": "stdout",
     "output_type": "stream",
     "text": [
      "Train Accuracy for Decision tree model 0.936170212766\n",
      "Test Accuracy for Decision tree model 0.755319148936\n"
     ]
    }
   ],
   "source": [
    "model_tree1 = DecisionTreeClassifier(max_depth=8)\n",
    "model_tree1 = model_tree1.fit(X_train,y_train)\n",
    "print \"Train Accuracy for Decision tree model\",model_tree1.score(X_train,y_train)\n",
    "print \"Test Accuracy for Decision tree model\",model_tree1.score(X_test,y_test)"
   ]
  },
  {
   "cell_type": "code",
   "execution_count": 18,
   "metadata": {
    "collapsed": false
   },
   "outputs": [
    {
     "name": "stdout",
     "output_type": "stream",
     "text": [
      "0.25\n",
      "0.105263157895\n",
      "0.148148148148\n"
     ]
    }
   ],
   "source": [
    "print precision_score(y_test,model_tree1.predict(X_test))\n",
    "print recall_score(y_test,model_tree1.predict(X_test))\n",
    "print f1_score(y_test,model_tree1.predict(X_test))"
   ]
  },
  {
   "cell_type": "code",
   "execution_count": 19,
   "metadata": {
    "collapsed": false
   },
   "outputs": [
    {
     "name": "stdout",
     "output_type": "stream",
     "text": [
      "0.904255319149\n",
      "0.808510638298\n"
     ]
    }
   ],
   "source": [
    "model_forest = RandomForestClassifier(max_depth=7)\n",
    "model_forest = model_forest.fit(X_train,y_train)\n",
    "print model_forest.score(X_train,y_train)\n",
    "print model_forest.score(X_test,y_test)"
   ]
  },
  {
   "cell_type": "code",
   "execution_count": 20,
   "metadata": {
    "collapsed": false
   },
   "outputs": [
    {
     "name": "stdout",
     "output_type": "stream",
     "text": [
      "0.666666666667\n",
      "0.105263157895\n",
      "0.181818181818\n"
     ]
    }
   ],
   "source": [
    "print precision_score(y_test,model_forest.predict(X_test))\n",
    "print recall_score(y_test,model_forest.predict(X_test))\n",
    "print f1_score(y_test,model_forest.predict(X_test))"
   ]
  },
  {
   "cell_type": "code",
   "execution_count": 21,
   "metadata": {
    "collapsed": false
   },
   "outputs": [
    {
     "name": "stdout",
     "output_type": "stream",
     "text": [
      "0.917553191489\n",
      "0.787234042553\n"
     ]
    }
   ],
   "source": [
    "model_forest = RandomForestClassifier(max_depth=8)\n",
    "model_forest = model_forest.fit(X_train,y_train)\n",
    "print model_forest.score(X_train,y_train)\n",
    "print model_forest.score(X_test,y_test)"
   ]
  },
  {
   "cell_type": "code",
   "execution_count": 22,
   "metadata": {
    "collapsed": false
   },
   "outputs": [
    {
     "name": "stdout",
     "output_type": "stream",
     "text": [
      "0.0\n",
      "0.0\n",
      "0.0\n"
     ]
    }
   ],
   "source": [
    "print precision_score(y_test,model_forest.predict(X_test))\n",
    "print recall_score(y_test,model_forest.predict(X_test))\n",
    "print f1_score(y_test,model_forest.predict(X_test))"
   ]
  },
  {
   "cell_type": "code",
   "execution_count": 1,
   "metadata": {
    "collapsed": false
   },
   "outputs": [
    {
     "name": "stdout",
     "output_type": "stream",
     "text": [
      "      0    1    2    3    4    5    6    7    8    9  ...    18   19   20  \\\n",
      "0    0.0  1.0  0.0  0.0  0.0  0.0  0.0  0.0  1.0  0.0 ...   0.0  1.0  1.0   \n",
      "1    0.0  0.0  1.0  0.0  0.0  0.0  0.0  1.0  0.0  0.0 ...   0.0  0.0  0.0   \n",
      "2    0.0  0.0  1.0  0.0  0.0  0.0  0.0  0.0  1.0  0.0 ...   0.0  1.0  0.0   \n",
      "3    0.0  0.0  1.0  0.0  0.0  0.0  0.0  1.0  0.0  0.0 ...   0.0  0.0  0.0   \n",
      "4    0.0  0.0  1.0  0.0  0.0  0.0  0.0  0.0  0.0  1.0 ...   0.0  1.0  1.0   \n",
      "5    0.0  0.0  1.0  0.0  0.0  0.0  0.0  0.0  1.0  0.0 ...   0.0  1.0  0.0   \n",
      "6    0.0  0.0  1.0  0.0  0.0  0.0  0.0  0.0  1.0  0.0 ...   0.0  1.0  0.0   \n",
      "7    0.0  1.0  0.0  0.0  0.0  0.0  0.0  0.0  1.0  0.0 ...   0.0  1.0  0.0   \n",
      "8    0.0  0.0  1.0  0.0  0.0  0.0  0.0  0.0  0.0  1.0 ...   0.0  1.0  1.0   \n",
      "9    0.0  0.0  1.0  0.0  0.0  0.0  0.0  0.0  1.0  0.0 ...   0.0  1.0  0.0   \n",
      "10   0.0  0.0  1.0  0.0  0.0  0.0  0.0  1.0  0.0  0.0 ...   0.0  1.0  0.0   \n",
      "11   0.0  0.0  1.0  0.0  0.0  0.0  0.0  0.0  1.0  0.0 ...   0.0  0.0  0.0   \n",
      "12   0.0  0.0  1.0  0.0  0.0  0.0  0.0  0.0  1.0  0.0 ...   0.0  1.0  1.0   \n",
      "13   0.0  1.0  0.0  0.0  0.0  0.0  0.0  0.0  0.0  1.0 ...   0.0  1.0  1.0   \n",
      "14   0.0  0.0  1.0  0.0  0.0  0.0  0.0  0.0  1.0  0.0 ...   0.0  1.0  0.0   \n",
      "15   0.0  0.0  1.0  0.0  0.0  0.0  0.0  0.0  1.0  0.0 ...   0.0  1.0  0.0   \n",
      "16   0.0  1.0  0.0  0.0  0.0  0.0  0.0  1.0  0.0  0.0 ...   0.0  0.0  0.0   \n",
      "17   0.0  1.0  0.0  0.0  0.0  0.0  0.0  1.0  0.0  0.0 ...   0.0  0.0  0.0   \n",
      "18   0.0  0.0  1.0  0.0  0.0  0.0  0.0  0.0  1.0  0.0 ...   0.0  1.0  0.0   \n",
      "19   0.0  0.0  1.0  0.0  0.0  0.0  0.0  1.0  0.0  0.0 ...   0.0  0.0  0.0   \n",
      "20   0.0  0.0  1.0  0.0  0.0  0.0  0.0  1.0  0.0  0.0 ...   0.0  0.0  0.0   \n",
      "21   0.0  0.0  0.0  1.0  0.0  0.0  0.0  1.0  0.0  0.0 ...   0.0  0.0  0.0   \n",
      "22   0.0  0.0  1.0  0.0  0.0  0.0  0.0  1.0  0.0  0.0 ...   0.0  0.0  0.0   \n",
      "23   0.0  0.0  1.0  0.0  0.0  0.0  0.0  1.0  0.0  0.0 ...   0.0  0.0  0.0   \n",
      "24   0.0  0.0  0.0  0.0  0.0  0.0  1.0  1.0  0.0  0.0 ...   0.0  0.0  0.0   \n",
      "25   0.0  0.0  0.0  0.0  1.0  0.0  0.0  1.0  0.0  0.0 ...   0.0  1.0  0.0   \n",
      "26   0.0  0.0  1.0  0.0  0.0  0.0  0.0  0.0  1.0  0.0 ...   0.0  1.0  0.0   \n",
      "27   0.0  0.0  1.0  0.0  0.0  0.0  0.0  0.0  1.0  0.0 ...   0.0  1.0  1.0   \n",
      "28   0.0  0.0  1.0  0.0  0.0  0.0  0.0  0.0  1.0  0.0 ...   0.0  1.0  1.0   \n",
      "29   0.0  0.0  0.0  0.0  0.0  1.0  0.0  1.0  0.0  0.0 ...   0.0  0.0  0.0   \n",
      "..   ...  ...  ...  ...  ...  ...  ...  ...  ...  ... ...   ...  ...  ...   \n",
      "440  0.0  0.0  1.0  0.0  0.0  0.0  0.0  0.0  1.0  0.0 ...   0.0  1.0  1.0   \n",
      "441  0.0  1.0  0.0  0.0  0.0  0.0  0.0  1.0  0.0  0.0 ...   0.0  0.0  0.0   \n",
      "442  0.0  1.0  0.0  0.0  0.0  0.0  0.0  0.0  1.0  0.0 ...   1.0  1.0  0.0   \n",
      "443  0.0  0.0  1.0  0.0  0.0  0.0  0.0  0.0  0.0  1.0 ...   0.0  1.0  1.0   \n",
      "444  0.0  0.0  1.0  0.0  0.0  0.0  0.0  1.0  0.0  0.0 ...   0.0  0.0  0.0   \n",
      "445  0.0  0.0  1.0  0.0  0.0  0.0  0.0  1.0  0.0  0.0 ...   0.0  0.0  0.0   \n",
      "446  0.0  0.0  0.0  0.0  0.0  0.0  1.0  1.0  0.0  0.0 ...   0.0  0.0  0.0   \n",
      "447  0.0  1.0  0.0  0.0  0.0  0.0  0.0  0.0  1.0  0.0 ...   0.0  1.0  1.0   \n",
      "448  0.0  0.0  1.0  0.0  0.0  0.0  0.0  1.0  0.0  0.0 ...   0.0  0.0  0.0   \n",
      "449  0.0  0.0  1.0  0.0  0.0  0.0  0.0  0.0  1.0  0.0 ...   0.0  1.0  0.0   \n",
      "450  0.0  0.0  1.0  0.0  0.0  0.0  0.0  0.0  0.0  1.0 ...   0.0  1.0  1.0   \n",
      "451  0.0  0.0  0.0  1.0  0.0  0.0  0.0  0.0  1.0  0.0 ...   0.0  1.0  0.0   \n",
      "452  0.0  0.0  1.0  0.0  0.0  0.0  0.0  0.0  1.0  0.0 ...   0.0  1.0  0.0   \n",
      "453  0.0  0.0  1.0  0.0  0.0  0.0  0.0  0.0  1.0  0.0 ...   0.0  1.0  1.0   \n",
      "454  0.0  0.0  1.0  0.0  0.0  0.0  0.0  1.0  0.0  0.0 ...   0.0  0.0  0.0   \n",
      "455  0.0  0.0  0.0  1.0  0.0  0.0  0.0  0.0  1.0  0.0 ...   0.0  1.0  0.0   \n",
      "456  0.0  0.0  1.0  0.0  0.0  0.0  0.0  0.0  1.0  0.0 ...   0.0  1.0  0.0   \n",
      "457  0.0  0.0  1.0  0.0  0.0  0.0  0.0  1.0  0.0  0.0 ...   0.0  1.0  0.0   \n",
      "458  0.0  0.0  1.0  0.0  0.0  0.0  0.0  0.0  1.0  0.0 ...   0.0  1.0  0.0   \n",
      "459  0.0  0.0  1.0  0.0  0.0  0.0  0.0  1.0  0.0  0.0 ...   0.0  1.0  0.0   \n",
      "460  0.0  0.0  0.0  1.0  0.0  0.0  0.0  0.0  1.0  0.0 ...   0.0  1.0  0.0   \n",
      "461  0.0  0.0  1.0  0.0  0.0  0.0  0.0  0.0  1.0  0.0 ...   0.0  1.0  0.0   \n",
      "462  0.0  0.0  1.0  0.0  0.0  0.0  0.0  0.0  0.0  1.0 ...   0.0  0.0  0.0   \n",
      "463  0.0  0.0  0.0  1.0  0.0  0.0  0.0  0.0  1.0  0.0 ...   0.0  1.0  1.0   \n",
      "464  0.0  0.0  1.0  0.0  0.0  0.0  0.0  0.0  1.0  0.0 ...   0.0  1.0  1.0   \n",
      "465  0.0  1.0  0.0  0.0  0.0  0.0  0.0  0.0  1.0  0.0 ...   0.0  1.0  0.0   \n",
      "466  0.0  0.0  1.0  0.0  0.0  0.0  0.0  1.0  0.0  0.0 ...   0.0  0.0  0.0   \n",
      "467  0.0  0.0  1.0  0.0  0.0  0.0  0.0  0.0  1.0  0.0 ...   0.0  1.0  0.0   \n",
      "468  0.0  0.0  1.0  0.0  0.0  0.0  0.0  0.0  1.0  0.0 ...   0.0  1.0  1.0   \n",
      "469  0.0  0.0  1.0  0.0  0.0  0.0  0.0  1.0  0.0  0.0 ...   0.0  0.0  0.0   \n",
      "\n",
      "      21   22   23   24   25    26   27  \n",
      "0    0.0  0.0  0.0  1.0  0.0  60.0  0.0  \n",
      "1    0.0  0.0  0.0  1.0  0.0  51.0  0.0  \n",
      "2    0.0  0.0  0.0  1.0  0.0  59.0  0.0  \n",
      "3    0.0  0.0  0.0  0.0  0.0  54.0  0.0  \n",
      "4    0.0  0.0  0.0  1.0  0.0  73.0  1.0  \n",
      "5    0.0  0.0  0.0  0.0  0.0  51.0  0.0  \n",
      "6    1.0  0.0  0.0  1.0  0.0  59.0  1.0  \n",
      "7    0.0  0.0  1.0  1.0  0.0  66.0  1.0  \n",
      "8    0.0  0.0  0.0  1.0  0.0  68.0  0.0  \n",
      "9    0.0  0.0  0.0  1.0  0.0  54.0  0.0  \n",
      "10   0.0  0.0  0.0  0.0  0.0  60.0  0.0  \n",
      "11   0.0  0.0  0.0  1.0  0.0  58.0  0.0  \n",
      "12   0.0  0.0  0.0  1.0  0.0  68.0  0.0  \n",
      "13   0.0  0.0  0.0  1.0  0.0  80.0  1.0  \n",
      "14   0.0  0.0  0.0  1.0  0.0  77.0  0.0  \n",
      "15   0.0  0.0  0.0  1.0  0.0  62.0  0.0  \n",
      "16   0.0  0.0  0.0  1.0  0.0  56.0  0.0  \n",
      "17   0.0  0.0  0.0  1.0  0.0  61.0  0.0  \n",
      "18   0.0  0.0  0.0  1.0  0.0  70.0  0.0  \n",
      "19   0.0  0.0  0.0  1.0  0.0  71.0  0.0  \n",
      "20   0.0  0.0  0.0  1.0  0.0  51.0  0.0  \n",
      "21   0.0  0.0  0.0  1.0  0.0  62.0  0.0  \n",
      "22   0.0  0.0  0.0  1.0  0.0  62.0  0.0  \n",
      "23   0.0  0.0  0.0  1.0  0.0  62.0  0.0  \n",
      "24   0.0  0.0  0.0  0.0  0.0  58.0  1.0  \n",
      "25   0.0  0.0  0.0  1.0  0.0  57.0  0.0  \n",
      "26   0.0  0.0  0.0  1.0  0.0  60.0  0.0  \n",
      "27   0.0  0.0  0.0  1.0  0.0  68.0  1.0  \n",
      "28   0.0  0.0  0.0  1.0  0.0  56.0  0.0  \n",
      "29   0.0  0.0  0.0  1.0  0.0  61.0  0.0  \n",
      "..   ...  ...  ...  ...  ...   ...  ...  \n",
      "440  0.0  0.0  0.0  1.0  0.0  65.0  0.0  \n",
      "441  0.0  0.0  0.0  0.0  0.0  62.0  0.0  \n",
      "442  0.0  0.0  0.0  0.0  0.0  61.0  0.0  \n",
      "443  0.0  0.0  0.0  0.0  0.0  76.0  0.0  \n",
      "444  0.0  0.0  0.0  1.0  0.0  50.0  0.0  \n",
      "445  0.0  0.0  0.0  1.0  0.0  63.0  0.0  \n",
      "446  0.0  0.0  0.0  0.0  0.0  49.0  0.0  \n",
      "447  0.0  0.0  0.0  1.0  0.0  52.0  0.0  \n",
      "448  0.0  0.0  0.0  1.0  0.0  69.0  0.0  \n",
      "449  0.0  0.0  0.0  1.0  0.0  53.0  1.0  \n",
      "450  0.0  0.0  0.0  0.0  0.0  77.0  0.0  \n",
      "451  0.0  0.0  0.0  1.0  0.0  59.0  0.0  \n",
      "452  0.0  0.0  0.0  1.0  0.0  70.0  0.0  \n",
      "453  0.0  0.0  0.0  1.0  0.0  72.0  0.0  \n",
      "454  0.0  0.0  0.0  1.0  0.0  70.0  0.0  \n",
      "455  0.0  0.0  0.0  1.0  0.0  70.0  0.0  \n",
      "456  0.0  0.0  0.0  1.0  0.0  62.0  0.0  \n",
      "457  0.0  0.0  0.0  1.0  0.0  61.0  0.0  \n",
      "458  0.0  0.0  0.0  0.0  0.0  46.0  0.0  \n",
      "459  0.0  0.0  0.0  0.0  0.0  66.0  0.0  \n",
      "460  0.0  0.0  0.0  0.0  0.0  55.0  0.0  \n",
      "461  0.0  0.0  0.0  0.0  0.0  72.0  0.0  \n",
      "462  0.0  0.0  0.0  1.0  0.0  74.0  0.0  \n",
      "463  1.0  0.0  0.0  1.0  0.0  57.0  1.0  \n",
      "464  0.0  0.0  0.0  1.0  0.0  79.0  0.0  \n",
      "465  0.0  0.0  0.0  1.0  0.0  63.0  0.0  \n",
      "466  0.0  0.0  0.0  1.0  0.0  61.0  0.0  \n",
      "467  0.0  0.0  0.0  0.0  0.0  52.0  0.0  \n",
      "468  0.0  0.0  0.0  1.0  0.0  79.0  0.0  \n",
      "469  0.0  0.0  0.0  1.0  0.0  51.0  0.0  \n",
      "\n",
      "[470 rows x 28 columns]\n"
     ]
    }
   ],
   "source": [
    "import arff\n",
    "import numpy as np\n",
    "#reading the data into a numpy array dataset\n",
    "dataset=arff.load(open(\"ThoraricSurgery.arff\",'rb'))\n",
    "data=np.array(dataset['data'])\n",
    "#coverting each value of the array to a string\n",
    "data=data.astype(str)\n",
    "\n",
    "data1=np.zeros((470,28))\n",
    "data1=data1.astype(str)\n",
    "#Manipulating data to a suitable form to do operations on it.\n",
    "for i in xrange(470):\n",
    "    k=14\n",
    "    for j in xrange(17):\n",
    "        if data[i][j]=='DGN1':\n",
    "            data1[i][0]=1\n",
    "        elif data[i][j]=='DGN2':\n",
    "            data1[i][1]=1\n",
    "        elif data[i][j]=='DGN3':\n",
    "            data1[i][2]=1\n",
    "        elif data[i][j]=='DGN4':\n",
    "            data1[i][3]=1\n",
    "        elif data[i][j]=='DGN5':\n",
    "            data1[i][4]=1\n",
    "        elif data[i][j]=='DGN6':\n",
    "            data1[i][5]=1\n",
    "        elif data[i][j]=='DGN8':\n",
    "            data1[i][6]=1\n",
    "        elif data[i][j]=='PRZ0':\n",
    "            data1[i][7]=1\n",
    "        elif data[i][j]=='PRZ1':\n",
    "            data1[i][8]=1\n",
    "        elif data[i][j]=='PRZ2':\n",
    "            data1[i][9]=1\n",
    "        elif data[i][j]=='OC11':\n",
    "            data1[i][10]=1\n",
    "        elif data[i][j]=='OC12':\n",
    "            data1[i][11]=1\n",
    "        elif data[i][j]=='OC13':\n",
    "            data1[i][12]=1\n",
    "        elif data[i][j]=='OC14':\n",
    "            data1[i][13]=1\n",
    "        else:\n",
    "            data1[i][k]=data[i][j]\n",
    "            k+=1\n",
    "\n",
    "for i in xrange(470):\n",
    "    for j in xrange(28):\n",
    "        if data1[i][j]=='F':\n",
    "            data1[i][j]=0\n",
    "        elif data1[i][j]=='T':\n",
    "            data1[i][j]=1\n",
    "            \n",
    "data1=data1.astype(float)\n",
    "#loading the dataset in a pandas dataframe\n",
    "import pandas as pd\n",
    "df = pd.DataFrame(data1)\n",
    "print df"
   ]
  },
  {
   "cell_type": "code",
   "execution_count": 2,
   "metadata": {
    "collapsed": true
   },
   "outputs": [],
   "source": [
    "#changing the name of the colums\n",
    "new_header = [\"DGN1\",\"DGN2\",\"DGN3\",\"DGN4\",\"DGN5\",\"DGN6\",\"DGN8\",\"PRZ0\",\"PRZ1\",\"PRZ2\",\"OC11\",\n",
    "              \"OC12\",\"OC13\",\"OC14\",\"FVC\",\"FEV1\",\"PBS\",\"HBS\",\"DBS\",\"CBS\",\"WBS\",\"DM\",\"MI\",\n",
    "              \"PAD\",\"Smoking\",\"Asthma\",\"Age\",\"Risk\"]\n",
    "df.columns = new_header"
   ]
  },
  {
   "cell_type": "code",
   "execution_count": 3,
   "metadata": {
    "collapsed": false
   },
   "outputs": [
    {
     "name": "stdout",
     "output_type": "stream",
     "text": [
      "     DGN1  DGN2  DGN3  DGN4  DGN5  DGN6  DGN8  PRZ0  PRZ1  PRZ2  ...   DBS  \\\n",
      "0     0.0   1.0   0.0   0.0   0.0   0.0   0.0   0.0   1.0   0.0  ...   0.0   \n",
      "1     0.0   0.0   1.0   0.0   0.0   0.0   0.0   1.0   0.0   0.0  ...   0.0   \n",
      "2     0.0   0.0   1.0   0.0   0.0   0.0   0.0   0.0   1.0   0.0  ...   0.0   \n",
      "3     0.0   0.0   1.0   0.0   0.0   0.0   0.0   1.0   0.0   0.0  ...   0.0   \n",
      "4     0.0   0.0   1.0   0.0   0.0   0.0   0.0   0.0   0.0   1.0  ...   0.0   \n",
      "5     0.0   0.0   1.0   0.0   0.0   0.0   0.0   0.0   1.0   0.0  ...   0.0   \n",
      "6     0.0   0.0   1.0   0.0   0.0   0.0   0.0   0.0   1.0   0.0  ...   0.0   \n",
      "7     0.0   1.0   0.0   0.0   0.0   0.0   0.0   0.0   1.0   0.0  ...   0.0   \n",
      "8     0.0   0.0   1.0   0.0   0.0   0.0   0.0   0.0   0.0   1.0  ...   0.0   \n",
      "9     0.0   0.0   1.0   0.0   0.0   0.0   0.0   0.0   1.0   0.0  ...   0.0   \n",
      "10    0.0   0.0   1.0   0.0   0.0   0.0   0.0   1.0   0.0   0.0  ...   0.0   \n",
      "11    0.0   0.0   1.0   0.0   0.0   0.0   0.0   0.0   1.0   0.0  ...   0.0   \n",
      "12    0.0   0.0   1.0   0.0   0.0   0.0   0.0   0.0   1.0   0.0  ...   0.0   \n",
      "13    0.0   1.0   0.0   0.0   0.0   0.0   0.0   0.0   0.0   1.0  ...   0.0   \n",
      "14    0.0   0.0   1.0   0.0   0.0   0.0   0.0   0.0   1.0   0.0  ...   0.0   \n",
      "15    0.0   0.0   1.0   0.0   0.0   0.0   0.0   0.0   1.0   0.0  ...   0.0   \n",
      "16    0.0   1.0   0.0   0.0   0.0   0.0   0.0   1.0   0.0   0.0  ...   0.0   \n",
      "17    0.0   1.0   0.0   0.0   0.0   0.0   0.0   1.0   0.0   0.0  ...   0.0   \n",
      "18    0.0   0.0   1.0   0.0   0.0   0.0   0.0   0.0   1.0   0.0  ...   0.0   \n",
      "19    0.0   0.0   1.0   0.0   0.0   0.0   0.0   1.0   0.0   0.0  ...   0.0   \n",
      "20    0.0   0.0   1.0   0.0   0.0   0.0   0.0   1.0   0.0   0.0  ...   0.0   \n",
      "21    0.0   0.0   0.0   1.0   0.0   0.0   0.0   1.0   0.0   0.0  ...   0.0   \n",
      "22    0.0   0.0   1.0   0.0   0.0   0.0   0.0   1.0   0.0   0.0  ...   0.0   \n",
      "23    0.0   0.0   1.0   0.0   0.0   0.0   0.0   1.0   0.0   0.0  ...   0.0   \n",
      "24    0.0   0.0   0.0   0.0   0.0   0.0   1.0   1.0   0.0   0.0  ...   0.0   \n",
      "25    0.0   0.0   0.0   0.0   1.0   0.0   0.0   1.0   0.0   0.0  ...   0.0   \n",
      "26    0.0   0.0   1.0   0.0   0.0   0.0   0.0   0.0   1.0   0.0  ...   0.0   \n",
      "27    0.0   0.0   1.0   0.0   0.0   0.0   0.0   0.0   1.0   0.0  ...   0.0   \n",
      "28    0.0   0.0   1.0   0.0   0.0   0.0   0.0   0.0   1.0   0.0  ...   0.0   \n",
      "29    0.0   0.0   0.0   0.0   0.0   1.0   0.0   1.0   0.0   0.0  ...   0.0   \n",
      "..    ...   ...   ...   ...   ...   ...   ...   ...   ...   ...  ...   ...   \n",
      "440   0.0   0.0   1.0   0.0   0.0   0.0   0.0   0.0   1.0   0.0  ...   0.0   \n",
      "441   0.0   1.0   0.0   0.0   0.0   0.0   0.0   1.0   0.0   0.0  ...   0.0   \n",
      "442   0.0   1.0   0.0   0.0   0.0   0.0   0.0   0.0   1.0   0.0  ...   1.0   \n",
      "443   0.0   0.0   1.0   0.0   0.0   0.0   0.0   0.0   0.0   1.0  ...   0.0   \n",
      "444   0.0   0.0   1.0   0.0   0.0   0.0   0.0   1.0   0.0   0.0  ...   0.0   \n",
      "445   0.0   0.0   1.0   0.0   0.0   0.0   0.0   1.0   0.0   0.0  ...   0.0   \n",
      "446   0.0   0.0   0.0   0.0   0.0   0.0   1.0   1.0   0.0   0.0  ...   0.0   \n",
      "447   0.0   1.0   0.0   0.0   0.0   0.0   0.0   0.0   1.0   0.0  ...   0.0   \n",
      "448   0.0   0.0   1.0   0.0   0.0   0.0   0.0   1.0   0.0   0.0  ...   0.0   \n",
      "449   0.0   0.0   1.0   0.0   0.0   0.0   0.0   0.0   1.0   0.0  ...   0.0   \n",
      "450   0.0   0.0   1.0   0.0   0.0   0.0   0.0   0.0   0.0   1.0  ...   0.0   \n",
      "451   0.0   0.0   0.0   1.0   0.0   0.0   0.0   0.0   1.0   0.0  ...   0.0   \n",
      "452   0.0   0.0   1.0   0.0   0.0   0.0   0.0   0.0   1.0   0.0  ...   0.0   \n",
      "453   0.0   0.0   1.0   0.0   0.0   0.0   0.0   0.0   1.0   0.0  ...   0.0   \n",
      "454   0.0   0.0   1.0   0.0   0.0   0.0   0.0   1.0   0.0   0.0  ...   0.0   \n",
      "455   0.0   0.0   0.0   1.0   0.0   0.0   0.0   0.0   1.0   0.0  ...   0.0   \n",
      "456   0.0   0.0   1.0   0.0   0.0   0.0   0.0   0.0   1.0   0.0  ...   0.0   \n",
      "457   0.0   0.0   1.0   0.0   0.0   0.0   0.0   1.0   0.0   0.0  ...   0.0   \n",
      "458   0.0   0.0   1.0   0.0   0.0   0.0   0.0   0.0   1.0   0.0  ...   0.0   \n",
      "459   0.0   0.0   1.0   0.0   0.0   0.0   0.0   1.0   0.0   0.0  ...   0.0   \n",
      "460   0.0   0.0   0.0   1.0   0.0   0.0   0.0   0.0   1.0   0.0  ...   0.0   \n",
      "461   0.0   0.0   1.0   0.0   0.0   0.0   0.0   0.0   1.0   0.0  ...   0.0   \n",
      "462   0.0   0.0   1.0   0.0   0.0   0.0   0.0   0.0   0.0   1.0  ...   0.0   \n",
      "463   0.0   0.0   0.0   1.0   0.0   0.0   0.0   0.0   1.0   0.0  ...   0.0   \n",
      "464   0.0   0.0   1.0   0.0   0.0   0.0   0.0   0.0   1.0   0.0  ...   0.0   \n",
      "465   0.0   1.0   0.0   0.0   0.0   0.0   0.0   0.0   1.0   0.0  ...   0.0   \n",
      "466   0.0   0.0   1.0   0.0   0.0   0.0   0.0   1.0   0.0   0.0  ...   0.0   \n",
      "467   0.0   0.0   1.0   0.0   0.0   0.0   0.0   0.0   1.0   0.0  ...   0.0   \n",
      "468   0.0   0.0   1.0   0.0   0.0   0.0   0.0   0.0   1.0   0.0  ...   0.0   \n",
      "469   0.0   0.0   1.0   0.0   0.0   0.0   0.0   1.0   0.0   0.0  ...   0.0   \n",
      "\n",
      "     CBS  WBS   DM   MI  PAD  Smoking  Asthma   Age  Risk  \n",
      "0    1.0  1.0  0.0  0.0  0.0      1.0     0.0  60.0   0.0  \n",
      "1    0.0  0.0  0.0  0.0  0.0      1.0     0.0  51.0   0.0  \n",
      "2    1.0  0.0  0.0  0.0  0.0      1.0     0.0  59.0   0.0  \n",
      "3    0.0  0.0  0.0  0.0  0.0      0.0     0.0  54.0   0.0  \n",
      "4    1.0  1.0  0.0  0.0  0.0      1.0     0.0  73.0   1.0  \n",
      "5    1.0  0.0  0.0  0.0  0.0      0.0     0.0  51.0   0.0  \n",
      "6    1.0  0.0  1.0  0.0  0.0      1.0     0.0  59.0   1.0  \n",
      "7    1.0  0.0  0.0  0.0  1.0      1.0     0.0  66.0   1.0  \n",
      "8    1.0  1.0  0.0  0.0  0.0      1.0     0.0  68.0   0.0  \n",
      "9    1.0  0.0  0.0  0.0  0.0      1.0     0.0  54.0   0.0  \n",
      "10   1.0  0.0  0.0  0.0  0.0      0.0     0.0  60.0   0.0  \n",
      "11   0.0  0.0  0.0  0.0  0.0      1.0     0.0  58.0   0.0  \n",
      "12   1.0  1.0  0.0  0.0  0.0      1.0     0.0  68.0   0.0  \n",
      "13   1.0  1.0  0.0  0.0  0.0      1.0     0.0  80.0   1.0  \n",
      "14   1.0  0.0  0.0  0.0  0.0      1.0     0.0  77.0   0.0  \n",
      "15   1.0  0.0  0.0  0.0  0.0      1.0     0.0  62.0   0.0  \n",
      "16   0.0  0.0  0.0  0.0  0.0      1.0     0.0  56.0   0.0  \n",
      "17   0.0  0.0  0.0  0.0  0.0      1.0     0.0  61.0   0.0  \n",
      "18   1.0  0.0  0.0  0.0  0.0      1.0     0.0  70.0   0.0  \n",
      "19   0.0  0.0  0.0  0.0  0.0      1.0     0.0  71.0   0.0  \n",
      "20   0.0  0.0  0.0  0.0  0.0      1.0     0.0  51.0   0.0  \n",
      "21   0.0  0.0  0.0  0.0  0.0      1.0     0.0  62.0   0.0  \n",
      "22   0.0  0.0  0.0  0.0  0.0      1.0     0.0  62.0   0.0  \n",
      "23   0.0  0.0  0.0  0.0  0.0      1.0     0.0  62.0   0.0  \n",
      "24   0.0  0.0  0.0  0.0  0.0      0.0     0.0  58.0   1.0  \n",
      "25   1.0  0.0  0.0  0.0  0.0      1.0     0.0  57.0   0.0  \n",
      "26   1.0  0.0  0.0  0.0  0.0      1.0     0.0  60.0   0.0  \n",
      "27   1.0  1.0  0.0  0.0  0.0      1.0     0.0  68.0   1.0  \n",
      "28   1.0  1.0  0.0  0.0  0.0      1.0     0.0  56.0   0.0  \n",
      "29   0.0  0.0  0.0  0.0  0.0      1.0     0.0  61.0   0.0  \n",
      "..   ...  ...  ...  ...  ...      ...     ...   ...   ...  \n",
      "440  1.0  1.0  0.0  0.0  0.0      1.0     0.0  65.0   0.0  \n",
      "441  0.0  0.0  0.0  0.0  0.0      0.0     0.0  62.0   0.0  \n",
      "442  1.0  0.0  0.0  0.0  0.0      0.0     0.0  61.0   0.0  \n",
      "443  1.0  1.0  0.0  0.0  0.0      0.0     0.0  76.0   0.0  \n",
      "444  0.0  0.0  0.0  0.0  0.0      1.0     0.0  50.0   0.0  \n",
      "445  0.0  0.0  0.0  0.0  0.0      1.0     0.0  63.0   0.0  \n",
      "446  0.0  0.0  0.0  0.0  0.0      0.0     0.0  49.0   0.0  \n",
      "447  1.0  1.0  0.0  0.0  0.0      1.0     0.0  52.0   0.0  \n",
      "448  0.0  0.0  0.0  0.0  0.0      1.0     0.0  69.0   0.0  \n",
      "449  1.0  0.0  0.0  0.0  0.0      1.0     0.0  53.0   1.0  \n",
      "450  1.0  1.0  0.0  0.0  0.0      0.0     0.0  77.0   0.0  \n",
      "451  1.0  0.0  0.0  0.0  0.0      1.0     0.0  59.0   0.0  \n",
      "452  1.0  0.0  0.0  0.0  0.0      1.0     0.0  70.0   0.0  \n",
      "453  1.0  1.0  0.0  0.0  0.0      1.0     0.0  72.0   0.0  \n",
      "454  0.0  0.0  0.0  0.0  0.0      1.0     0.0  70.0   0.0  \n",
      "455  1.0  0.0  0.0  0.0  0.0      1.0     0.0  70.0   0.0  \n",
      "456  1.0  0.0  0.0  0.0  0.0      1.0     0.0  62.0   0.0  \n",
      "457  1.0  0.0  0.0  0.0  0.0      1.0     0.0  61.0   0.0  \n",
      "458  1.0  0.0  0.0  0.0  0.0      0.0     0.0  46.0   0.0  \n",
      "459  1.0  0.0  0.0  0.0  0.0      0.0     0.0  66.0   0.0  \n",
      "460  1.0  0.0  0.0  0.0  0.0      0.0     0.0  55.0   0.0  \n",
      "461  1.0  0.0  0.0  0.0  0.0      0.0     0.0  72.0   0.0  \n",
      "462  0.0  0.0  0.0  0.0  0.0      1.0     0.0  74.0   0.0  \n",
      "463  1.0  1.0  1.0  0.0  0.0      1.0     0.0  57.0   1.0  \n",
      "464  1.0  1.0  0.0  0.0  0.0      1.0     0.0  79.0   0.0  \n",
      "465  1.0  0.0  0.0  0.0  0.0      1.0     0.0  63.0   0.0  \n",
      "466  0.0  0.0  0.0  0.0  0.0      1.0     0.0  61.0   0.0  \n",
      "467  1.0  0.0  0.0  0.0  0.0      0.0     0.0  52.0   0.0  \n",
      "468  1.0  1.0  0.0  0.0  0.0      1.0     0.0  79.0   0.0  \n",
      "469  0.0  0.0  0.0  0.0  0.0      1.0     0.0  51.0   0.0  \n",
      "\n",
      "[470 rows x 28 columns]\n"
     ]
    }
   ],
   "source": [
    "print df"
   ]
  },
  {
   "cell_type": "code",
   "execution_count": null,
   "metadata": {
    "collapsed": true
   },
   "outputs": [],
   "source": []
  }
 ],
 "metadata": {
  "kernelspec": {
   "display_name": "Python [default]",
   "language": "python",
   "name": "python2"
  },
  "language_info": {
   "codemirror_mode": {
    "name": "ipython",
    "version": 2
   },
   "file_extension": ".py",
   "mimetype": "text/x-python",
   "name": "python",
   "nbconvert_exporter": "python",
   "pygments_lexer": "ipython2",
   "version": "2.7.12"
  }
 },
 "nbformat": 4,
 "nbformat_minor": 1
}
