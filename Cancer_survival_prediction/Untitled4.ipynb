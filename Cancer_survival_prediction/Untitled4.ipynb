{
 "cells": [
  {
   "cell_type": "code",
   "execution_count": 1,
   "metadata": {
    "collapsed": false
   },
   "outputs": [
    {
     "name": "stdout",
     "output_type": "stream",
     "text": [
      "[[ 30.  64.   1.]\n",
      " [ 30.  62.   3.]\n",
      " [ 30.  65.   0.]\n",
      " [ 31.  59.   2.]\n",
      " [ 31.  65.   4.]\n",
      " [ 33.  58.  10.]\n",
      " [ 33.  60.   0.]\n",
      " [ 34.  59.   0.]\n",
      " [ 34.  66.   9.]\n",
      " [ 34.  58.  30.]\n",
      " [ 34.  60.   1.]\n",
      " [ 34.  61.  10.]\n",
      " [ 34.  67.   7.]\n",
      " [ 34.  60.   0.]\n",
      " [ 35.  64.  13.]\n",
      " [ 35.  63.   0.]\n",
      " [ 36.  60.   1.]\n",
      " [ 36.  69.   0.]\n",
      " [ 37.  60.   0.]\n",
      " [ 37.  63.   0.]\n",
      " [ 37.  58.   0.]\n",
      " [ 37.  59.   6.]\n",
      " [ 37.  60.  15.]\n",
      " [ 37.  63.   0.]\n",
      " [ 38.  69.  21.]\n",
      " [ 38.  59.   2.]\n",
      " [ 38.  60.   0.]\n",
      " [ 38.  60.   0.]\n",
      " [ 38.  62.   3.]\n",
      " [ 38.  64.   1.]\n",
      " [ 38.  66.   0.]\n",
      " [ 38.  66.  11.]\n",
      " [ 38.  60.   1.]\n",
      " [ 38.  67.   5.]\n",
      " [ 39.  66.   0.]\n",
      " [ 39.  63.   0.]\n",
      " [ 39.  67.   0.]\n",
      " [ 39.  58.   0.]\n",
      " [ 39.  59.   2.]\n",
      " [ 39.  63.   4.]\n",
      " [ 40.  58.   2.]\n",
      " [ 40.  58.   0.]\n",
      " [ 40.  65.   0.]\n",
      " [ 41.  60.  23.]\n",
      " [ 41.  64.   0.]\n",
      " [ 41.  67.   0.]\n",
      " [ 41.  58.   0.]\n",
      " [ 41.  59.   8.]\n",
      " [ 41.  59.   0.]\n",
      " [ 41.  64.   0.]\n",
      " [ 41.  69.   8.]\n",
      " [ 41.  65.   0.]\n",
      " [ 41.  65.   0.]\n",
      " [ 42.  69.   1.]\n",
      " [ 42.  59.   0.]\n",
      " [ 42.  58.   0.]\n",
      " [ 42.  60.   1.]\n",
      " [ 42.  59.   2.]\n",
      " [ 42.  61.   4.]\n",
      " [ 42.  62.  20.]\n",
      " [ 42.  65.   0.]\n",
      " [ 42.  63.   1.]\n",
      " [ 43.  58.  52.]\n",
      " [ 43.  59.   2.]\n",
      " [ 43.  64.   0.]\n",
      " [ 43.  64.   0.]\n",
      " [ 43.  63.  14.]\n",
      " [ 43.  64.   2.]\n",
      " [ 43.  64.   3.]\n",
      " [ 43.  60.   0.]\n",
      " [ 43.  63.   2.]\n",
      " [ 43.  65.   0.]\n",
      " [ 43.  66.   4.]\n",
      " [ 44.  64.   6.]\n",
      " [ 44.  58.   9.]\n",
      " [ 44.  63.  19.]\n",
      " [ 44.  61.   0.]\n",
      " [ 44.  63.   1.]\n",
      " [ 44.  61.   0.]\n",
      " [ 44.  67.  16.]\n",
      " [ 45.  65.   6.]\n",
      " [ 45.  66.   0.]\n",
      " [ 45.  67.   1.]\n",
      " [ 45.  60.   0.]\n",
      " [ 45.  67.   0.]\n",
      " [ 45.  59.  14.]\n",
      " [ 45.  64.   0.]\n",
      " [ 45.  68.   0.]\n",
      " [ 45.  67.   1.]\n",
      " [ 46.  58.   2.]\n",
      " [ 46.  69.   3.]\n",
      " [ 46.  62.   5.]\n",
      " [ 46.  65.  20.]\n",
      " [ 46.  62.   0.]\n",
      " [ 46.  58.   3.]\n",
      " [ 46.  63.   0.]\n",
      " [ 47.  63.  23.]\n",
      " [ 47.  62.   0.]\n",
      " [ 47.  65.   0.]\n",
      " [ 47.  61.   0.]\n",
      " [ 47.  63.   6.]\n",
      " [ 47.  66.   0.]\n",
      " [ 47.  67.   0.]\n",
      " [ 47.  58.   3.]\n",
      " [ 47.  60.   4.]\n",
      " [ 47.  68.   4.]\n",
      " [ 47.  66.  12.]\n",
      " [ 48.  58.  11.]\n",
      " [ 48.  58.  11.]\n",
      " [ 48.  67.   7.]\n",
      " [ 48.  61.   8.]\n",
      " [ 48.  62.   2.]\n",
      " [ 48.  64.   0.]\n",
      " [ 48.  66.   0.]\n",
      " [ 49.  63.   0.]\n",
      " [ 49.  64.  10.]\n",
      " [ 49.  61.   1.]\n",
      " [ 49.  62.   0.]\n",
      " [ 49.  66.   0.]\n",
      " [ 49.  60.   1.]\n",
      " [ 49.  62.   1.]\n",
      " [ 49.  63.   3.]\n",
      " [ 49.  61.   0.]\n",
      " [ 49.  67.   1.]\n",
      " [ 50.  63.  13.]\n",
      " [ 50.  64.   0.]\n",
      " [ 50.  59.   0.]\n",
      " [ 50.  61.   6.]\n",
      " [ 50.  61.   0.]\n",
      " [ 50.  63.   1.]\n",
      " [ 50.  58.   1.]\n",
      " [ 50.  59.   2.]\n",
      " [ 50.  61.   0.]\n",
      " [ 50.  64.   0.]\n",
      " [ 50.  65.   4.]\n",
      " [ 50.  66.   1.]\n",
      " [ 51.  59.  13.]\n",
      " [ 51.  59.   3.]\n",
      " [ 51.  64.   7.]\n",
      " [ 51.  59.   1.]\n",
      " [ 51.  65.   0.]\n",
      " [ 51.  66.   1.]\n",
      " [ 52.  69.   3.]\n",
      " [ 52.  59.   2.]\n",
      " [ 52.  62.   3.]\n",
      " [ 52.  66.   4.]\n",
      " [ 52.  61.   0.]\n",
      " [ 52.  63.   4.]\n",
      " [ 52.  69.   0.]\n",
      " [ 52.  60.   4.]\n",
      " [ 52.  60.   5.]\n",
      " [ 52.  62.   0.]\n",
      " [ 52.  62.   1.]\n",
      " [ 52.  64.   0.]\n",
      " [ 52.  65.   0.]\n",
      " [ 52.  68.   0.]\n",
      " [ 53.  58.   4.]\n",
      " [ 53.  65.   1.]\n",
      " [ 53.  59.   3.]\n",
      " [ 53.  60.   9.]\n",
      " [ 53.  63.  24.]\n",
      " [ 53.  65.  12.]\n",
      " [ 53.  58.   1.]\n",
      " [ 53.  60.   1.]\n",
      " [ 53.  60.   2.]\n",
      " [ 53.  61.   1.]\n",
      " [ 53.  63.   0.]\n",
      " [ 54.  60.  11.]\n",
      " [ 54.  65.  23.]\n",
      " [ 54.  65.   5.]\n",
      " [ 54.  68.   7.]\n",
      " [ 54.  59.   7.]\n",
      " [ 54.  60.   3.]\n",
      " [ 54.  66.   0.]\n",
      " [ 54.  67.  46.]\n",
      " [ 54.  62.   0.]\n",
      " [ 54.  69.   7.]\n",
      " [ 54.  63.  19.]\n",
      " [ 54.  58.   1.]\n",
      " [ 54.  62.   0.]\n",
      " [ 55.  63.   6.]\n",
      " [ 55.  68.  15.]\n",
      " [ 55.  58.   1.]\n",
      " [ 55.  58.   0.]\n",
      " [ 55.  58.   1.]\n",
      " [ 55.  66.  18.]\n",
      " [ 55.  66.   0.]\n",
      " [ 55.  69.   3.]\n",
      " [ 55.  69.  22.]\n",
      " [ 55.  67.   1.]\n",
      " [ 56.  65.   9.]\n",
      " [ 56.  66.   3.]\n",
      " [ 56.  60.   0.]\n",
      " [ 56.  66.   2.]\n",
      " [ 56.  66.   1.]\n",
      " [ 56.  67.   0.]\n",
      " [ 56.  60.   0.]\n",
      " [ 57.  61.   5.]\n",
      " [ 57.  62.  14.]\n",
      " [ 57.  64.   1.]\n",
      " [ 57.  64.   9.]\n",
      " [ 57.  69.   0.]\n",
      " [ 57.  61.   0.]\n",
      " [ 57.  62.   0.]\n",
      " [ 57.  63.   0.]\n",
      " [ 57.  64.   0.]\n",
      " [ 57.  64.   0.]\n",
      " [ 57.  67.   0.]\n",
      " [ 58.  59.   0.]\n",
      " [ 58.  60.   3.]\n",
      " [ 58.  61.   1.]\n",
      " [ 58.  67.   0.]\n",
      " [ 58.  58.   0.]\n",
      " [ 58.  58.   3.]\n",
      " [ 58.  61.   2.]\n",
      " [ 59.  62.  35.]\n",
      " [ 59.  60.   0.]\n",
      " [ 59.  63.   0.]\n",
      " [ 59.  64.   1.]\n",
      " [ 59.  64.   4.]\n",
      " [ 59.  64.   0.]\n",
      " [ 59.  64.   7.]\n",
      " [ 59.  67.   3.]\n",
      " [ 60.  59.  17.]\n",
      " [ 60.  65.   0.]\n",
      " [ 60.  61.   1.]\n",
      " [ 60.  67.   2.]\n",
      " [ 60.  61.  25.]\n",
      " [ 60.  64.   0.]\n",
      " [ 61.  62.   5.]\n",
      " [ 61.  65.   0.]\n",
      " [ 61.  68.   1.]\n",
      " [ 61.  59.   0.]\n",
      " [ 61.  59.   0.]\n",
      " [ 61.  64.   0.]\n",
      " [ 61.  65.   8.]\n",
      " [ 61.  68.   0.]\n",
      " [ 61.  59.   0.]\n",
      " [ 62.  59.  13.]\n",
      " [ 62.  58.   0.]\n",
      " [ 62.  65.  19.]\n",
      " [ 62.  62.   6.]\n",
      " [ 62.  66.   0.]\n",
      " [ 62.  66.   0.]\n",
      " [ 62.  58.   0.]\n",
      " [ 63.  60.   1.]\n",
      " [ 63.  61.   0.]\n",
      " [ 63.  62.   0.]\n",
      " [ 63.  63.   0.]\n",
      " [ 63.  63.   0.]\n",
      " [ 63.  66.   0.]\n",
      " [ 63.  61.   9.]\n",
      " [ 63.  61.  28.]\n",
      " [ 64.  58.   0.]\n",
      " [ 64.  65.  22.]\n",
      " [ 64.  66.   0.]\n",
      " [ 64.  61.   0.]\n",
      " [ 64.  68.   0.]\n",
      " [ 65.  58.   0.]\n",
      " [ 65.  61.   2.]\n",
      " [ 65.  62.  22.]\n",
      " [ 65.  66.  15.]\n",
      " [ 65.  58.   0.]\n",
      " [ 65.  64.   0.]\n",
      " [ 65.  67.   0.]\n",
      " [ 65.  59.   2.]\n",
      " [ 65.  64.   0.]\n",
      " [ 65.  67.   1.]\n",
      " [ 66.  58.   0.]\n",
      " [ 66.  61.  13.]\n",
      " [ 66.  58.   0.]\n",
      " [ 66.  58.   1.]\n",
      " [ 66.  68.   0.]\n",
      " [ 67.  64.   8.]\n",
      " [ 67.  63.   1.]\n",
      " [ 67.  66.   0.]\n",
      " [ 67.  66.   0.]\n",
      " [ 67.  61.   0.]\n",
      " [ 67.  65.   0.]\n",
      " [ 68.  67.   0.]\n",
      " [ 68.  68.   0.]\n",
      " [ 69.  67.   8.]\n",
      " [ 69.  60.   0.]\n",
      " [ 69.  65.   0.]\n",
      " [ 69.  66.   0.]\n",
      " [ 70.  58.   0.]\n",
      " [ 70.  58.   4.]\n",
      " [ 70.  66.  14.]\n",
      " [ 70.  67.   0.]\n",
      " [ 70.  68.   0.]\n",
      " [ 70.  59.   8.]\n",
      " [ 70.  63.   0.]\n",
      " [ 71.  68.   2.]\n",
      " [ 72.  63.   0.]\n",
      " [ 72.  58.   0.]\n",
      " [ 72.  64.   0.]\n",
      " [ 72.  67.   3.]\n",
      " [ 73.  62.   0.]\n",
      " [ 73.  68.   0.]\n",
      " [ 74.  65.   3.]\n",
      " [ 74.  63.   0.]\n",
      " [ 75.  62.   1.]\n",
      " [ 76.  67.   0.]\n",
      " [ 77.  65.   3.]\n",
      " [ 78.  65.   1.]\n",
      " [ 83.  58.   2.]]\n",
      "[ 1.  1.  1.  1.  1.  1.  1.  2.  2.  1.  1.  1.  1.  1.  1.  1.  1.  1.\n",
      "  1.  1.  1.  1.  1.  1.  2.  1.  1.  1.  1.  1.  1.  1.  1.  1.  2.  1.\n",
      "  1.  1.  1.  1.  1.  1.  1.  2.  2.  2.  1.  1.  1.  1.  1.  1.  1.  2.\n",
      "  2.  1.  1.  1.  1.  1.  1.  1.  2.  2.  2.  2.  1.  1.  1.  1.  1.  1.\n",
      "  1.  2.  2.  2.  1.  1.  1.  1.  2.  2.  2.  1.  1.  1.  1.  1.  1.  2.\n",
      "  2.  2.  2.  1.  1.  1.  2.  2.  2.  1.  1.  1.  1.  1.  1.  1.  1.  2.\n",
      "  2.  2.  1.  1.  1.  1.  2.  2.  1.  1.  1.  1.  1.  1.  1.  1.  2.  2.\n",
      "  1.  1.  1.  1.  1.  1.  1.  1.  1.  1.  2.  2.  1.  1.  1.  1.  2.  2.\n",
      "  2.  2.  1.  1.  1.  1.  1.  1.  1.  1.  1.  1.  2.  2.  2.  2.  2.  2.\n",
      "  1.  1.  1.  1.  1.  2.  2.  2.  2.  1.  1.  1.  1.  1.  1.  1.  1.  1.\n",
      "  2.  2.  1.  1.  1.  1.  1.  1.  1.  1.  2.  2.  1.  1.  1.  1.  1.  2.\n",
      "  2.  2.  1.  1.  1.  1.  1.  1.  1.  1.  1.  1.  1.  1.  1.  1.  1.  2.\n",
      "  1.  1.  1.  1.  1.  1.  1.  2.  2.  1.  1.  1.  1.  2.  2.  2.  1.  1.\n",
      "  1.  1.  1.  1.  2.  2.  2.  1.  1.  1.  1.  2.  1.  1.  1.  1.  1.  1.\n",
      "  1.  1.  1.  1.  1.  1.  2.  2.  2.  2.  1.  1.  1.  1.  1.  1.  2.  2.\n",
      "  1.  1.  1.  2.  2.  1.  1.  1.  1.  1.  1.  2.  1.  1.  1.  2.  2.  1.\n",
      "  1.  1.  1.  1.  1.  2.  1.  1.  1.  1.  1.  2.  1.  1.  1.  1.  2.  2.]\n"
     ]
    },
    {
     "name": "stderr",
     "output_type": "stream",
     "text": [
      "C:\\Users\\Kabir\\Anaconda2\\lib\\site-packages\\sklearn\\cross_validation.py:44: DeprecationWarning: This module was deprecated in version 0.18 in favor of the model_selection module into which all the refactored classes and functions are moved. Also note that the interface of the new CV iterators are different from that of this module. This module will be removed in 0.20.\n",
      "  \"This module will be removed in 0.20.\", DeprecationWarning)\n"
     ]
    },
    {
     "name": "stdout",
     "output_type": "stream",
     "text": [
      "Train Accuracy for Logistic Regression Model 0.762295081967\n",
      "Test Accuracy for Logistic Regression Model 0.693548387097\n"
     ]
    }
   ],
   "source": [
    "import numpy as np\n",
    "data = np.loadtxt(\"haberman1.txt\")\n",
    "X = data[:,0:3]\n",
    "y = data[:,3]\n",
    "print X\n",
    "print y\n",
    "from sklearn.cross_validation import train_test_split\n",
    "X_train,X_test,y_train,y_test  = train_test_split(X,y,test_size=0.2,random_state=42)\n",
    "from sklearn.linear_model import LogisticRegression\n",
    "model_log = LogisticRegression()\n",
    "model_log = model_log.fit(X_train,y_train)\n",
    "print \"Train Accuracy for Logistic Regression Model\",model_log.score(X_train,y_train)\n",
    "print \"Test Accuracy for Logistic Regression Model\",model_log.score(X_test,y_test)"
   ]
  },
  {
   "cell_type": "code",
   "execution_count": 2,
   "metadata": {
    "collapsed": false
   },
   "outputs": [
    {
     "name": "stdout",
     "output_type": "stream",
     "text": [
      "Train Accuracy for SVM Model 0.922131147541\n",
      "Test Accuracy for SVM Model 0.709677419355\n"
     ]
    }
   ],
   "source": [
    "from sklearn import svm\n",
    "model_svm = svm.SVC()\n",
    "model_svm = model_svm.fit(X_train,y_train)\n",
    "print \"Train Accuracy for SVM Model\",model_svm.score(X_train,y_train)\n",
    "print \"Test Accuracy for SVM Model\",model_svm.score(X_test,y_test)"
   ]
  },
  {
   "cell_type": "code",
   "execution_count": 3,
   "metadata": {
    "collapsed": true
   },
   "outputs": [],
   "source": [
    "from sklearn.tree import DecisionTreeClassifier"
   ]
  },
  {
   "cell_type": "code",
   "execution_count": 4,
   "metadata": {
    "collapsed": false
   },
   "outputs": [
    {
     "name": "stdout",
     "output_type": "stream",
     "text": [
      "Train Accuracy for Decision Tree Model 0.983606557377\n",
      "Test Accuracy for Decison Tree Model 0.661290322581\n"
     ]
    }
   ],
   "source": [
    "model_tree = DecisionTreeClassifier()\n",
    "model_tree = model_tree.fit(X_train,y_train)\n",
    "print \"Train Accuracy for Decision Tree Model\",model_tree.score(X_train,y_train)\n",
    "print \"Test Accuracy for Decison Tree Model\",model_tree.score(X_test,y_test)"
   ]
  },
  {
   "cell_type": "code",
   "execution_count": 5,
   "metadata": {
    "collapsed": false
   },
   "outputs": [
    {
     "name": "stdout",
     "output_type": "stream",
     "text": [
      "Train Accuracy for Decision Tree2 Model 0.803278688525\n",
      "Test Accuracy for Decison Tree2 Model 0.709677419355\n"
     ]
    }
   ],
   "source": [
    "model_tree2 = DecisionTreeClassifier(max_depth=3)\n",
    "model_tree2 = model_tree2.fit(X_train,y_train)\n",
    "print \"Train Accuracy for Decision Tree2 Model\",model_tree2.score(X_train,y_train)\n",
    "print \"Test Accuracy for Decison Tree2 Model\",model_tree2.score(X_test,y_test)"
   ]
  },
  {
   "cell_type": "code",
   "execution_count": 6,
   "metadata": {
    "collapsed": true
   },
   "outputs": [],
   "source": [
    "count = 0\n",
    "for i in range(len(y_test)):\n",
    "    if y_test[i] == 1:\n",
    "        count+=1\n",
    "maj_acc = float(count)/len(y_test)"
   ]
  },
  {
   "cell_type": "code",
   "execution_count": 7,
   "metadata": {
    "collapsed": false
   },
   "outputs": [
    {
     "name": "stdout",
     "output_type": "stream",
     "text": [
      "0.709677419355\n"
     ]
    }
   ],
   "source": [
    "print maj_acc"
   ]
  },
  {
   "cell_type": "code",
   "execution_count": 8,
   "metadata": {
    "collapsed": false
   },
   "outputs": [
    {
     "name": "stdout",
     "output_type": "stream",
     "text": [
      "[ 1.  1.  1.  1.  1.  1.  1.  2.  2.  1.  1.  1.  2.  1.  1.  1.  2.  1.\n",
      "  1.  2.  1.  1.  1.  1.  1.  2.  1.  2.  2.  2.  1.  1.  1.  1.  1.  1.\n",
      "  1.  2.  2.  1.  2.  1.  1.  1.  2.  1.  1.  1.  1.  1.  2.  1.  2.  2.\n",
      "  1.  2.  1.  1.  1.  1.  2.  1.]\n"
     ]
    },
    {
     "ename": "NameError",
     "evalue": "name 'tree2' is not defined",
     "output_type": "error",
     "traceback": [
      "\u001b[0;31m---------------------------------------------------------------------------\u001b[0m",
      "\u001b[0;31mNameError\u001b[0m                                 Traceback (most recent call last)",
      "\u001b[0;32m<ipython-input-8-1af590dea72a>\u001b[0m in \u001b[0;36m<module>\u001b[0;34m()\u001b[0m\n\u001b[1;32m      1\u001b[0m \u001b[1;32mprint\u001b[0m \u001b[0my_test\u001b[0m\u001b[1;33m\u001b[0m\u001b[0m\n\u001b[0;32m----> 2\u001b[0;31m \u001b[1;32mprint\u001b[0m \u001b[0mtree2\u001b[0m\u001b[1;33m.\u001b[0m\u001b[0mpredict\u001b[0m\u001b[1;33m(\u001b[0m\u001b[0mX_test\u001b[0m\u001b[1;33m)\u001b[0m\u001b[1;33m\u001b[0m\u001b[0m\n\u001b[0m",
      "\u001b[0;31mNameError\u001b[0m: name 'tree2' is not defined"
     ]
    }
   ],
   "source": [
    "print y_test\n",
    "print tree2.predict(X_test)"
   ]
  },
  {
   "cell_type": "code",
   "execution_count": 9,
   "metadata": {
    "collapsed": false
   },
   "outputs": [
    {
     "name": "stdout",
     "output_type": "stream",
     "text": [
      "[ 1.  1.  1.  1.  1.  1.  1.  2.  2.  1.  1.  1.  2.  1.  1.  1.  2.  1.\n",
      "  1.  2.  1.  1.  1.  1.  1.  2.  1.  2.  2.  2.  1.  1.  1.  1.  1.  1.\n",
      "  1.  2.  2.  1.  2.  1.  1.  1.  2.  1.  1.  1.  1.  1.  2.  1.  2.  2.\n",
      "  1.  2.  1.  1.  1.  1.  2.  1.]\n",
      "[ 1.  1.  1.  1.  1.  2.  1.  1.  2.  1.  1.  1.  1.  2.  1.  1.  1.  1.\n",
      "  2.  1.  1.  1.  1.  1.  1.  1.  1.  2.  1.  2.  1.  2.  1.  1.  1.  1.\n",
      "  1.  1.  1.  1.  2.  1.  2.  1.  1.  1.  1.  1.  1.  1.  2.  1.  1.  1.\n",
      "  1.  2.  2.  1.  1.  1.  1.  1.]\n"
     ]
    }
   ],
   "source": [
    "print y_test\n",
    "print model_tree2.predict(X_test)"
   ]
  },
  {
   "cell_type": "code",
   "execution_count": 10,
   "metadata": {
    "collapsed": true
   },
   "outputs": [],
   "source": [
    "from sklearn.ensemble import RandomForestClassifier"
   ]
  },
  {
   "cell_type": "code",
   "execution_count": 11,
   "metadata": {
    "collapsed": true
   },
   "outputs": [],
   "source": [
    "model_forest = RandomForestClassifier(n_estimators=10, criterion='gini', max_depth=None,min_samples_split=2, min_samples_leaf=1, min_weight_fraction_leaf=0.0, max_features='auto', max_leaf_nodes=None,bootstrap=True, oob_score=False, n_jobs=1, random_state=None, verbose=0, warm_start=False,class_weight=None)"
   ]
  },
  {
   "cell_type": "code",
   "execution_count": 12,
   "metadata": {
    "collapsed": false
   },
   "outputs": [
    {
     "name": "stdout",
     "output_type": "stream",
     "text": [
      "Train Accuracy for forest Model 0.959016393443\n",
      "Test Accuracy for forest Model 0.661290322581\n"
     ]
    }
   ],
   "source": [
    "model_forest = model_forest.fit(X_train,y_train)\n",
    "print \"Train Accuracy for forest Model\",model_forest.score(X_train,y_train)\n",
    "print \"Test Accuracy for forest Model\",model_forest.score(X_test,y_test)"
   ]
  },
  {
   "cell_type": "code",
   "execution_count": 13,
   "metadata": {
    "collapsed": true
   },
   "outputs": [],
   "source": [
    "import sklearn.metrics"
   ]
  },
  {
   "cell_type": "code",
   "execution_count": 14,
   "metadata": {
    "collapsed": false
   },
   "outputs": [
    {
     "name": "stdout",
     "output_type": "stream",
     "text": [
      "precision of log Model"
     ]
    },
    {
     "ename": "AttributeError",
     "evalue": "'module' object has no attribute 'mertics'",
     "output_type": "error",
     "traceback": [
      "\u001b[0;31m---------------------------------------------------------------------------\u001b[0m",
      "\u001b[0;31mAttributeError\u001b[0m                            Traceback (most recent call last)",
      "\u001b[0;32m<ipython-input-14-7399e7ac39b8>\u001b[0m in \u001b[0;36m<module>\u001b[0;34m()\u001b[0m\n\u001b[0;32m----> 1\u001b[0;31m \u001b[1;32mprint\u001b[0m \u001b[1;34m\"precision of log Model\"\u001b[0m\u001b[1;33m,\u001b[0m \u001b[0msklearn\u001b[0m\u001b[1;33m.\u001b[0m\u001b[0mmertics\u001b[0m\u001b[1;33m.\u001b[0m\u001b[0mprecision_score\u001b[0m\u001b[1;33m(\u001b[0m\u001b[0my_test\u001b[0m\u001b[1;33m,\u001b[0m\u001b[0mmodel_log\u001b[0m\u001b[1;33m.\u001b[0m\u001b[0mpredict\u001b[0m\u001b[1;33m(\u001b[0m\u001b[0my_test\u001b[0m\u001b[1;33m)\u001b[0m\u001b[1;33m)\u001b[0m\u001b[1;33m\u001b[0m\u001b[0m\n\u001b[0m",
      "\u001b[0;31mAttributeError\u001b[0m: 'module' object has no attribute 'mertics'"
     ]
    }
   ],
   "source": [
    "print \"precision of log Model\", sklearn.mertics.precision_score(y_test,model_log.predict(y_test))"
   ]
  },
  {
   "cell_type": "code",
   "execution_count": 15,
   "metadata": {
    "collapsed": false
   },
   "outputs": [
    {
     "name": "stdout",
     "output_type": "stream",
     "text": [
      " precision of log Model"
     ]
    },
    {
     "ename": "NameError",
     "evalue": "name 'precision_score' is not defined",
     "output_type": "error",
     "traceback": [
      "\u001b[0;31m---------------------------------------------------------------------------\u001b[0m",
      "\u001b[0;31mNameError\u001b[0m                                 Traceback (most recent call last)",
      "\u001b[0;32m<ipython-input-15-23810719da7c>\u001b[0m in \u001b[0;36m<module>\u001b[0;34m()\u001b[0m\n\u001b[0;32m----> 1\u001b[0;31m \u001b[1;32mprint\u001b[0m \u001b[1;34m\"precision of log Model\"\u001b[0m\u001b[1;33m,\u001b[0m \u001b[0mprecision_score\u001b[0m\u001b[1;33m(\u001b[0m\u001b[0my_test\u001b[0m\u001b[1;33m,\u001b[0m\u001b[0mmodel_log\u001b[0m\u001b[1;33m.\u001b[0m\u001b[0mpredict\u001b[0m\u001b[1;33m(\u001b[0m\u001b[0my_test\u001b[0m\u001b[1;33m)\u001b[0m\u001b[1;33m)\u001b[0m\u001b[1;33m\u001b[0m\u001b[0m\n\u001b[0m",
      "\u001b[0;31mNameError\u001b[0m: name 'precision_score' is not defined"
     ]
    }
   ],
   "source": [
    "print \"precision of log Model\", precision_score(y_test,model_log.predict(y_test))"
   ]
  },
  {
   "cell_type": "code",
   "execution_count": 16,
   "metadata": {
    "collapsed": false
   },
   "outputs": [
    {
     "name": "stdout",
     "output_type": "stream",
     "text": [
      "\n"
     ]
    }
   ],
   "source": [
    "from sklearn.metrics import precision_score\n",
    "from sklearn.metrics import recall_score"
   ]
  },
  {
   "cell_type": "code",
   "execution_count": 17,
   "metadata": {
    "collapsed": false
   },
   "outputs": [
    {
     "ename": "ImportError",
     "evalue": "cannot import name F_score",
     "output_type": "error",
     "traceback": [
      "\u001b[0;31m---------------------------------------------------------------------------\u001b[0m",
      "\u001b[0;31mImportError\u001b[0m                               Traceback (most recent call last)",
      "\u001b[0;32m<ipython-input-17-f5b93995470d>\u001b[0m in \u001b[0;36m<module>\u001b[0;34m()\u001b[0m\n\u001b[0;32m----> 1\u001b[0;31m \u001b[1;32mfrom\u001b[0m \u001b[0msklearn\u001b[0m\u001b[1;33m.\u001b[0m\u001b[0mmetrics\u001b[0m \u001b[1;32mimport\u001b[0m \u001b[0mF_score\u001b[0m\u001b[1;33m\u001b[0m\u001b[0m\n\u001b[0m",
      "\u001b[0;31mImportError\u001b[0m: cannot import name F_score"
     ]
    }
   ],
   "source": [
    "from sklearn.metrics import F_score"
   ]
  },
  {
   "cell_type": "code",
   "execution_count": 18,
   "metadata": {
    "collapsed": false
   },
   "outputs": [
    {
     "ename": "ImportError",
     "evalue": "cannot import name Fscore",
     "output_type": "error",
     "traceback": [
      "\u001b[0;31m---------------------------------------------------------------------------\u001b[0m",
      "\u001b[0;31mImportError\u001b[0m                               Traceback (most recent call last)",
      "\u001b[0;32m<ipython-input-18-d365c7cae385>\u001b[0m in \u001b[0;36m<module>\u001b[0;34m()\u001b[0m\n\u001b[0;32m----> 1\u001b[0;31m \u001b[1;32mfrom\u001b[0m \u001b[0msklearn\u001b[0m\u001b[1;33m.\u001b[0m\u001b[0mmetrics\u001b[0m \u001b[1;32mimport\u001b[0m \u001b[0mFscore\u001b[0m\u001b[1;33m\u001b[0m\u001b[0m\n\u001b[0m",
      "\u001b[0;31mImportError\u001b[0m: cannot import name Fscore"
     ]
    }
   ],
   "source": [
    "from sklearn.metrics import Fscore"
   ]
  },
  {
   "cell_type": "code",
   "execution_count": 19,
   "metadata": {
    "collapsed": false
   },
   "outputs": [
    {
     "name": "stdout",
     "output_type": "stream",
     "text": [
      "precision of log Model"
     ]
    },
    {
     "name": "stderr",
     "output_type": "stream",
     "text": [
      "C:\\Users\\Kabir\\Anaconda2\\lib\\site-packages\\sklearn\\utils\\validation.py:395: DeprecationWarning: Passing 1d arrays as data is deprecated in 0.17 and will raise ValueError in 0.19. Reshape your data either using X.reshape(-1, 1) if your data has a single feature or X.reshape(1, -1) if it contains a single sample.\n",
      "  DeprecationWarning)\n"
     ]
    },
    {
     "ename": "ValueError",
     "evalue": "X has 62 features per sample; expecting 3",
     "output_type": "error",
     "traceback": [
      "\u001b[0;31m---------------------------------------------------------------------------\u001b[0m",
      "\u001b[0;31mValueError\u001b[0m                                Traceback (most recent call last)",
      "\u001b[0;32m<ipython-input-19-23810719da7c>\u001b[0m in \u001b[0;36m<module>\u001b[0;34m()\u001b[0m\n\u001b[0;32m----> 1\u001b[0;31m \u001b[1;32mprint\u001b[0m \u001b[1;34m\"precision of log Model\"\u001b[0m\u001b[1;33m,\u001b[0m \u001b[0mprecision_score\u001b[0m\u001b[1;33m(\u001b[0m\u001b[0my_test\u001b[0m\u001b[1;33m,\u001b[0m\u001b[0mmodel_log\u001b[0m\u001b[1;33m.\u001b[0m\u001b[0mpredict\u001b[0m\u001b[1;33m(\u001b[0m\u001b[0my_test\u001b[0m\u001b[1;33m)\u001b[0m\u001b[1;33m)\u001b[0m\u001b[1;33m\u001b[0m\u001b[0m\n\u001b[0m",
      "\u001b[0;32mC:\\Users\\Kabir\\Anaconda2\\lib\\site-packages\\sklearn\\linear_model\\base.pyc\u001b[0m in \u001b[0;36mpredict\u001b[0;34m(self, X)\u001b[0m\n\u001b[1;32m    334\u001b[0m             \u001b[0mPredicted\u001b[0m \u001b[1;32mclass\u001b[0m \u001b[0mlabel\u001b[0m \u001b[0mper\u001b[0m \u001b[0msample\u001b[0m\u001b[1;33m.\u001b[0m\u001b[1;33m\u001b[0m\u001b[0m\n\u001b[1;32m    335\u001b[0m         \"\"\"\n\u001b[0;32m--> 336\u001b[0;31m         \u001b[0mscores\u001b[0m \u001b[1;33m=\u001b[0m \u001b[0mself\u001b[0m\u001b[1;33m.\u001b[0m\u001b[0mdecision_function\u001b[0m\u001b[1;33m(\u001b[0m\u001b[0mX\u001b[0m\u001b[1;33m)\u001b[0m\u001b[1;33m\u001b[0m\u001b[0m\n\u001b[0m\u001b[1;32m    337\u001b[0m         \u001b[1;32mif\u001b[0m \u001b[0mlen\u001b[0m\u001b[1;33m(\u001b[0m\u001b[0mscores\u001b[0m\u001b[1;33m.\u001b[0m\u001b[0mshape\u001b[0m\u001b[1;33m)\u001b[0m \u001b[1;33m==\u001b[0m \u001b[1;36m1\u001b[0m\u001b[1;33m:\u001b[0m\u001b[1;33m\u001b[0m\u001b[0m\n\u001b[1;32m    338\u001b[0m             \u001b[0mindices\u001b[0m \u001b[1;33m=\u001b[0m \u001b[1;33m(\u001b[0m\u001b[0mscores\u001b[0m \u001b[1;33m>\u001b[0m \u001b[1;36m0\u001b[0m\u001b[1;33m)\u001b[0m\u001b[1;33m.\u001b[0m\u001b[0mastype\u001b[0m\u001b[1;33m(\u001b[0m\u001b[0mnp\u001b[0m\u001b[1;33m.\u001b[0m\u001b[0mint\u001b[0m\u001b[1;33m)\u001b[0m\u001b[1;33m\u001b[0m\u001b[0m\n",
      "\u001b[0;32mC:\\Users\\Kabir\\Anaconda2\\lib\\site-packages\\sklearn\\linear_model\\base.pyc\u001b[0m in \u001b[0;36mdecision_function\u001b[0;34m(self, X)\u001b[0m\n\u001b[1;32m    315\u001b[0m         \u001b[1;32mif\u001b[0m \u001b[0mX\u001b[0m\u001b[1;33m.\u001b[0m\u001b[0mshape\u001b[0m\u001b[1;33m[\u001b[0m\u001b[1;36m1\u001b[0m\u001b[1;33m]\u001b[0m \u001b[1;33m!=\u001b[0m \u001b[0mn_features\u001b[0m\u001b[1;33m:\u001b[0m\u001b[1;33m\u001b[0m\u001b[0m\n\u001b[1;32m    316\u001b[0m             raise ValueError(\"X has %d features per sample; expecting %d\"\n\u001b[0;32m--> 317\u001b[0;31m                              % (X.shape[1], n_features))\n\u001b[0m\u001b[1;32m    318\u001b[0m \u001b[1;33m\u001b[0m\u001b[0m\n\u001b[1;32m    319\u001b[0m         scores = safe_sparse_dot(X, self.coef_.T,\n",
      "\u001b[0;31mValueError\u001b[0m: X has 62 features per sample; expecting 3"
     ]
    }
   ],
   "source": [
    "print \"precision of log Model\", precision_score(y_test,model_log.predict(y_test))"
   ]
  },
  {
   "cell_type": "code",
   "execution_count": 20,
   "metadata": {
    "collapsed": false
   },
   "outputs": [
    {
     "name": "stdout",
     "output_type": "stream",
     "text": [
      " precision of log Model 0.727272727273\n"
     ]
    }
   ],
   "source": [
    "print \"precision of log Model\", precision_score(y_test,model_log.predict(X_test))"
   ]
  },
  {
   "cell_type": "code",
   "execution_count": 21,
   "metadata": {
    "collapsed": false
   },
   "outputs": [
    {
     "name": "stdout",
     "output_type": "stream",
     "text": [
      "recall of log Model 0.909090909091\n"
     ]
    }
   ],
   "source": [
    "print \"recall of log Model\", recall_score(y_test,model_log.predict(X_test))"
   ]
  },
  {
   "cell_type": "code",
   "execution_count": 22,
   "metadata": {
    "collapsed": true
   },
   "outputs": [],
   "source": [
    "from sklearn.metrics import f1_score"
   ]
  },
  {
   "cell_type": "code",
   "execution_count": 23,
   "metadata": {
    "collapsed": false
   },
   "outputs": [
    {
     "name": "stdout",
     "output_type": "stream",
     "text": [
      "f1score of log Model 0.808080808081\n"
     ]
    }
   ],
   "source": [
    "print \"f1score of log Model\", f1_score(y_test,model_log.predict(X_test))"
   ]
  },
  {
   "cell_type": "code",
   "execution_count": 24,
   "metadata": {
    "collapsed": false
   },
   "outputs": [
    {
     "name": "stdout",
     "output_type": "stream",
     "text": [
      "precision of svm Model 0.709677419355\n",
      "recall of svm Model 1.0\n",
      "f1score of svm Model 0.830188679245\n"
     ]
    }
   ],
   "source": [
    "print \"precision of svm Model\", precision_score(y_test,model_svm.predict(X_test))\n",
    "print \"recall of svm Model\", recall_score(y_test,model_svm.predict(X_test))\n",
    "print \"f1score of svm Model\", f1_score(y_test,model_svm.predict(X_test))"
   ]
  },
  {
   "cell_type": "code",
   "execution_count": 25,
   "metadata": {
    "collapsed": false
   },
   "outputs": [
    {
     "name": "stdout",
     "output_type": "stream",
     "text": [
      "precision of tree Model 0.744680851064\n",
      "recall of tree Model 0.795454545455\n",
      "f1score of tree Model 0.769230769231\n"
     ]
    }
   ],
   "source": [
    "print \"precision of tree Model\", precision_score(y_test,model_tree.predict(X_test))\n",
    "print \"recall of tree Model\", recall_score(y_test,model_tree.predict(X_test))\n",
    "print \"f1score of tree Model\", f1_score(y_test,model_tree.predict(X_test))"
   ]
  },
  {
   "cell_type": "code",
   "execution_count": 26,
   "metadata": {
    "collapsed": false
   },
   "outputs": [
    {
     "name": "stdout",
     "output_type": "stream",
     "text": [
      "precision of tree2 Model 0.76\n",
      "recall of tree2 Model 0.863636363636\n",
      "f1score of tree2 Model 0.808510638298\n"
     ]
    }
   ],
   "source": [
    "print \"precision of tree2 Model\", precision_score(y_test,model_tree2.predict(X_test))\n",
    "print \"recall of tree2 Model\", recall_score(y_test,model_tree2.predict(X_test))\n",
    "print \"f1score of tree2 Model\", f1_score(y_test,model_tree2.predict(X_test))"
   ]
  },
  {
   "cell_type": "code",
   "execution_count": 27,
   "metadata": {
    "collapsed": false
   },
   "outputs": [
    {
     "name": "stdout",
     "output_type": "stream",
     "text": [
      "Best model for our data is SVM\n"
     ]
    }
   ],
   "source": [
    "print \"Best model for our data is SVM\""
   ]
  },
  {
   "cell_type": "code",
   "execution_count": null,
   "metadata": {
    "collapsed": true
   },
   "outputs": [],
   "source": []
  }
 ],
 "metadata": {
  "kernelspec": {
   "display_name": "Python [default]",
   "language": "python",
   "name": "python2"
  },
  "language_info": {
   "codemirror_mode": {
    "name": "ipython",
    "version": 2
   },
   "file_extension": ".py",
   "mimetype": "text/x-python",
   "name": "python",
   "nbconvert_exporter": "python",
   "pygments_lexer": "ipython2",
   "version": "2.7.12"
  }
 },
 "nbformat": 4,
 "nbformat_minor": 1
}
