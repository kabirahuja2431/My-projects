{
 "cells": [
  {
   "cell_type": "code",
   "execution_count": 1,
   "metadata": {
    "collapsed": true
   },
   "outputs": [],
   "source": [
    "import numpy as np"
   ]
  },
  {
   "cell_type": "code",
   "execution_count": 2,
   "metadata": {
    "collapsed": false
   },
   "outputs": [
    {
     "ename": "ValueError",
     "evalue": "invalid literal for float(): 30,64,1,1",
     "output_type": "error",
     "traceback": [
      "\u001b[0;31m---------------------------------------------------------------------------\u001b[0m",
      "\u001b[0;31mValueError\u001b[0m                                Traceback (most recent call last)",
      "\u001b[0;32m<ipython-input-2-47cadb75ace5>\u001b[0m in \u001b[0;36m<module>\u001b[0;34m()\u001b[0m\n\u001b[0;32m----> 1\u001b[0;31m \u001b[0mdata\u001b[0m\u001b[1;33m=\u001b[0m\u001b[0mnp\u001b[0m\u001b[1;33m.\u001b[0m\u001b[0mloadtxt\u001b[0m\u001b[1;33m(\u001b[0m\u001b[1;34m'haberman1.txt'\u001b[0m\u001b[1;33m)\u001b[0m\u001b[1;33m\u001b[0m\u001b[0m\n\u001b[0m",
      "\u001b[0;32mC:\\Users\\Kabir\\Anaconda2\\lib\\site-packages\\numpy\\lib\\npyio.pyc\u001b[0m in \u001b[0;36mloadtxt\u001b[0;34m(fname, dtype, comments, delimiter, converters, skiprows, usecols, unpack, ndmin)\u001b[0m\n\u001b[1;32m    928\u001b[0m \u001b[1;33m\u001b[0m\u001b[0m\n\u001b[1;32m    929\u001b[0m             \u001b[1;31m# Convert each value according to its column and store\u001b[0m\u001b[1;33m\u001b[0m\u001b[1;33m\u001b[0m\u001b[0m\n\u001b[0;32m--> 930\u001b[0;31m             \u001b[0mitems\u001b[0m \u001b[1;33m=\u001b[0m \u001b[1;33m[\u001b[0m\u001b[0mconv\u001b[0m\u001b[1;33m(\u001b[0m\u001b[0mval\u001b[0m\u001b[1;33m)\u001b[0m \u001b[1;32mfor\u001b[0m \u001b[1;33m(\u001b[0m\u001b[0mconv\u001b[0m\u001b[1;33m,\u001b[0m \u001b[0mval\u001b[0m\u001b[1;33m)\u001b[0m \u001b[1;32min\u001b[0m \u001b[0mzip\u001b[0m\u001b[1;33m(\u001b[0m\u001b[0mconverters\u001b[0m\u001b[1;33m,\u001b[0m \u001b[0mvals\u001b[0m\u001b[1;33m)\u001b[0m\u001b[1;33m]\u001b[0m\u001b[1;33m\u001b[0m\u001b[0m\n\u001b[0m\u001b[1;32m    931\u001b[0m             \u001b[1;31m# Then pack it according to the dtype's nesting\u001b[0m\u001b[1;33m\u001b[0m\u001b[1;33m\u001b[0m\u001b[0m\n\u001b[1;32m    932\u001b[0m             \u001b[0mitems\u001b[0m \u001b[1;33m=\u001b[0m \u001b[0mpack_items\u001b[0m\u001b[1;33m(\u001b[0m\u001b[0mitems\u001b[0m\u001b[1;33m,\u001b[0m \u001b[0mpacking\u001b[0m\u001b[1;33m)\u001b[0m\u001b[1;33m\u001b[0m\u001b[0m\n",
      "\u001b[0;32mC:\\Users\\Kabir\\Anaconda2\\lib\\site-packages\\numpy\\lib\\npyio.pyc\u001b[0m in \u001b[0;36mfloatconv\u001b[0;34m(x)\u001b[0m\n\u001b[1;32m    657\u001b[0m         \u001b[1;32mif\u001b[0m \u001b[1;34mb'0x'\u001b[0m \u001b[1;32min\u001b[0m \u001b[0mx\u001b[0m\u001b[1;33m:\u001b[0m\u001b[1;33m\u001b[0m\u001b[0m\n\u001b[1;32m    658\u001b[0m             \u001b[1;32mreturn\u001b[0m \u001b[0mfloat\u001b[0m\u001b[1;33m.\u001b[0m\u001b[0mfromhex\u001b[0m\u001b[1;33m(\u001b[0m\u001b[0masstr\u001b[0m\u001b[1;33m(\u001b[0m\u001b[0mx\u001b[0m\u001b[1;33m)\u001b[0m\u001b[1;33m)\u001b[0m\u001b[1;33m\u001b[0m\u001b[0m\n\u001b[0;32m--> 659\u001b[0;31m         \u001b[1;32mreturn\u001b[0m \u001b[0mfloat\u001b[0m\u001b[1;33m(\u001b[0m\u001b[0mx\u001b[0m\u001b[1;33m)\u001b[0m\u001b[1;33m\u001b[0m\u001b[0m\n\u001b[0m\u001b[1;32m    660\u001b[0m \u001b[1;33m\u001b[0m\u001b[0m\n\u001b[1;32m    661\u001b[0m     \u001b[0mtyp\u001b[0m \u001b[1;33m=\u001b[0m \u001b[0mdtype\u001b[0m\u001b[1;33m.\u001b[0m\u001b[0mtype\u001b[0m\u001b[1;33m\u001b[0m\u001b[0m\n",
      "\u001b[0;31mValueError\u001b[0m: invalid literal for float(): 30,64,1,1"
     ]
    }
   ],
   "source": [
    "data=np.loadtxt('haberman1.txt')"
   ]
  },
  {
   "cell_type": "code",
   "execution_count": 3,
   "metadata": {
    "collapsed": true
   },
   "outputs": [],
   "source": [
    "fp=open('haberman1.txt')"
   ]
  },
  {
   "cell_type": "code",
   "execution_count": 4,
   "metadata": {
    "collapsed": false
   },
   "outputs": [
    {
     "ename": "ValueError",
     "evalue": "invalid literal for float(): 30,64,1,1",
     "output_type": "error",
     "traceback": [
      "\u001b[0;31m---------------------------------------------------------------------------\u001b[0m",
      "\u001b[0;31mValueError\u001b[0m                                Traceback (most recent call last)",
      "\u001b[0;32m<ipython-input-4-bf00c7b17c63>\u001b[0m in \u001b[0;36m<module>\u001b[0;34m()\u001b[0m\n\u001b[0;32m----> 1\u001b[0;31m \u001b[0mdata\u001b[0m\u001b[1;33m=\u001b[0m\u001b[0mnp\u001b[0m\u001b[1;33m.\u001b[0m\u001b[0mloadtxt\u001b[0m\u001b[1;33m(\u001b[0m\u001b[0mfp\u001b[0m\u001b[1;33m)\u001b[0m\u001b[1;33m\u001b[0m\u001b[0m\n\u001b[0m",
      "\u001b[0;32mC:\\Users\\Kabir\\Anaconda2\\lib\\site-packages\\numpy\\lib\\npyio.pyc\u001b[0m in \u001b[0;36mloadtxt\u001b[0;34m(fname, dtype, comments, delimiter, converters, skiprows, usecols, unpack, ndmin)\u001b[0m\n\u001b[1;32m    928\u001b[0m \u001b[1;33m\u001b[0m\u001b[0m\n\u001b[1;32m    929\u001b[0m             \u001b[1;31m# Convert each value according to its column and store\u001b[0m\u001b[1;33m\u001b[0m\u001b[1;33m\u001b[0m\u001b[0m\n\u001b[0;32m--> 930\u001b[0;31m             \u001b[0mitems\u001b[0m \u001b[1;33m=\u001b[0m \u001b[1;33m[\u001b[0m\u001b[0mconv\u001b[0m\u001b[1;33m(\u001b[0m\u001b[0mval\u001b[0m\u001b[1;33m)\u001b[0m \u001b[1;32mfor\u001b[0m \u001b[1;33m(\u001b[0m\u001b[0mconv\u001b[0m\u001b[1;33m,\u001b[0m \u001b[0mval\u001b[0m\u001b[1;33m)\u001b[0m \u001b[1;32min\u001b[0m \u001b[0mzip\u001b[0m\u001b[1;33m(\u001b[0m\u001b[0mconverters\u001b[0m\u001b[1;33m,\u001b[0m \u001b[0mvals\u001b[0m\u001b[1;33m)\u001b[0m\u001b[1;33m]\u001b[0m\u001b[1;33m\u001b[0m\u001b[0m\n\u001b[0m\u001b[1;32m    931\u001b[0m             \u001b[1;31m# Then pack it according to the dtype's nesting\u001b[0m\u001b[1;33m\u001b[0m\u001b[1;33m\u001b[0m\u001b[0m\n\u001b[1;32m    932\u001b[0m             \u001b[0mitems\u001b[0m \u001b[1;33m=\u001b[0m \u001b[0mpack_items\u001b[0m\u001b[1;33m(\u001b[0m\u001b[0mitems\u001b[0m\u001b[1;33m,\u001b[0m \u001b[0mpacking\u001b[0m\u001b[1;33m)\u001b[0m\u001b[1;33m\u001b[0m\u001b[0m\n",
      "\u001b[0;32mC:\\Users\\Kabir\\Anaconda2\\lib\\site-packages\\numpy\\lib\\npyio.pyc\u001b[0m in \u001b[0;36mfloatconv\u001b[0;34m(x)\u001b[0m\n\u001b[1;32m    657\u001b[0m         \u001b[1;32mif\u001b[0m \u001b[1;34mb'0x'\u001b[0m \u001b[1;32min\u001b[0m \u001b[0mx\u001b[0m\u001b[1;33m:\u001b[0m\u001b[1;33m\u001b[0m\u001b[0m\n\u001b[1;32m    658\u001b[0m             \u001b[1;32mreturn\u001b[0m \u001b[0mfloat\u001b[0m\u001b[1;33m.\u001b[0m\u001b[0mfromhex\u001b[0m\u001b[1;33m(\u001b[0m\u001b[0masstr\u001b[0m\u001b[1;33m(\u001b[0m\u001b[0mx\u001b[0m\u001b[1;33m)\u001b[0m\u001b[1;33m)\u001b[0m\u001b[1;33m\u001b[0m\u001b[0m\n\u001b[0;32m--> 659\u001b[0;31m         \u001b[1;32mreturn\u001b[0m \u001b[0mfloat\u001b[0m\u001b[1;33m(\u001b[0m\u001b[0mx\u001b[0m\u001b[1;33m)\u001b[0m\u001b[1;33m\u001b[0m\u001b[0m\n\u001b[0m\u001b[1;32m    660\u001b[0m \u001b[1;33m\u001b[0m\u001b[0m\n\u001b[1;32m    661\u001b[0m     \u001b[0mtyp\u001b[0m \u001b[1;33m=\u001b[0m \u001b[0mdtype\u001b[0m\u001b[1;33m.\u001b[0m\u001b[0mtype\u001b[0m\u001b[1;33m\u001b[0m\u001b[0m\n",
      "\u001b[0;31mValueError\u001b[0m: invalid literal for float(): 30,64,1,1"
     ]
    }
   ],
   "source": [
    "data=np.loadtxt(fp)"
   ]
  },
  {
   "cell_type": "code",
   "execution_count": 5,
   "metadata": {
    "collapsed": true
   },
   "outputs": [],
   "source": [
    "data=np.loadtxt('haberman1.txt')"
   ]
  },
  {
   "cell_type": "code",
   "execution_count": 6,
   "metadata": {
    "collapsed": false
   },
   "outputs": [
    {
     "data": {
      "text/plain": [
       "array([[ 30.,  64.,   1.,   1.],\n",
       "       [ 30.,  62.,   3.,   1.],\n",
       "       [ 30.,  65.,   0.,   1.],\n",
       "       ..., \n",
       "       [ 77.,  65.,   3.,   1.],\n",
       "       [ 78.,  65.,   1.,   2.],\n",
       "       [ 83.,  58.,   2.,   2.]])"
      ]
     },
     "execution_count": 6,
     "metadata": {},
     "output_type": "execute_result"
    }
   ],
   "source": [
    "data"
   ]
  },
  {
   "cell_type": "code",
   "execution_count": 7,
   "metadata": {
    "collapsed": true
   },
   "outputs": [],
   "source": [
    "X=data[:,[0,1,2]]\n",
    "y=data[:,3]"
   ]
  },
  {
   "cell_type": "code",
   "execution_count": 8,
   "metadata": {
    "collapsed": false
   },
   "outputs": [
    {
     "data": {
      "text/plain": [
       "array([[ 30.,  64.,   1.],\n",
       "       [ 30.,  62.,   3.],\n",
       "       [ 30.,  65.,   0.],\n",
       "       [ 31.,  59.,   2.],\n",
       "       [ 31.,  65.,   4.],\n",
       "       [ 33.,  58.,  10.],\n",
       "       [ 33.,  60.,   0.],\n",
       "       [ 34.,  59.,   0.],\n",
       "       [ 34.,  66.,   9.],\n",
       "       [ 34.,  58.,  30.],\n",
       "       [ 34.,  60.,   1.],\n",
       "       [ 34.,  61.,  10.],\n",
       "       [ 34.,  67.,   7.],\n",
       "       [ 34.,  60.,   0.],\n",
       "       [ 35.,  64.,  13.],\n",
       "       [ 35.,  63.,   0.],\n",
       "       [ 36.,  60.,   1.],\n",
       "       [ 36.,  69.,   0.],\n",
       "       [ 37.,  60.,   0.],\n",
       "       [ 37.,  63.,   0.],\n",
       "       [ 37.,  58.,   0.],\n",
       "       [ 37.,  59.,   6.],\n",
       "       [ 37.,  60.,  15.],\n",
       "       [ 37.,  63.,   0.],\n",
       "       [ 38.,  69.,  21.],\n",
       "       [ 38.,  59.,   2.],\n",
       "       [ 38.,  60.,   0.],\n",
       "       [ 38.,  60.,   0.],\n",
       "       [ 38.,  62.,   3.],\n",
       "       [ 38.,  64.,   1.],\n",
       "       [ 38.,  66.,   0.],\n",
       "       [ 38.,  66.,  11.],\n",
       "       [ 38.,  60.,   1.],\n",
       "       [ 38.,  67.,   5.],\n",
       "       [ 39.,  66.,   0.],\n",
       "       [ 39.,  63.,   0.],\n",
       "       [ 39.,  67.,   0.],\n",
       "       [ 39.,  58.,   0.],\n",
       "       [ 39.,  59.,   2.],\n",
       "       [ 39.,  63.,   4.],\n",
       "       [ 40.,  58.,   2.],\n",
       "       [ 40.,  58.,   0.],\n",
       "       [ 40.,  65.,   0.],\n",
       "       [ 41.,  60.,  23.],\n",
       "       [ 41.,  64.,   0.],\n",
       "       [ 41.,  67.,   0.],\n",
       "       [ 41.,  58.,   0.],\n",
       "       [ 41.,  59.,   8.],\n",
       "       [ 41.,  59.,   0.],\n",
       "       [ 41.,  64.,   0.],\n",
       "       [ 41.,  69.,   8.],\n",
       "       [ 41.,  65.,   0.],\n",
       "       [ 41.,  65.,   0.],\n",
       "       [ 42.,  69.,   1.],\n",
       "       [ 42.,  59.,   0.],\n",
       "       [ 42.,  58.,   0.],\n",
       "       [ 42.,  60.,   1.],\n",
       "       [ 42.,  59.,   2.],\n",
       "       [ 42.,  61.,   4.],\n",
       "       [ 42.,  62.,  20.],\n",
       "       [ 42.,  65.,   0.],\n",
       "       [ 42.,  63.,   1.],\n",
       "       [ 43.,  58.,  52.],\n",
       "       [ 43.,  59.,   2.],\n",
       "       [ 43.,  64.,   0.],\n",
       "       [ 43.,  64.,   0.],\n",
       "       [ 43.,  63.,  14.],\n",
       "       [ 43.,  64.,   2.],\n",
       "       [ 43.,  64.,   3.],\n",
       "       [ 43.,  60.,   0.],\n",
       "       [ 43.,  63.,   2.],\n",
       "       [ 43.,  65.,   0.],\n",
       "       [ 43.,  66.,   4.],\n",
       "       [ 44.,  64.,   6.],\n",
       "       [ 44.,  58.,   9.],\n",
       "       [ 44.,  63.,  19.],\n",
       "       [ 44.,  61.,   0.],\n",
       "       [ 44.,  63.,   1.],\n",
       "       [ 44.,  61.,   0.],\n",
       "       [ 44.,  67.,  16.],\n",
       "       [ 45.,  65.,   6.],\n",
       "       [ 45.,  66.,   0.],\n",
       "       [ 45.,  67.,   1.],\n",
       "       [ 45.,  60.,   0.],\n",
       "       [ 45.,  67.,   0.],\n",
       "       [ 45.,  59.,  14.],\n",
       "       [ 45.,  64.,   0.],\n",
       "       [ 45.,  68.,   0.],\n",
       "       [ 45.,  67.,   1.],\n",
       "       [ 46.,  58.,   2.],\n",
       "       [ 46.,  69.,   3.],\n",
       "       [ 46.,  62.,   5.],\n",
       "       [ 46.,  65.,  20.],\n",
       "       [ 46.,  62.,   0.],\n",
       "       [ 46.,  58.,   3.],\n",
       "       [ 46.,  63.,   0.],\n",
       "       [ 47.,  63.,  23.],\n",
       "       [ 47.,  62.,   0.],\n",
       "       [ 47.,  65.,   0.],\n",
       "       [ 47.,  61.,   0.],\n",
       "       [ 47.,  63.,   6.],\n",
       "       [ 47.,  66.,   0.],\n",
       "       [ 47.,  67.,   0.],\n",
       "       [ 47.,  58.,   3.],\n",
       "       [ 47.,  60.,   4.],\n",
       "       [ 47.,  68.,   4.],\n",
       "       [ 47.,  66.,  12.],\n",
       "       [ 48.,  58.,  11.],\n",
       "       [ 48.,  58.,  11.],\n",
       "       [ 48.,  67.,   7.],\n",
       "       [ 48.,  61.,   8.],\n",
       "       [ 48.,  62.,   2.],\n",
       "       [ 48.,  64.,   0.],\n",
       "       [ 48.,  66.,   0.],\n",
       "       [ 49.,  63.,   0.],\n",
       "       [ 49.,  64.,  10.],\n",
       "       [ 49.,  61.,   1.],\n",
       "       [ 49.,  62.,   0.],\n",
       "       [ 49.,  66.,   0.],\n",
       "       [ 49.,  60.,   1.],\n",
       "       [ 49.,  62.,   1.],\n",
       "       [ 49.,  63.,   3.],\n",
       "       [ 49.,  61.,   0.],\n",
       "       [ 49.,  67.,   1.],\n",
       "       [ 50.,  63.,  13.],\n",
       "       [ 50.,  64.,   0.],\n",
       "       [ 50.,  59.,   0.],\n",
       "       [ 50.,  61.,   6.],\n",
       "       [ 50.,  61.,   0.],\n",
       "       [ 50.,  63.,   1.],\n",
       "       [ 50.,  58.,   1.],\n",
       "       [ 50.,  59.,   2.],\n",
       "       [ 50.,  61.,   0.],\n",
       "       [ 50.,  64.,   0.],\n",
       "       [ 50.,  65.,   4.],\n",
       "       [ 50.,  66.,   1.],\n",
       "       [ 51.,  59.,  13.],\n",
       "       [ 51.,  59.,   3.],\n",
       "       [ 51.,  64.,   7.],\n",
       "       [ 51.,  59.,   1.],\n",
       "       [ 51.,  65.,   0.],\n",
       "       [ 51.,  66.,   1.],\n",
       "       [ 52.,  69.,   3.],\n",
       "       [ 52.,  59.,   2.],\n",
       "       [ 52.,  62.,   3.],\n",
       "       [ 52.,  66.,   4.],\n",
       "       [ 52.,  61.,   0.],\n",
       "       [ 52.,  63.,   4.],\n",
       "       [ 52.,  69.,   0.],\n",
       "       [ 52.,  60.,   4.],\n",
       "       [ 52.,  60.,   5.],\n",
       "       [ 52.,  62.,   0.],\n",
       "       [ 52.,  62.,   1.],\n",
       "       [ 52.,  64.,   0.],\n",
       "       [ 52.,  65.,   0.],\n",
       "       [ 52.,  68.,   0.],\n",
       "       [ 53.,  58.,   4.],\n",
       "       [ 53.,  65.,   1.],\n",
       "       [ 53.,  59.,   3.],\n",
       "       [ 53.,  60.,   9.],\n",
       "       [ 53.,  63.,  24.],\n",
       "       [ 53.,  65.,  12.],\n",
       "       [ 53.,  58.,   1.],\n",
       "       [ 53.,  60.,   1.],\n",
       "       [ 53.,  60.,   2.],\n",
       "       [ 53.,  61.,   1.],\n",
       "       [ 53.,  63.,   0.],\n",
       "       [ 54.,  60.,  11.],\n",
       "       [ 54.,  65.,  23.],\n",
       "       [ 54.,  65.,   5.],\n",
       "       [ 54.,  68.,   7.],\n",
       "       [ 54.,  59.,   7.],\n",
       "       [ 54.,  60.,   3.],\n",
       "       [ 54.,  66.,   0.],\n",
       "       [ 54.,  67.,  46.],\n",
       "       [ 54.,  62.,   0.],\n",
       "       [ 54.,  69.,   7.],\n",
       "       [ 54.,  63.,  19.],\n",
       "       [ 54.,  58.,   1.],\n",
       "       [ 54.,  62.,   0.],\n",
       "       [ 55.,  63.,   6.],\n",
       "       [ 55.,  68.,  15.],\n",
       "       [ 55.,  58.,   1.],\n",
       "       [ 55.,  58.,   0.],\n",
       "       [ 55.,  58.,   1.],\n",
       "       [ 55.,  66.,  18.],\n",
       "       [ 55.,  66.,   0.],\n",
       "       [ 55.,  69.,   3.],\n",
       "       [ 55.,  69.,  22.],\n",
       "       [ 55.,  67.,   1.],\n",
       "       [ 56.,  65.,   9.],\n",
       "       [ 56.,  66.,   3.],\n",
       "       [ 56.,  60.,   0.],\n",
       "       [ 56.,  66.,   2.],\n",
       "       [ 56.,  66.,   1.],\n",
       "       [ 56.,  67.,   0.],\n",
       "       [ 56.,  60.,   0.],\n",
       "       [ 57.,  61.,   5.],\n",
       "       [ 57.,  62.,  14.],\n",
       "       [ 57.,  64.,   1.],\n",
       "       [ 57.,  64.,   9.],\n",
       "       [ 57.,  69.,   0.],\n",
       "       [ 57.,  61.,   0.],\n",
       "       [ 57.,  62.,   0.],\n",
       "       [ 57.,  63.,   0.],\n",
       "       [ 57.,  64.,   0.],\n",
       "       [ 57.,  64.,   0.],\n",
       "       [ 57.,  67.,   0.],\n",
       "       [ 58.,  59.,   0.],\n",
       "       [ 58.,  60.,   3.],\n",
       "       [ 58.,  61.,   1.],\n",
       "       [ 58.,  67.,   0.],\n",
       "       [ 58.,  58.,   0.],\n",
       "       [ 58.,  58.,   3.],\n",
       "       [ 58.,  61.,   2.],\n",
       "       [ 59.,  62.,  35.],\n",
       "       [ 59.,  60.,   0.],\n",
       "       [ 59.,  63.,   0.],\n",
       "       [ 59.,  64.,   1.],\n",
       "       [ 59.,  64.,   4.],\n",
       "       [ 59.,  64.,   0.],\n",
       "       [ 59.,  64.,   7.],\n",
       "       [ 59.,  67.,   3.],\n",
       "       [ 60.,  59.,  17.],\n",
       "       [ 60.,  65.,   0.],\n",
       "       [ 60.,  61.,   1.],\n",
       "       [ 60.,  67.,   2.],\n",
       "       [ 60.,  61.,  25.],\n",
       "       [ 60.,  64.,   0.],\n",
       "       [ 61.,  62.,   5.],\n",
       "       [ 61.,  65.,   0.],\n",
       "       [ 61.,  68.,   1.],\n",
       "       [ 61.,  59.,   0.],\n",
       "       [ 61.,  59.,   0.],\n",
       "       [ 61.,  64.,   0.],\n",
       "       [ 61.,  65.,   8.],\n",
       "       [ 61.,  68.,   0.],\n",
       "       [ 61.,  59.,   0.],\n",
       "       [ 62.,  59.,  13.],\n",
       "       [ 62.,  58.,   0.],\n",
       "       [ 62.,  65.,  19.],\n",
       "       [ 62.,  62.,   6.],\n",
       "       [ 62.,  66.,   0.],\n",
       "       [ 62.,  66.,   0.],\n",
       "       [ 62.,  58.,   0.],\n",
       "       [ 63.,  60.,   1.],\n",
       "       [ 63.,  61.,   0.],\n",
       "       [ 63.,  62.,   0.],\n",
       "       [ 63.,  63.,   0.],\n",
       "       [ 63.,  63.,   0.],\n",
       "       [ 63.,  66.,   0.],\n",
       "       [ 63.,  61.,   9.],\n",
       "       [ 63.,  61.,  28.],\n",
       "       [ 64.,  58.,   0.],\n",
       "       [ 64.,  65.,  22.],\n",
       "       [ 64.,  66.,   0.],\n",
       "       [ 64.,  61.,   0.],\n",
       "       [ 64.,  68.,   0.],\n",
       "       [ 65.,  58.,   0.],\n",
       "       [ 65.,  61.,   2.],\n",
       "       [ 65.,  62.,  22.],\n",
       "       [ 65.,  66.,  15.],\n",
       "       [ 65.,  58.,   0.],\n",
       "       [ 65.,  64.,   0.],\n",
       "       [ 65.,  67.,   0.],\n",
       "       [ 65.,  59.,   2.],\n",
       "       [ 65.,  64.,   0.],\n",
       "       [ 65.,  67.,   1.],\n",
       "       [ 66.,  58.,   0.],\n",
       "       [ 66.,  61.,  13.],\n",
       "       [ 66.,  58.,   0.],\n",
       "       [ 66.,  58.,   1.],\n",
       "       [ 66.,  68.,   0.],\n",
       "       [ 67.,  64.,   8.],\n",
       "       [ 67.,  63.,   1.],\n",
       "       [ 67.,  66.,   0.],\n",
       "       [ 67.,  66.,   0.],\n",
       "       [ 67.,  61.,   0.],\n",
       "       [ 67.,  65.,   0.],\n",
       "       [ 68.,  67.,   0.],\n",
       "       [ 68.,  68.,   0.],\n",
       "       [ 69.,  67.,   8.],\n",
       "       [ 69.,  60.,   0.],\n",
       "       [ 69.,  65.,   0.],\n",
       "       [ 69.,  66.,   0.],\n",
       "       [ 70.,  58.,   0.],\n",
       "       [ 70.,  58.,   4.],\n",
       "       [ 70.,  66.,  14.],\n",
       "       [ 70.,  67.,   0.],\n",
       "       [ 70.,  68.,   0.],\n",
       "       [ 70.,  59.,   8.],\n",
       "       [ 70.,  63.,   0.],\n",
       "       [ 71.,  68.,   2.],\n",
       "       [ 72.,  63.,   0.],\n",
       "       [ 72.,  58.,   0.],\n",
       "       [ 72.,  64.,   0.],\n",
       "       [ 72.,  67.,   3.],\n",
       "       [ 73.,  62.,   0.],\n",
       "       [ 73.,  68.,   0.],\n",
       "       [ 74.,  65.,   3.],\n",
       "       [ 74.,  63.,   0.],\n",
       "       [ 75.,  62.,   1.],\n",
       "       [ 76.,  67.,   0.],\n",
       "       [ 77.,  65.,   3.],\n",
       "       [ 78.,  65.,   1.],\n",
       "       [ 83.,  58.,   2.]])"
      ]
     },
     "execution_count": 8,
     "metadata": {},
     "output_type": "execute_result"
    }
   ],
   "source": [
    "X"
   ]
  },
  {
   "cell_type": "code",
   "execution_count": 9,
   "metadata": {
    "collapsed": false
   },
   "outputs": [
    {
     "name": "stderr",
     "output_type": "stream",
     "text": [
      "C:\\Users\\Kabir\\Anaconda2\\lib\\site-packages\\sklearn\\cross_validation.py:44: DeprecationWarning: This module was deprecated in version 0.18 in favor of the model_selection module into which all the refactored classes and functions are moved. Also note that the interface of the new CV iterators are different from that of this module. This module will be removed in 0.20.\n",
      "  \"This module will be removed in 0.20.\", DeprecationWarning)\n"
     ]
    }
   ],
   "source": [
    "from sklearn.cross_validation import train_test_split"
   ]
  },
  {
   "cell_type": "code",
   "execution_count": 10,
   "metadata": {
    "collapsed": true
   },
   "outputs": [],
   "source": [
    "X_train,X_test,y_train,y_test=train_test_split(X,y,test_size=0.2,random_state=42)"
   ]
  },
  {
   "cell_type": "code",
   "execution_count": 11,
   "metadata": {
    "collapsed": true
   },
   "outputs": [],
   "source": [
    "from sklearn.linear_model import LogisticRegression"
   ]
  },
  {
   "cell_type": "code",
   "execution_count": 12,
   "metadata": {
    "collapsed": true
   },
   "outputs": [],
   "source": [
    "model_reg=LogisticRegression()\n",
    "model_reg=model_reg.fit(X_train,y_train)"
   ]
  },
  {
   "cell_type": "code",
   "execution_count": 13,
   "metadata": {
    "collapsed": false
   },
   "outputs": [
    {
     "data": {
      "text/plain": [
       "0.76229508196721307"
      ]
     },
     "execution_count": 13,
     "metadata": {},
     "output_type": "execute_result"
    }
   ],
   "source": [
    "model_reg.score(X_train,y_train)"
   ]
  },
  {
   "cell_type": "code",
   "execution_count": 14,
   "metadata": {
    "collapsed": false
   },
   "outputs": [
    {
     "data": {
      "text/plain": [
       "0.69354838709677424"
      ]
     },
     "execution_count": 14,
     "metadata": {},
     "output_type": "execute_result"
    }
   ],
   "source": [
    "model_reg.score(X_test,y_test)"
   ]
  },
  {
   "cell_type": "code",
   "execution_count": 15,
   "metadata": {
    "collapsed": true
   },
   "outputs": [],
   "source": [
    "from sklearn import svm\n",
    "model_svm=svm.SVC()\n",
    "model_svm=model_svm.fit(X_train,y_train)"
   ]
  },
  {
   "cell_type": "code",
   "execution_count": 16,
   "metadata": {
    "collapsed": false
   },
   "outputs": [
    {
     "ename": "AttributeError",
     "evalue": "'numpy.ndarray' object has no attribute 'y_train'",
     "output_type": "error",
     "traceback": [
      "\u001b[0;31m---------------------------------------------------------------------------\u001b[0m",
      "\u001b[0;31mAttributeError\u001b[0m                            Traceback (most recent call last)",
      "\u001b[0;32m<ipython-input-16-2510c58d8a03>\u001b[0m in \u001b[0;36m<module>\u001b[0;34m()\u001b[0m\n\u001b[0;32m----> 1\u001b[0;31m \u001b[0mmodel_svm\u001b[0m\u001b[1;33m.\u001b[0m\u001b[0mscore\u001b[0m\u001b[1;33m(\u001b[0m\u001b[0mX_train\u001b[0m\u001b[1;33m.\u001b[0m\u001b[0my_train\u001b[0m\u001b[1;33m)\u001b[0m\u001b[1;33m\u001b[0m\u001b[0m\n\u001b[0m",
      "\u001b[0;31mAttributeError\u001b[0m: 'numpy.ndarray' object has no attribute 'y_train'"
     ]
    }
   ],
   "source": [
    "model_svm.score(X_train.y_train)"
   ]
  },
  {
   "cell_type": "code",
   "execution_count": 17,
   "metadata": {
    "collapsed": false
   },
   "outputs": [
    {
     "data": {
      "text/plain": [
       "0.92213114754098358"
      ]
     },
     "execution_count": 17,
     "metadata": {},
     "output_type": "execute_result"
    }
   ],
   "source": [
    "model_svm.score(X_train,y_train)"
   ]
  },
  {
   "cell_type": "code",
   "execution_count": 18,
   "metadata": {
    "collapsed": false
   },
   "outputs": [
    {
     "data": {
      "text/plain": [
       "0.70967741935483875"
      ]
     },
     "execution_count": 18,
     "metadata": {},
     "output_type": "execute_result"
    }
   ],
   "source": [
    "model_svm.score(X_test,y_test)"
   ]
  },
  {
   "cell_type": "code",
   "execution_count": 19,
   "metadata": {
    "collapsed": false
   },
   "outputs": [
    {
     "ename": "ImportError",
     "evalue": "cannot import name DecisonTreeClassifier",
     "output_type": "error",
     "traceback": [
      "\u001b[0;31m---------------------------------------------------------------------------\u001b[0m",
      "\u001b[0;31mImportError\u001b[0m                               Traceback (most recent call last)",
      "\u001b[0;32m<ipython-input-19-be6a102640bb>\u001b[0m in \u001b[0;36m<module>\u001b[0;34m()\u001b[0m\n\u001b[0;32m----> 1\u001b[0;31m \u001b[1;32mfrom\u001b[0m \u001b[0msklearn\u001b[0m\u001b[1;33m.\u001b[0m\u001b[0mtree\u001b[0m \u001b[1;32mimport\u001b[0m \u001b[0mDecisonTreeClassifier\u001b[0m\u001b[1;33m\u001b[0m\u001b[0m\n\u001b[0m\u001b[1;32m      2\u001b[0m \u001b[0mmodel_tree\u001b[0m\u001b[1;33m=\u001b[0m\u001b[0mmodel_tree\u001b[0m\u001b[1;33m.\u001b[0m\u001b[0mDecisionTreeClassifier\u001b[0m\u001b[1;33m(\u001b[0m\u001b[1;33m)\u001b[0m\u001b[1;33m\u001b[0m\u001b[0m\n\u001b[1;32m      3\u001b[0m \u001b[0mmodel_tree\u001b[0m\u001b[1;33m=\u001b[0m\u001b[0mmodel_tree\u001b[0m\u001b[1;33m.\u001b[0m\u001b[0mfit\u001b[0m\u001b[1;33m(\u001b[0m\u001b[0mX_train\u001b[0m\u001b[1;33m,\u001b[0m\u001b[0my_train\u001b[0m\u001b[1;33m)\u001b[0m\u001b[1;33m\u001b[0m\u001b[0m\n",
      "\u001b[0;31mImportError\u001b[0m: cannot import name DecisonTreeClassifier"
     ]
    }
   ],
   "source": [
    "from sklearn.tree import DecisonTreeClassifier\n",
    "model_tree=model_tree.DecisionTreeClassifier()\n",
    "model_tree=model_tree.fit(X_train,y_train)"
   ]
  },
  {
   "cell_type": "code",
   "execution_count": 20,
   "metadata": {
    "collapsed": true
   },
   "outputs": [],
   "source": [
    "from sklearn.tree import DecisionTreeClassifier"
   ]
  },
  {
   "cell_type": "code",
   "execution_count": 21,
   "metadata": {
    "collapsed": false
   },
   "outputs": [
    {
     "ename": "NameError",
     "evalue": "name 'model_tree' is not defined",
     "output_type": "error",
     "traceback": [
      "\u001b[0;31m---------------------------------------------------------------------------\u001b[0m",
      "\u001b[0;31mNameError\u001b[0m                                 Traceback (most recent call last)",
      "\u001b[0;32m<ipython-input-21-c65ae590fb30>\u001b[0m in \u001b[0;36m<module>\u001b[0;34m()\u001b[0m\n\u001b[0;32m----> 1\u001b[0;31m \u001b[0mmodel_tree\u001b[0m\u001b[1;33m=\u001b[0m\u001b[0mmodel_tree\u001b[0m\u001b[1;33m.\u001b[0m\u001b[0mDecisionTreeClassifier\u001b[0m\u001b[1;33m(\u001b[0m\u001b[1;33m)\u001b[0m\u001b[1;33m\u001b[0m\u001b[0m\n\u001b[0m\u001b[1;32m      2\u001b[0m \u001b[0mmodel_tree\u001b[0m\u001b[1;33m=\u001b[0m\u001b[0mmodel_tree\u001b[0m\u001b[1;33m.\u001b[0m\u001b[0mfit\u001b[0m\u001b[1;33m(\u001b[0m\u001b[0mX_train\u001b[0m\u001b[1;33m,\u001b[0m\u001b[0my_train\u001b[0m\u001b[1;33m)\u001b[0m\u001b[1;33m\u001b[0m\u001b[0m\n",
      "\u001b[0;31mNameError\u001b[0m: name 'model_tree' is not defined"
     ]
    }
   ],
   "source": [
    "model_tree=model_tree.DecisionTreeClassifier()\n",
    "model_tree=model_tree.fit(X_train,y_train)"
   ]
  },
  {
   "cell_type": "code",
   "execution_count": 22,
   "metadata": {
    "collapsed": true
   },
   "outputs": [],
   "source": [
    "model_tree=DecisionTreeClassifier()\n",
    "model_tree=model_tree.fit(X_train,y_train)"
   ]
  },
  {
   "cell_type": "code",
   "execution_count": 23,
   "metadata": {
    "collapsed": false
   },
   "outputs": [
    {
     "data": {
      "text/plain": [
       "0.98360655737704916"
      ]
     },
     "execution_count": 23,
     "metadata": {},
     "output_type": "execute_result"
    }
   ],
   "source": [
    "model_tree.score(X_train,y_train)"
   ]
  },
  {
   "cell_type": "code",
   "execution_count": 24,
   "metadata": {
    "collapsed": false
   },
   "outputs": [
    {
     "data": {
      "text/plain": [
       "0.64516129032258063"
      ]
     },
     "execution_count": 24,
     "metadata": {},
     "output_type": "execute_result"
    }
   ],
   "source": [
    "model_tree.score(X_test,y_test)"
   ]
  },
  {
   "cell_type": "code",
   "execution_count": 25,
   "metadata": {
    "collapsed": true
   },
   "outputs": [],
   "source": [
    "model_tree=DecisionTreeClassifier(max_depth=3)\n",
    "model_tree=model_tree.fit(X_train,y_train)"
   ]
  },
  {
   "cell_type": "code",
   "execution_count": 26,
   "metadata": {
    "collapsed": false
   },
   "outputs": [
    {
     "data": {
      "text/plain": [
       "0.80327868852459017"
      ]
     },
     "execution_count": 26,
     "metadata": {},
     "output_type": "execute_result"
    }
   ],
   "source": [
    "model_tree.score(X_train,y_train)"
   ]
  },
  {
   "cell_type": "code",
   "execution_count": 27,
   "metadata": {
    "collapsed": false
   },
   "outputs": [
    {
     "data": {
      "text/plain": [
       "0.70967741935483875"
      ]
     },
     "execution_count": 27,
     "metadata": {},
     "output_type": "execute_result"
    }
   ],
   "source": [
    "model_tree.score(X_test,y_test)"
   ]
  },
  {
   "cell_type": "code",
   "execution_count": 28,
   "metadata": {
    "collapsed": false
   },
   "outputs": [
    {
     "data": {
      "text/plain": [
       "0.80737704918032782"
      ]
     },
     "execution_count": 28,
     "metadata": {},
     "output_type": "execute_result"
    }
   ],
   "source": [
    "model_tree=DecisionTreeClassifier(max_depth=4)\n",
    "model_tree=model_tree.fit(X_train,y_train)\n",
    "model_tree.score(X_train,y_train)"
   ]
  },
  {
   "cell_type": "code",
   "execution_count": 29,
   "metadata": {
    "collapsed": false
   },
   "outputs": [
    {
     "data": {
      "text/plain": [
       "0.67741935483870963"
      ]
     },
     "execution_count": 29,
     "metadata": {},
     "output_type": "execute_result"
    }
   ],
   "source": [
    "model_tree.score(X_test,y_test)"
   ]
  },
  {
   "cell_type": "code",
   "execution_count": 30,
   "metadata": {
    "collapsed": false
   },
   "outputs": [
    {
     "data": {
      "text/plain": [
       "0.79098360655737709"
      ]
     },
     "execution_count": 30,
     "metadata": {},
     "output_type": "execute_result"
    }
   ],
   "source": [
    "model_tree=DecisionTreeClassifier(max_depth=2)\n",
    "model_tree=model_tree.fit(X_train,y_train)\n",
    "model_tree.score(X_train,y_train)"
   ]
  },
  {
   "cell_type": "code",
   "execution_count": 31,
   "metadata": {
    "collapsed": false
   },
   "outputs": [
    {
     "data": {
      "text/plain": [
       "0.72580645161290325"
      ]
     },
     "execution_count": 31,
     "metadata": {},
     "output_type": "execute_result"
    }
   ],
   "source": [
    "model_tree.score(X_test,y_test)"
   ]
  },
  {
   "cell_type": "code",
   "execution_count": 1,
   "metadata": {
    "collapsed": false
   },
   "outputs": [
    {
     "name": "stderr",
     "output_type": "stream",
     "text": [
      "C:\\Users\\Kabir\\Anaconda2\\lib\\site-packages\\sklearn\\cross_validation.py:44: DeprecationWarning: This module was deprecated in version 0.18 in favor of the model_selection module into which all the refactored classes and functions are moved. Also note that the interface of the new CV iterators are different from that of this module. This module will be removed in 0.20.\n",
      "  \"This module will be removed in 0.20.\", DeprecationWarning)\n"
     ]
    }
   ],
   "source": [
    "import numpy as np\n",
    "data=np.loadtxt('haberman1.txt')\n",
    "X=data[:,[0,1,2]]\n",
    "y=data[:,3]\n",
    "from sklearn.cross_validation import train_test_split\n",
    "X_train,X_test,y_train,y_test=train_test_split(X,y,test_size=0.2,random_state=42)"
   ]
  },
  {
   "cell_type": "code",
   "execution_count": 2,
   "metadata": {
    "collapsed": false
   },
   "outputs": [
    {
     "name": "stdout",
     "output_type": "stream",
     "text": [
      "0.762295081967\n",
      "0.709677419355\n"
     ]
    }
   ],
   "source": [
    "from sklearn.naive_bayes import GaussianNB\n",
    "clf = GaussianNB()\n",
    "clf = clf.fit(X_train,y_train)\n",
    "print clf.score(X_train,y_train)\n",
    "print clf.score(X_test,y_test)"
   ]
  },
  {
   "cell_type": "code",
   "execution_count": 3,
   "metadata": {
    "collapsed": false
   },
   "outputs": [
    {
     "name": "stdout",
     "output_type": "stream",
     "text": [
      "0.741803278689\n",
      "0.709677419355\n"
     ]
    }
   ],
   "source": [
    "from sklearn.naive_bayes import BernoulliNB\n",
    "clf = BernoulliNB()\n",
    "clf = clf.fit(X_train,y_train)\n",
    "print clf.score(X_train,y_train)\n",
    "print clf.score(X_test,y_test)"
   ]
  },
  {
   "cell_type": "code",
   "execution_count": 4,
   "metadata": {
    "collapsed": false
   },
   "outputs": [
    {
     "name": "stdout",
     "output_type": "stream",
     "text": [
      "0.983606557377\n",
      "0.645161290323\n"
     ]
    }
   ],
   "source": [
    "from sklearn.tree import DecisionTreeClassifier\n",
    "clftree = DecisionTreeClassifier()\n",
    "clftree = clftree.fit(X_train,y_train)\n",
    "print clftree.score(X_train,y_train)\n",
    "print clftree.score(X_test,y_test)"
   ]
  },
  {
   "cell_type": "code",
   "execution_count": 5,
   "metadata": {
    "collapsed": false
   },
   "outputs": [
    {
     "name": "stdout",
     "output_type": "stream",
     "text": [
      "0.80737704918\n",
      "0.677419354839\n"
     ]
    }
   ],
   "source": [
    "from sklearn.tree import DecisionTreeClassifier\n",
    "clftree = DecisionTreeClassifier(max_depth=4)\n",
    "clftree = clftree.fit(X_train,y_train)\n",
    "print clftree.score(X_train,y_train)\n",
    "print clftree.score(X_test,y_test)"
   ]
  },
  {
   "cell_type": "code",
   "execution_count": 6,
   "metadata": {
    "collapsed": false
   },
   "outputs": [
    {
     "name": "stdout",
     "output_type": "stream",
     "text": [
      "0.840163934426\n",
      "0.661290322581\n"
     ]
    }
   ],
   "source": [
    "from sklearn.tree import DecisionTreeClassifier\n",
    "clftree = DecisionTreeClassifier(max_depth=5)\n",
    "clftree = clftree.fit(X_train,y_train)\n",
    "print clftree.score(X_train,y_train)\n",
    "print clftree.score(X_test,y_test)"
   ]
  },
  {
   "cell_type": "code",
   "execution_count": 7,
   "metadata": {
    "collapsed": false
   },
   "outputs": [
    {
     "name": "stdout",
     "output_type": "stream",
     "text": [
      "0.803278688525\n",
      "0.709677419355\n"
     ]
    }
   ],
   "source": [
    "from sklearn.tree import DecisionTreeClassifier\n",
    "clftree = DecisionTreeClassifier(max_depth=3)\n",
    "clftree = clftree.fit(X_train,y_train)\n",
    "print clftree.score(X_train,y_train)\n",
    "print clftree.score(X_test,y_test)"
   ]
  },
  {
   "cell_type": "code",
   "execution_count": 8,
   "metadata": {
    "collapsed": false
   },
   "outputs": [
    {
     "name": "stdout",
     "output_type": "stream",
     "text": [
      "0.922131147541\n",
      "0.709677419355\n"
     ]
    }
   ],
   "source": [
    "from sklearn import svm\n",
    "model_svm=svm.SVC()\n",
    "model_svm=model_svm.fit(X_train,y_train)\n",
    "print model_svm.score(X_train,y_train)\n",
    "print model_svm.score(X_test,y_test)"
   ]
  },
  {
   "cell_type": "code",
   "execution_count": 9,
   "metadata": {
    "collapsed": false
   },
   "outputs": [
    {
     "data": {
      "text/plain": [
       "array([ 1.,  1.,  1.,  1.,  1.,  1.,  1.,  2.,  2.,  1.,  1.,  1.,  2.,\n",
       "        1.,  1.,  1.,  2.,  1.,  1.,  2.,  1.,  1.,  1.,  1.,  1.,  2.,\n",
       "        1.,  2.,  2.,  2.,  1.,  1.,  1.,  1.,  1.,  1.,  1.,  2.,  2.,\n",
       "        1.,  2.,  1.,  1.,  1.,  2.,  1.,  1.,  1.,  1.,  1.,  2.,  1.,\n",
       "        2.,  2.,  1.,  2.,  1.,  1.,  1.,  1.,  2.,  1.])"
      ]
     },
     "execution_count": 9,
     "metadata": {},
     "output_type": "execute_result"
    }
   ],
   "source": [
    "y_test"
   ]
  },
  {
   "cell_type": "code",
   "execution_count": 1,
   "metadata": {
    "collapsed": false
   },
   "outputs": [
    {
     "name": "stdout",
     "output_type": "stream",
     "text": [
      "Train Accuracy for Decision tree model1 1.0\n",
      "Test Accuracy for Decision tree model1 1.0\n",
      "Train Accuracy for Decision tree model2 1.0\n",
      "Test Accuracy for Decision tree model2 1.0\n",
      "Train Accuracy for svm model 0.872340425532\n",
      "Test Accuracy for svm model 0.797872340426\n",
      "Train Accuracy for bernoulli naive bayes model 1.0\n",
      "Test Accuracy for bernoulli naive bayes model 1.0\n",
      "Train Accuracy for random forest model 1.0\n",
      "Test Accuracy for random forest model 1.0\n",
      "Precision based on Decision tree model2 1.0\n",
      "Recall based on Decision tree model2 1.0\n",
      "Fscore based on Decision tree model2 1.0\n",
      "Precision based on RandomForestClassifier 1.0\n",
      "Recall based on RandomForestClassifier 1.0\n",
      "Fscore based on RandomForestClassifier 1.0\n"
     ]
    }
   ],
   "source": [
    "import pandas as pd\n",
    "frame = pd.read_csv('thoracic_data.csv')\n",
    "data_dict = frame.T.to_dict().values()\n",
    "from sklearn.feature_extraction import DictVectorizer\n",
    "vec = DictVectorizer()\n",
    "data = vec.fit_transform(data_dict).toarray()\n",
    "X = data[:,0:len(data[0])-1]\n",
    "y = data[:,len(data[0])-1]\n",
    "from sklearn.cross_validation import train_test_split\n",
    "#splitting the data into train(80%) and split(20%)\n",
    "X_train,X_test,y_train,y_test = train_test_split(X,y,test_size=0.2,random_state=42)\n",
    "#Applying decision tree algorithm on our data(without setting minimum depth)\n",
    "from sklearn.tree import DecisionTreeClassifier\n",
    "model_tree = DecisionTreeClassifier(random_state = 42)\n",
    "model_tree = model_tree.fit(X_train,y_train)\n",
    "print \"Train Accuracy for Decision tree model1\",model_tree.score(X_train,y_train)\n",
    "print \"Test Accuracy for Decision tree model1\",model_tree.score(X_test,y_test)\n",
    "#Applying decision tree algorithm on our data with maximum depth of tree being 7\n",
    "model_tree1 = DecisionTreeClassifier(max_depth=7,random_state=42)\n",
    "model_tree1 = model_tree1.fit(X_train,y_train)\n",
    "print \"Train Accuracy for Decision tree model2\",model_tree1.score(X_train,y_train)\n",
    "print \"Test Accuracy for Decision tree model2\",model_tree1.score(X_test,y_test)\n",
    "#Applying SVM on our data\n",
    "from sklearn import svm\n",
    "model_svm = svm.SVC()\n",
    "model_svm = model_svm.fit(X_train,y_train)\n",
    "print \"Train Accuracy for svm model\",model_svm.score(X_train,y_train)\n",
    "print \"Test Accuracy for svm model\",model_svm.score(X_test,y_test)\n",
    "#Applying Bernoulli Naive bayes algorithm on our data\n",
    "from sklearn.naive_bayes import BernoulliNB\n",
    "model_bnb = BernoulliNB()\n",
    "model_bnb = model_bnb.fit(X_train,y_train)\n",
    "print \"Train Accuracy for bernoulli naive bayes model\",model_bnb.score(X_train,y_train)\n",
    "print \"Test Accuracy for bernoulli naive bayes model\",model_bnb.score(X_test,y_test)\n",
    "#Applying Random Forest Algorithm on our data with maximum depth of each tree being 7\n",
    "from sklearn.ensemble import RandomForestClassifier\n",
    "model_forest = RandomForestClassifier(max_depth=7,random_state=42)\n",
    "model_forest = model_forest.fit(X_train,y_train)\n",
    "print \"Train Accuracy for random forest model\",model_forest.score(X_train,y_train)\n",
    "print \"Test Accuracy for random forest model\",model_forest.score(X_test,y_test)\n",
    "from sklearn.metrics import precision_score\n",
    "from sklearn.metrics import recall_score\n",
    "from sklearn.metrics import f1_score\n",
    "#Calculating precision,recall and F score of the decision tree model(one with the max depth 7) \n",
    "print \"Precision based on Decision tree model2\",precision_score(y_test,model_tree1.predict(X_test))\n",
    "print \"Recall based on Decision tree model2\",recall_score(y_test,model_tree1.predict(X_test))\n",
    "print \"Fscore based on Decision tree model2\",f1_score(y_test,model_tree1.predict(X_test))\n",
    "#Calculating precision,recall and F score of the random forest model(one with the max depth 7) \n",
    "print \"Precision based on RandomForestClassifier\",precision_score(y_test,model_forest.predict(X_test))\n",
    "print \"Recall based on RandomForestClassifier\",recall_score(y_test,model_forest.predict(X_test))\n",
    "print \"Fscore based on RandomForestClassifier\",f1_score(y_test,model_forest.predict(X_test))"
   ]
  },
  {
   "cell_type": "code",
   "execution_count": 2,
   "metadata": {
    "collapsed": false
   },
   "outputs": [
    {
     "data": {
      "image/png": "[encoded data removed]",
      "text/plain": [
       "<matplotlib.figure.Figure at 0xab30358>"
      ]
     },
     "metadata": {},
     "output_type": "display_data"
    }
   ],
   "source": [
    "from sklearn.decomposition import PCA\n",
    "pca = PCA(n_components=2)\n",
    "X_red = pca.fit(X)\n",
    "X_red = pca.transform(X)\n",
    "import matplotlib.pyplot as plt\n",
    "x1 = []\n",
    "x2 = []\n",
    "x11 = []\n",
    "x21 = []\n",
    "for i in range(len(y)):\n",
    "    if y[i] == 0:\n",
    "        x1.append(X_red[i][0])\n",
    "        x2.append(X_red[i][1])\n",
    "    else:\n",
    "        x11.append(X_red[i][0])\n",
    "        x21.append(X_red[i][1])\n",
    "\n",
    "plt.scatter(x1,x2,label = 'Safe',color = 'k')\n",
    "plt.scatter(x11,x21,label = 'Risk',color = 'r')\n",
    "plt.xlabel('x1')\n",
    "plt.ylabel('x2')\n",
    "plt.title('Thoracic Surgery')\n",
    "plt.legend()\n",
    "plt.show()"
   ]
  },
  {
   "cell_type": "code",
   "execution_count": 3,
   "metadata": {
    "collapsed": false
   },
   "outputs": [
    {
     "data": {
      "text/plain": [
       "[1.9264245391339549,\n",
       " 0.55102475373485471,\n",
       " 1.8227489134282895,\n",
       " -0.054882336337410589,\n",
       " 0.57098020833226182,\n",
       " 2.8972276100832866,\n",
       " 0.84453288209477906,\n",
       " 1.7429614776631552,\n",
       " -0.69797635974069805,\n",
       " 3.1764707600275321,\n",
       " 5.7422869426860981,\n",
       " 0.30600803322954884,\n",
       " 1.4500892592463934,\n",
       " 2.5598274874608138,\n",
       " 4.1987684066902631,\n",
       " 3.5732555867660265,\n",
       " -1.0281372792902634,\n",
       " 1.5876779264515057,\n",
       " 2.7371868580244949,\n",
       " 2.1031241395868783,\n",
       " -68.126208441658605,\n",
       " 1.017158190541507,\n",
       " 0.68668703726378044,\n",
       " 0.97439744815061768,\n",
       " -0.8346474086333735,\n",
       " 4.2689376362222102,\n",
       " 4.1120096683079925,\n",
       " 4.7603056444424965,\n",
       " 2.096631733321519,\n",
       " 4.1058577156017515,\n",
       " 1.7916286280875553,\n",
       " 0.27078103711679136,\n",
       " -0.86560085941012122,\n",
       " 2.7137655731247095,\n",
       " 1.4002632091167273,\n",
       " 1.9846830926520798,\n",
       " 2.0759979468459906,\n",
       " 0.79294229691911755,\n",
       " -0.74678569970935726,\n",
       " 5.5401448447574202,\n",
       " 2.8331874356656379,\n",
       " 2.9833744790029892,\n",
       " 4.264757057904764,\n",
       " 1.5537247575576769,\n",
       " 2.6209411987128872,\n",
       " -2.9548169507150162,\n",
       " 0.16210901849588005,\n",
       " 0.0017477656792869924,\n",
       " 5.1089938003956412,\n",
       " -0.24458205718799622,\n",
       " 0.32343310557176586,\n",
       " 1.1407410946798464,\n",
       " 0.39967016380906922,\n",
       " -1.7307118420740402,\n",
       " 2.0634399386003297,\n",
       " 4.0729560539382748,\n",
       " 0.085865741655714589,\n",
       " 3.4706053192505331,\n",
       " 1.694255735277894,\n",
       " -4.0951837806067202,\n",
       " -0.088470079600481769,\n",
       " 3.8839205672818342,\n",
       " 1.5510064315263969,\n",
       " 5.16037203216972,\n",
       " 0.84857800445698162,\n",
       " 2.2195766969773092,\n",
       " 2.9721929573044785,\n",
       " 2.0825518353874362,\n",
       " -0.83040265307861294,\n",
       " 1.0055126392718021,\n",
       " -1.5566855936559587,\n",
       " 3.3249541983462341,\n",
       " 5.1982771333228293,\n",
       " -58.571995654371854,\n",
       " 4.9658648993667081,\n",
       " 4.4274044936785213,\n",
       " -2.6307909574097845,\n",
       " 7.5087958150916148,\n",
       " -0.58333331381075981,\n",
       " 4.5670040768597451,\n",
       " -63.229877300842766,\n",
       " 3.5841561645581712,\n",
       " 4.6113104391574939,\n",
       " 3.7341152124825432,\n",
       " 2.2507761461022917,\n",
       " 0.9298354721072849,\n",
       " -0.56938768297616427,\n",
       " 1.1005026583842514,\n",
       " 0.40289253334433056,\n",
       " 1.6498156856276383,\n",
       " 4.2374223271561577,\n",
       " -1.018446803070024,\n",
       " 1.123740266115683,\n",
       " -59.017515087138761,\n",
       " -0.84657563003821801,\n",
       " 0.400814764772149,\n",
       " 4.1910179323865409,\n",
       " 0.66067848472787749,\n",
       " 0.97326901565341795,\n",
       " 5.1865251657387645,\n",
       " 1.3343777832404673,\n",
       " 3.8530976842381488,\n",
       " 5.5549072156867147,\n",
       " 2.76722451187478,\n",
       " 4.1825732835630838,\n",
       " 4.1025684169461929,\n",
       " 1.7643819985310065,\n",
       " -3.2385540475366725,\n",
       " 1.7643677209705451,\n",
       " 4.8704758458698922,\n",
       " 3.1577008136031841,\n",
       " -0.10828455821190335,\n",
       " 2.3466928575892676,\n",
       " -0.073045288430118011,\n",
       " 1.4614463657501073,\n",
       " -0.49137400437871326,\n",
       " 3.0550525624154288,\n",
       " 3.1920397945972185,\n",
       " -2.5537247386308599,\n",
       " 3.4091148704191885,\n",
       " 1.1291747951836779,\n",
       " 2.8103005834721988,\n",
       " 3.3249677373286168,\n",
       " 3.8526799955199826,\n",
       " 3.6921052068520996,\n",
       " 1.0960145024854671,\n",
       " 4.218351290564903,\n",
       " 2.3011334125687828,\n",
       " 2.84017231993584,\n",
       " 3.0146278633123242,\n",
       " 2.4800721360304134,\n",
       " 1.9459918465611208,\n",
       " 2.0190170713429119,\n",
       " 5.0557351056297479,\n",
       " 0.9857583568649767,\n",
       " 3.0528036599113952,\n",
       " 4.4548729949194907,\n",
       " 1.3220000623444588,\n",
       " 0.77250836696644154,\n",
       " 2.3245124188210053,\n",
       " 6.152901740563645,\n",
       " 1.2657240387825892,\n",
       " 3.2730898793334942,\n",
       " 2.2208494863279835,\n",
       " 1.8684577939588791,\n",
       " 3.4005677701586019,\n",
       " -0.075300807967572339,\n",
       " 1.5830200780711525,\n",
       " -2.3728661145063534,\n",
       " 1.7282516621311841,\n",
       " 1.3969237387322164,\n",
       " -0.15850654310494613,\n",
       " 2.4471310611716617,\n",
       " 0.020380746751073906,\n",
       " 1.6167578172874681,\n",
       " 2.6528206083723753,\n",
       " 2.7901627996452474,\n",
       " 4.9961313538294894,\n",
       " 0.35315150964997949,\n",
       " 2.6737298592927918,\n",
       " -0.3866523272043203,\n",
       " -0.54604666388842138,\n",
       " 0.91043282041070472,\n",
       " 1.4420145610484314,\n",
       " 3.5249116416529747,\n",
       " 4.6052574416258469,\n",
       " 1.4618640544682735,\n",
       " 0.16322389419178979,\n",
       " 0.41578389018086104,\n",
       " -0.55811822948408174,\n",
       " 4.2319372528149231,\n",
       " 3.0198720923420224,\n",
       " 0.64909193919091079,\n",
       " 3.2435086349213123,\n",
       " 2.6363343150871339,\n",
       " -2.0892800897483523,\n",
       " 1.5730921171286301,\n",
       " 0.12284159151312771,\n",
       " -4.1999874269854089,\n",
       " 2.3717358151033641,\n",
       " 3.3827205840787427,\n",
       " 2.9972318942561755,\n",
       " 3.5667722960675592,\n",
       " 1.6785071279545185,\n",
       " -0.41069585610103621,\n",
       " 1.5759004030622745,\n",
       " -1.7322179748196269,\n",
       " 2.2651075954303668,\n",
       " 2.5546627085658886,\n",
       " 3.1323078291007493,\n",
       " -0.85100566449991843,\n",
       " 0.84152089384636619,\n",
       " 4.1237925949814258,\n",
       " 1.7196545815836548,\n",
       " 3.5889939406204707,\n",
       " 0.82011806137983811,\n",
       " 4.8061258200738148,\n",
       " 3.0625253453593242,\n",
       " 2.4870771887194394,\n",
       " 1.2524283779442795,\n",
       " -2.1688023039698261,\n",
       " 0.90720669551225619,\n",
       " 0.38988225221439421,\n",
       " 1.2026782386830359,\n",
       " -0.019975999138355537,\n",
       " 0.7749992155649239,\n",
       " 4.622065302909764,\n",
       " 2.7106329077384634,\n",
       " 1.6907292964820211,\n",
       " 1.8998222842948502,\n",
       " 0.92852680183183434,\n",
       " -75.865751600580367,\n",
       " 1.4781281789752823,\n",
       " 0.66415273038236844,\n",
       " 1.0583289991778038,\n",
       " 0.82219955096533615,\n",
       " 5.1142044448850692,\n",
       " 2.1597968233604723,\n",
       " 2.987998079654246,\n",
       " 2.8827737719145401,\n",
       " 1.727795906945762,\n",
       " 3.4124335933103835,\n",
       " 1.7175983895589284,\n",
       " 2.7927129834858508,\n",
       " 4.063159269523414,\n",
       " 5.5106150681531263,\n",
       " 3.5367510815427239,\n",
       " 3.6141329453598652,\n",
       " 3.3013260962809694,\n",
       " 3.0717854415150123,\n",
       " -1.3639481228146384,\n",
       " 0.13668026789289611,\n",
       " 3.4366395696662417,\n",
       " 0.93615028043979109,\n",
       " 3.0973531300057697,\n",
       " 3.1090399564954163,\n",
       " 1.9625033621180137,\n",
       " 5.018102240004473,\n",
       " -0.76471454819371276,\n",
       " 2.4229217354526034,\n",
       " 2.2050672104933779,\n",
       " 4.2466873374297007,\n",
       " 1.8405207662540355,\n",
       " 5.2029877926693304,\n",
       " 1.6252849049644367,\n",
       " 3.1917604582806223,\n",
       " 2.6999701525058488,\n",
       " 2.3879167484277106,\n",
       " 4.4305098676406107,\n",
       " 1.7742586933753099,\n",
       " 1.7722490665298896,\n",
       " 2.2696678720807135,\n",
       " 1.9203882409257453,\n",
       " -0.91661209354268292,\n",
       " 3.4895209071791338,\n",
       " 1.2235382812188786,\n",
       " 2.3037953070347164,\n",
       " 5.5727937277939459,\n",
       " 1.68420837901555,\n",
       " 2.790972306955823,\n",
       " 4.0414160831572756,\n",
       " 4.6926542962277837,\n",
       " 0.59833352292541908,\n",
       " 0.89767517897248594,\n",
       " 5.1988885812917616,\n",
       " 2.8444799128267082,\n",
       " -63.563552542809987,\n",
       " -1.8822050136524324,\n",
       " 2.4494283491215754,\n",
       " 2.970646506622046,\n",
       " -1.9368895949330418,\n",
       " -77.949621565120353,\n",
       " 4.2784077956787572,\n",
       " 3.9640974609405801,\n",
       " 2.4147585743145794,\n",
       " 5.2761340282162887,\n",
       " -70.543162195439052,\n",
       " 1.6779327623650457,\n",
       " 1.9610414516044321,\n",
       " 4.2348794265460432,\n",
       " 3.0018322363596961,\n",
       " 4.1975192393031122,\n",
       " 3.1065912837860328,\n",
       " 1.7147647109392958,\n",
       " 1.8981424138552934,\n",
       " 4.8282865149337573,\n",
       " 5.7304832447043896,\n",
       " 1.6550639905930327,\n",
       " 1.6949629525368992,\n",
       " 3.1750714493226759,\n",
       " 0.88530300382604665,\n",
       " 0.46998789560111209,\n",
       " -79.588540583459292,\n",
       " 4.5723691155854986,\n",
       " -68.073751917793217,\n",
       " -48.310854645799317,\n",
       " 0.57900934748963229,\n",
       " -0.007228937119152591,\n",
       " 0.73406225477524023,\n",
       " 2.583197880012754,\n",
       " 2.6520228096669611,\n",
       " 1.0605380444237555,\n",
       " -0.29604773738971119,\n",
       " 2.2901992877170891,\n",
       " 1.6419800238980764,\n",
       " 2.9815782332541909,\n",
       " 2.2468811870841225,\n",
       " 4.4290838965375192,\n",
       " 0.73305717390721259,\n",
       " 1.7213126162472945,\n",
       " 1.3891659520946251,\n",
       " -0.83756772061803519,\n",
       " 2.542603461781614,\n",
       " 3.5473882263833292,\n",
       " 2.7658532286202284,\n",
       " 0.82283156272541935,\n",
       " 2.7219081069070619,\n",
       " 1.2717705108753934,\n",
       " 4.7444824213839611,\n",
       " 1.5896583876446717,\n",
       " -1.4219946252467368,\n",
       " 3.3394672229295135,\n",
       " 0.93213276005719858,\n",
       " 2.6109507014305251,\n",
       " 4.2860208425811122,\n",
       " 0.38955665393917166,\n",
       " 4.2977573712706407,\n",
       " -0.75138318583297914,\n",
       " 4.5088635960858268,\n",
       " 2.1636787153466845,\n",
       " 2.9252014175656895,\n",
       " 1.2714572119583154,\n",
       " -1.2397283437790576,\n",
       " 1.1473750541095658,\n",
       " -5.0603286540363897,\n",
       " 0.61464707831522303,\n",
       " 3.9169245017617396,\n",
       " 3.0822881329618417,\n",
       " 2.6301259267556714,\n",
       " 2.885045715046036,\n",
       " 0.61924742041874237,\n",
       " 0.61500877998779868,\n",
       " 0.48938310732124551,\n",
       " 0.45199656626553497,\n",
       " 3.2400698135823482,\n",
       " 1.6629538458272013,\n",
       " 1.7346386421666795,\n",
       " -0.78170598711648709,\n",
       " 0.81912717738331886,\n",
       " 1.9841174998482651,\n",
       " 4.5096794446833792,\n",
       " 2.209130272059407,\n",
       " 4.7596087250734858,\n",
       " -1.6274232011278553,\n",
       " 3.8024965804204847,\n",
       " 3.7063985845799561,\n",
       " 0.038684493779472834,\n",
       " 1.3943925603071543,\n",
       " -0.98533538427955103,\n",
       " 3.6962931646068151,\n",
       " 2.3274296836853727,\n",
       " 3.7317839726766255,\n",
       " 1.9262183928913235,\n",
       " 2.5147111252060759,\n",
       " 3.8592166060689559,\n",
       " 2.4363169805411249,\n",
       " 1.2636528911326188,\n",
       " 1.3199404780059625,\n",
       " -0.32218517411373049,\n",
       " -2.7148288532607761,\n",
       " -71.340881584978902,\n",
       " 1.4027948977366824,\n",
       " 2.5544538642068053,\n",
       " 0.7880856261794621,\n",
       " 1.9955988668275155,\n",
       " 3.7774400971281694,\n",
       " -57.666056849914476,\n",
       " 2.8392369680737142,\n",
       " -2.0123179366659536,\n",
       " -1.0601446800638821,\n",
       " 3.4458930807964943,\n",
       " 5.4622614427127605,\n",
       " 1.539989675847069,\n",
       " 3.6412727768445885,\n",
       " 3.932821966567404,\n",
       " 3.1156419898481649,\n",
       " 3.9573768451772802,\n",
       " 3.1895920661743049,\n",
       " 1.0619608971170391,\n",
       " -1.4381708559699071,\n",
       " 1.9953780384879667,\n",
       " -0.59336947497358927,\n",
       " 4.6628454135368376,\n",
       " 4.9010463802331321,\n",
       " 5.3551951028744798,\n",
       " 2.4937490032210325,\n",
       " 1.135577401700389,\n",
       " 0.55014329500388104,\n",
       " 5.8324513953720611,\n",
       " -1.1080665072112561]"
      ]
     },
     "execution_count": 3,
     "metadata": {},
     "output_type": "execute_result"
    }
   ],
   "source": [
    "x1"
   ]
  },
  {
   "cell_type": "code",
   "execution_count": 4,
   "metadata": {
    "collapsed": true
   },
   "outputs": [],
   "source": [
    "from sklearn.decomposition import PCA\n",
    "pca = PCA(n_components=3)\n",
    "X_red = pca.fit(X)\n",
    "X_red = pca.transform(X)\n",
    "import matplotlib.pyplot as plt"
   ]
  },
  {
   "cell_type": "code",
   "execution_count": 5,
   "metadata": {
    "collapsed": true
   },
   "outputs": [],
   "source": [
    "x1 = []\n",
    "x2 = []\n",
    "x3 = []\n",
    "x11 = []\n",
    "x21 = []\n",
    "x31 = []\n",
    "for i in range(len(y)):\n",
    "    if y[i] == 0:\n",
    "        x1.append(X_red[i][0])\n",
    "        x2.append(X_red[i][1])\n",
    "        x3.append(X_red[i][2])\n",
    "    else:\n",
    "        x11.append(X_red[i][0])\n",
    "        x21.append(X_red[i][1])\n",
    "        x31.append(X_red[i][2])"
   ]
  },
  {
   "cell_type": "code",
   "execution_count": 6,
   "metadata": {
    "collapsed": false
   },
   "outputs": [
    {
     "data": {
      "text/plain": [
       "array([[  1.92642454,  -2.89832404,  -0.95871521],\n",
       "       [  0.55102475, -11.84014512,   0.87890989],\n",
       "       [  1.82274891,  -3.91443367,  -0.79598438],\n",
       "       ..., \n",
       "       [  0.5501433 , -10.80243591,  -0.68309723],\n",
       "       [  5.8324514 ,  15.72132896,  -0.94615294],\n",
       "       [ -1.10806651, -11.57493563,   1.55482242]])"
      ]
     },
     "execution_count": 6,
     "metadata": {},
     "output_type": "execute_result"
    }
   ],
   "source": [
    "X_red"
   ]
  },
  {
   "cell_type": "code",
   "execution_count": 7,
   "metadata": {
    "collapsed": false
   },
   "outputs": [
    {
     "data": {
      "text/plain": [
       "[1.9264245391339549,\n",
       " 0.55102475373485471,\n",
       " 1.8227489134282895,\n",
       " -0.054882336337410589,\n",
       " 0.57098020833226182,\n",
       " 2.8972276100832866,\n",
       " 0.84453288209477906,\n",
       " 1.7429614776631552,\n",
       " -0.69797635974069805,\n",
       " 3.1764707600275321,\n",
       " 5.7422869426860981,\n",
       " 0.30600803322954884,\n",
       " 1.4500892592463934,\n",
       " 2.5598274874608138,\n",
       " 4.1987684066902631,\n",
       " 3.5732555867660265,\n",
       " -1.0281372792902634,\n",
       " 1.5876779264515057,\n",
       " 2.7371868580244949,\n",
       " 2.1031241395868783,\n",
       " -68.126208441658605,\n",
       " 1.017158190541507,\n",
       " 0.68668703726378044,\n",
       " 0.97439744815061768,\n",
       " -0.8346474086333735,\n",
       " 4.2689376362222102,\n",
       " 4.1120096683079925,\n",
       " 4.7603056444424965,\n",
       " 2.096631733321519,\n",
       " 4.1058577156017515,\n",
       " 1.7916286280875553,\n",
       " 0.27078103711679136,\n",
       " -0.86560085941012122,\n",
       " 2.7137655731247095,\n",
       " 1.4002632091167273,\n",
       " 1.9846830926520798,\n",
       " 2.0759979468459906,\n",
       " 0.79294229691911755,\n",
       " -0.74678569970935726,\n",
       " 5.5401448447574202,\n",
       " 2.8331874356656379,\n",
       " 2.9833744790029892,\n",
       " 4.264757057904764,\n",
       " 1.5537247575576769,\n",
       " 2.6209411987128872,\n",
       " -2.9548169507150162,\n",
       " 0.16210901849588005,\n",
       " 0.0017477656792869924,\n",
       " 5.1089938003956412,\n",
       " -0.24458205718799622,\n",
       " 0.32343310557176586,\n",
       " 1.1407410946798464,\n",
       " 0.39967016380906922,\n",
       " -1.7307118420740402,\n",
       " 2.0634399386003297,\n",
       " 4.0729560539382748,\n",
       " 0.085865741655714589,\n",
       " 3.4706053192505331,\n",
       " 1.694255735277894,\n",
       " -4.0951837806067202,\n",
       " -0.088470079600481769,\n",
       " 3.8839205672818342,\n",
       " 1.5510064315263969,\n",
       " 5.16037203216972,\n",
       " 0.84857800445698162,\n",
       " 2.2195766969773092,\n",
       " 2.9721929573044785,\n",
       " 2.0825518353874362,\n",
       " -0.83040265307861294,\n",
       " 1.0055126392718021,\n",
       " -1.5566855936559587,\n",
       " 3.3249541983462341,\n",
       " 5.1982771333228293,\n",
       " -58.571995654371854,\n",
       " 4.9658648993667081,\n",
       " 4.4274044936785213,\n",
       " -2.6307909574097845,\n",
       " 7.5087958150916148,\n",
       " -0.58333331381075981,\n",
       " 4.5670040768597451,\n",
       " -63.229877300842766,\n",
       " 3.5841561645581712,\n",
       " 4.6113104391574939,\n",
       " 3.7341152124825432,\n",
       " 2.2507761461022917,\n",
       " 0.9298354721072849,\n",
       " -0.56938768297616427,\n",
       " 1.1005026583842514,\n",
       " 0.40289253334433056,\n",
       " 1.6498156856276383,\n",
       " 4.2374223271561577,\n",
       " -1.018446803070024,\n",
       " 1.123740266115683,\n",
       " -59.017515087138761,\n",
       " -0.84657563003821801,\n",
       " 0.400814764772149,\n",
       " 4.1910179323865409,\n",
       " 0.66067848472787749,\n",
       " 0.97326901565341795,\n",
       " 5.1865251657387645,\n",
       " 1.3343777832404673,\n",
       " 3.8530976842381488,\n",
       " 5.5549072156867147,\n",
       " 2.76722451187478,\n",
       " 4.1825732835630838,\n",
       " 4.1025684169461929,\n",
       " 1.7643819985310065,\n",
       " -3.2385540475366725,\n",
       " 1.7643677209705451,\n",
       " 4.8704758458698922,\n",
       " 3.1577008136031841,\n",
       " -0.10828455821190335,\n",
       " 2.3466928575892676,\n",
       " -0.073045288430118011,\n",
       " 1.4614463657501073,\n",
       " -0.49137400437871326,\n",
       " 3.0550525624154288,\n",
       " 3.1920397945972185,\n",
       " -2.5537247386308599,\n",
       " 3.4091148704191885,\n",
       " 1.1291747951836779,\n",
       " 2.8103005834721988,\n",
       " 3.3249677373286168,\n",
       " 3.8526799955199826,\n",
       " 3.6921052068520996,\n",
       " 1.0960145024854671,\n",
       " 4.218351290564903,\n",
       " 2.3011334125687828,\n",
       " 2.84017231993584,\n",
       " 3.0146278633123242,\n",
       " 2.4800721360304134,\n",
       " 1.9459918465611208,\n",
       " 2.0190170713429119,\n",
       " 5.0557351056297479,\n",
       " 0.9857583568649767,\n",
       " 3.0528036599113952,\n",
       " 4.4548729949194907,\n",
       " 1.3220000623444588,\n",
       " 0.77250836696644154,\n",
       " 2.3245124188210053,\n",
       " 6.152901740563645,\n",
       " 1.2657240387825892,\n",
       " 3.2730898793334942,\n",
       " 2.2208494863279835,\n",
       " 1.8684577939588791,\n",
       " 3.4005677701586019,\n",
       " -0.075300807967572339,\n",
       " 1.5830200780711525,\n",
       " -2.3728661145063534,\n",
       " 1.7282516621311841,\n",
       " 1.3969237387322164,\n",
       " -0.15850654310494613,\n",
       " 2.4471310611716617,\n",
       " 0.020380746751073906,\n",
       " 1.6167578172874681,\n",
       " 2.6528206083723753,\n",
       " 2.7901627996452474,\n",
       " 4.9961313538294894,\n",
       " 0.35315150964997949,\n",
       " 2.6737298592927918,\n",
       " -0.3866523272043203,\n",
       " -0.54604666388842138,\n",
       " 0.91043282041070472,\n",
       " 1.4420145610484314,\n",
       " 3.5249116416529747,\n",
       " 4.6052574416258469,\n",
       " 1.4618640544682735,\n",
       " 0.16322389419178979,\n",
       " 0.41578389018086104,\n",
       " -0.55811822948408174,\n",
       " 4.2319372528149231,\n",
       " 3.0198720923420224,\n",
       " 0.64909193919091079,\n",
       " 3.2435086349213123,\n",
       " 2.6363343150871339,\n",
       " -2.0892800897483523,\n",
       " 1.5730921171286301,\n",
       " 0.12284159151312771,\n",
       " -4.1999874269854089,\n",
       " 2.3717358151033641,\n",
       " 3.3827205840787427,\n",
       " 2.9972318942561755,\n",
       " 3.5667722960675592,\n",
       " 1.6785071279545185,\n",
       " -0.41069585610103621,\n",
       " 1.5759004030622745,\n",
       " -1.7322179748196269,\n",
       " 2.2651075954303668,\n",
       " 2.5546627085658886,\n",
       " 3.1323078291007493,\n",
       " -0.85100566449991843,\n",
       " 0.84152089384636619,\n",
       " 4.1237925949814258,\n",
       " 1.7196545815836548,\n",
       " 3.5889939406204707,\n",
       " 0.82011806137983811,\n",
       " 4.8061258200738148,\n",
       " 3.0625253453593242,\n",
       " 2.4870771887194394,\n",
       " 1.2524283779442795,\n",
       " -2.1688023039698261,\n",
       " 0.90720669551225619,\n",
       " 0.38988225221439421,\n",
       " 1.2026782386830359,\n",
       " -0.019975999138355537,\n",
       " 0.7749992155649239,\n",
       " 4.622065302909764,\n",
       " 2.7106329077384634,\n",
       " 1.6907292964820211,\n",
       " 1.8998222842948502,\n",
       " 0.92852680183183434,\n",
       " -75.865751600580367,\n",
       " 1.4781281789752823,\n",
       " 0.66415273038236844,\n",
       " 1.0583289991778038,\n",
       " 0.82219955096533615,\n",
       " 5.1142044448850692,\n",
       " 2.1597968233604723,\n",
       " 2.987998079654246,\n",
       " 2.8827737719145401,\n",
       " 1.727795906945762,\n",
       " 3.4124335933103835,\n",
       " 1.7175983895589284,\n",
       " 2.7927129834858508,\n",
       " 4.063159269523414,\n",
       " 5.5106150681531263,\n",
       " 3.5367510815427239,\n",
       " 3.6141329453598652,\n",
       " 3.3013260962809694,\n",
       " 3.0717854415150123,\n",
       " -1.3639481228146384,\n",
       " 0.13668026789289611,\n",
       " 3.4366395696662417,\n",
       " 0.93615028043979109,\n",
       " 3.0973531300057697,\n",
       " 3.1090399564954163,\n",
       " 1.9625033621180137,\n",
       " 5.018102240004473,\n",
       " -0.76471454819371276,\n",
       " 2.4229217354526034,\n",
       " 2.2050672104933779,\n",
       " 4.2466873374297007,\n",
       " 1.8405207662540355,\n",
       " 5.2029877926693304,\n",
       " 1.6252849049644367,\n",
       " 3.1917604582806223,\n",
       " 2.6999701525058488,\n",
       " 2.3879167484277106,\n",
       " 4.4305098676406107,\n",
       " 1.7742586933753099,\n",
       " 1.7722490665298896,\n",
       " 2.2696678720807135,\n",
       " 1.9203882409257453,\n",
       " -0.91661209354268292,\n",
       " 3.4895209071791338,\n",
       " 1.2235382812188786,\n",
       " 2.3037953070347164,\n",
       " 5.5727937277939459,\n",
       " 1.68420837901555,\n",
       " 2.790972306955823,\n",
       " 4.0414160831572756,\n",
       " 4.6926542962277837,\n",
       " 0.59833352292541908,\n",
       " 0.89767517897248594,\n",
       " 5.1988885812917616,\n",
       " 2.8444799128267082,\n",
       " -63.563552542809987,\n",
       " -1.8822050136524324,\n",
       " 2.4494283491215754,\n",
       " 2.970646506622046,\n",
       " -1.9368895949330418,\n",
       " -77.949621565120353,\n",
       " 4.2784077956787572,\n",
       " 3.9640974609405801,\n",
       " 2.4147585743145794,\n",
       " 5.2761340282162887,\n",
       " -70.543162195439052,\n",
       " 1.6779327623650457,\n",
       " 1.9610414516044321,\n",
       " 4.2348794265460432,\n",
       " 3.0018322363596961,\n",
       " 4.1975192393031122,\n",
       " 3.1065912837860328,\n",
       " 1.7147647109392958,\n",
       " 1.8981424138552934,\n",
       " 4.8282865149337573,\n",
       " 5.7304832447043896,\n",
       " 1.6550639905930327,\n",
       " 1.6949629525368992,\n",
       " 3.1750714493226759,\n",
       " 0.88530300382604665,\n",
       " 0.46998789560111209,\n",
       " -79.588540583459292,\n",
       " 4.5723691155854986,\n",
       " -68.073751917793217,\n",
       " -48.310854645799317,\n",
       " 0.57900934748963229,\n",
       " -0.007228937119152591,\n",
       " 0.73406225477524023,\n",
       " 2.583197880012754,\n",
       " 2.6520228096669611,\n",
       " 1.0605380444237555,\n",
       " -0.29604773738971119,\n",
       " 2.2901992877170891,\n",
       " 1.6419800238980764,\n",
       " 2.9815782332541909,\n",
       " 2.2468811870841225,\n",
       " 4.4290838965375192,\n",
       " 0.73305717390721259,\n",
       " 1.7213126162472945,\n",
       " 1.3891659520946251,\n",
       " -0.83756772061803519,\n",
       " 2.542603461781614,\n",
       " 3.5473882263833292,\n",
       " 2.7658532286202284,\n",
       " 0.82283156272541935,\n",
       " 2.7219081069070619,\n",
       " 1.2717705108753934,\n",
       " 4.7444824213839611,\n",
       " 1.5896583876446717,\n",
       " -1.4219946252467368,\n",
       " 3.3394672229295135,\n",
       " 0.93213276005719858,\n",
       " 2.6109507014305251,\n",
       " 4.2860208425811122,\n",
       " 0.38955665393917166,\n",
       " 4.2977573712706407,\n",
       " -0.75138318583297914,\n",
       " 4.5088635960858268,\n",
       " 2.1636787153466845,\n",
       " 2.9252014175656895,\n",
       " 1.2714572119583154,\n",
       " -1.2397283437790576,\n",
       " 1.1473750541095658,\n",
       " -5.0603286540363897,\n",
       " 0.61464707831522303,\n",
       " 3.9169245017617396,\n",
       " 3.0822881329618417,\n",
       " 2.6301259267556714,\n",
       " 2.885045715046036,\n",
       " 0.61924742041874237,\n",
       " 0.61500877998779868,\n",
       " 0.48938310732124551,\n",
       " 0.45199656626553497,\n",
       " 3.2400698135823482,\n",
       " 1.6629538458272013,\n",
       " 1.7346386421666795,\n",
       " -0.78170598711648709,\n",
       " 0.81912717738331886,\n",
       " 1.9841174998482651,\n",
       " 4.5096794446833792,\n",
       " 2.209130272059407,\n",
       " 4.7596087250734858,\n",
       " -1.6274232011278553,\n",
       " 3.8024965804204847,\n",
       " 3.7063985845799561,\n",
       " 0.038684493779472834,\n",
       " 1.3943925603071543,\n",
       " -0.98533538427955103,\n",
       " 3.6962931646068151,\n",
       " 2.3274296836853727,\n",
       " 3.7317839726766255,\n",
       " 1.9262183928913235,\n",
       " 2.5147111252060759,\n",
       " 3.8592166060689559,\n",
       " 2.4363169805411249,\n",
       " 1.2636528911326188,\n",
       " 1.3199404780059625,\n",
       " -0.32218517411373049,\n",
       " -2.7148288532607761,\n",
       " -71.340881584978902,\n",
       " 1.4027948977366824,\n",
       " 2.5544538642068053,\n",
       " 0.7880856261794621,\n",
       " 1.9955988668275155,\n",
       " 3.7774400971281694,\n",
       " -57.666056849914476,\n",
       " 2.8392369680737142,\n",
       " -2.0123179366659536,\n",
       " -1.0601446800638821,\n",
       " 3.4458930807964943,\n",
       " 5.4622614427127605,\n",
       " 1.539989675847069,\n",
       " 3.6412727768445885,\n",
       " 3.932821966567404,\n",
       " 3.1156419898481649,\n",
       " 3.9573768451772802,\n",
       " 3.1895920661743049,\n",
       " 1.0619608971170391,\n",
       " -1.4381708559699071,\n",
       " 1.9953780384879667,\n",
       " -0.59336947497358927,\n",
       " 4.6628454135368376,\n",
       " 4.9010463802331321,\n",
       " 5.3551951028744798,\n",
       " 2.4937490032210325,\n",
       " 1.135577401700389,\n",
       " 0.55014329500388104,\n",
       " 5.8324513953720611,\n",
       " -1.1080665072112561]"
      ]
     },
     "execution_count": 7,
     "metadata": {},
     "output_type": "execute_result"
    }
   ],
   "source": [
    "x1"
   ]
  },
  {
   "cell_type": "code",
   "execution_count": 8,
   "metadata": {
    "collapsed": false
   },
   "outputs": [
    {
     "ename": "ImportError",
     "evalue": "No module named mp_toolkits.mplot3d",
     "output_type": "error",
     "traceback": [
      "\u001b[0;31m---------------------------------------------------------------------------\u001b[0m",
      "\u001b[0;31mImportError\u001b[0m                               Traceback (most recent call last)",
      "\u001b[0;32m<ipython-input-8-5c34743ab230>\u001b[0m in \u001b[0;36m<module>\u001b[0;34m()\u001b[0m\n\u001b[0;32m----> 1\u001b[0;31m \u001b[1;32mfrom\u001b[0m \u001b[0mmp_toolkits\u001b[0m\u001b[1;33m.\u001b[0m\u001b[0mmplot3d\u001b[0m \u001b[1;32mimport\u001b[0m \u001b[0maxes3d\u001b[0m\u001b[1;33m\u001b[0m\u001b[0m\n\u001b[0m",
      "\u001b[0;31mImportError\u001b[0m: No module named mp_toolkits.mplot3d"
     ]
    }
   ],
   "source": [
    "from mp_toolkits.mplot3d import axes3d"
   ]
  },
  {
   "cell_type": "code",
   "execution_count": 9,
   "metadata": {
    "collapsed": true
   },
   "outputs": [],
   "source": [
    "from mpl_toolkits.mplot3d import axes3d"
   ]
  },
  {
   "cell_type": "code",
   "execution_count": 10,
   "metadata": {
    "collapsed": false
   },
   "outputs": [
    {
     "data": {
      "text/plain": [
       "<matplotlib.figure.Figure at 0xe8a25f8>"
      ]
     },
     "execution_count": 10,
     "metadata": {},
     "output_type": "execute_result"
    }
   ],
   "source": [
    "fig = plt.figure()\n",
    "fig"
   ]
  },
  {
   "cell_type": "code",
   "execution_count": 11,
   "metadata": {
    "collapsed": false
   },
   "outputs": [
    {
     "name": "stderr",
     "output_type": "stream",
     "text": [
      "F:\\Users\\Kabir\\Anaconda2\\lib\\site-packages\\matplotlib\\figure.py:397: UserWarning: matplotlib is currently using a non-GUI backend, so cannot show the figure\n",
      "  \"matplotlib is currently using a non-GUI backend, \"\n"
     ]
    }
   ],
   "source": [
    "fig.show()"
   ]
  },
  {
   "cell_type": "code",
   "execution_count": 12,
   "metadata": {
    "collapsed": false
   },
   "outputs": [
    {
     "data": {
      "image/png": "[encoded data removed]",
      "text/plain": [
       "<matplotlib.figure.Figure at 0xe8a25f8>"
      ]
     },
     "metadata": {},
     "output_type": "display_data"
    }
   ],
   "source": [
    "ax1 = fig.add_subplot(111,projection='3d')\n",
    "ax1.scatter(x1,x2,x3)\n",
    "plt.show()"
   ]
  },
  {
   "cell_type": "code",
   "execution_count": 13,
   "metadata": {
    "collapsed": false
   },
   "outputs": [
    {
     "name": "stderr",
     "output_type": "stream",
     "text": [
      "F:\\Users\\Kabir\\Anaconda2\\lib\\site-packages\\matplotlib\\axes\\_axes.py:531: UserWarning: No labelled objects found. Use label='...' kwarg on individual plots.\n",
      "  warnings.warn(\"No labelled objects found. \"\n"
     ]
    },
    {
     "data": {
      "image/png": "[encoded data removed]",
      "text/plain": [
       "<matplotlib.figure.Figure at 0xebf0240>"
      ]
     },
     "metadata": {},
     "output_type": "display_data"
    }
   ],
   "source": [
    "ax1 = fig.add_subplot(111,projection='3d')\n",
    "ax1.scatter(x1,x2,x3,label = 'Safe')\n",
    "ax1.scatter(x11,x21,x31,label = 'Risk',color='r')\n",
    "plt.legend()\n",
    "plt.show()"
   ]
  },
  {
   "cell_type": "code",
   "execution_count": 14,
   "metadata": {
    "collapsed": false
   },
   "outputs": [
    {
     "data": {
      "image/png": "[encoded data removed]",
      "text/plain": [
       "<matplotlib.figure.Figure at 0x106dc048>"
      ]
     },
     "metadata": {},
     "output_type": "display_data"
    }
   ],
   "source": [
    "ax1 = fig.add_subplot(111,projection='3d')\n",
    "ax1.scatter(x1,x2,x3)\n",
    "ax1.scatter(x11,x21,x31,color='r')\n",
    "plt.legend()\n",
    "plt.show()"
   ]
  },
  {
   "cell_type": "code",
   "execution_count": 15,
   "metadata": {
    "collapsed": true
   },
   "outputs": [],
   "source": [
    "ax1 = fig.add_subplot(111,projection='3d')\n",
    "ax1.scatter(x1,x2,x3)\n",
    "ax1.scatter(x11,x21,x31,color='r')\n",
    "\n",
    "plt.show()"
   ]
  },
  {
   "cell_type": "code",
   "execution_count": 16,
   "metadata": {
    "collapsed": false
   },
   "outputs": [
    {
     "ename": "AttributeError",
     "evalue": "'Axes3DSubplot' object has no attribute 'show'",
     "output_type": "error",
     "traceback": [
      "\u001b[0;31m---------------------------------------------------------------------------\u001b[0m",
      "\u001b[0;31mAttributeError\u001b[0m                            Traceback (most recent call last)",
      "\u001b[0;32m<ipython-input-16-317815568c78>\u001b[0m in \u001b[0;36m<module>\u001b[0;34m()\u001b[0m\n\u001b[0;32m----> 1\u001b[0;31m \u001b[0max1\u001b[0m\u001b[1;33m.\u001b[0m\u001b[0mshow\u001b[0m\u001b[1;33m(\u001b[0m\u001b[1;33m)\u001b[0m\u001b[1;33m\u001b[0m\u001b[0m\n\u001b[0m",
      "\u001b[0;31mAttributeError\u001b[0m: 'Axes3DSubplot' object has no attribute 'show'"
     ]
    }
   ],
   "source": [
    "ax1.show()"
   ]
  },
  {
   "cell_type": "code",
   "execution_count": null,
   "metadata": {
    "collapsed": true
   },
   "outputs": [],
   "source": []
  }
 ],
 "metadata": {
  "kernelspec": {
   "display_name": "Python [default]",
   "language": "python",
   "name": "python2"
  },
  "language_info": {
   "codemirror_mode": {
    "name": "ipython",
    "version": 2
   },
   "file_extension": ".py",
   "mimetype": "text/x-python",
   "name": "python",
   "nbconvert_exporter": "python",
   "pygments_lexer": "ipython2",
   "version": "2.7.12"
  }
 },
 "nbformat": 4,
 "nbformat_minor": 1
}
